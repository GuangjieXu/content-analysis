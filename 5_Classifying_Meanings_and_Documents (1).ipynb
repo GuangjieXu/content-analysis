{
  "cells": [
    {
      "cell_type": "markdown",
      "metadata": {
        "id": "_37ujWWRZut-"
      },
      "source": [
        "# Week 5 - Classifying Meanings & Documents (With Machine Learning)\n",
        "\n",
        "Recall that Week 1 of this course focused on how to find and extract text data, while weeks 2 through 4 each covered a different type of content representations:\n",
        "\n",
        "2. computational linguistics (e.g., keyword count)\n",
        "3. clustering and topic modeling (e.g., LDA)\n",
        "4. embeddings (e.g., _word2vec_)\n",
        "\n",
        "Now we show how classification, arguably the most common social science task, can be done with different representations. Note that the second representation, *clustering*, allows us to stably partition text data (e.g., documents, turns of conversation) according to all patterns of covariation among available text features. Classification, by contrast, partitions text data according to only those features and their variation that enable us to mimic and extrapolate human annotations.\n",
        "\n",
        "We will show how to use a variety of classification methods, including Logistic regression, K-nearest neighbor, decision trees and random forests, support vector machines and even a simple neural network, the perceptron. We will also demonstrate ensemble techniques that can link several such methods into a single, more accurate, classification pipeline. We will finally learn to use conventions and metrics to evaluate classifier performance on out-of-sample data."
      ]
    },
    {
      "cell_type": "code",
      "source": [
        "# run if on Colab\n",
        "from google.colab import drive\n",
        "drive.mount('/content/drive')"
      ],
      "metadata": {
        "id": "jZfJyzpmabtw"
      },
      "execution_count": null,
      "outputs": []
    },
    {
      "cell_type": "code",
      "execution_count": 1,
      "metadata": {
        "id": "CHnHFavUZut_",
        "colab": {
          "base_uri": "https://localhost:8080/"
        },
        "outputId": "96f42843-356f-4b8e-8181-8e650eff1d97"
      },
      "outputs": [
        {
          "output_type": "stream",
          "name": "stdout",
          "text": [
            "Collecting git+https://github.com/UChicago-Computational-Content-Analysis/lucem_illud.git\n",
            "  Cloning https://github.com/UChicago-Computational-Content-Analysis/lucem_illud.git to /tmp/pip-req-build-ztsgowui\n",
            "  Running command git clone --filter=blob:none --quiet https://github.com/UChicago-Computational-Content-Analysis/lucem_illud.git /tmp/pip-req-build-ztsgowui\n",
            "  Resolved https://github.com/UChicago-Computational-Content-Analysis/lucem_illud.git to commit b17a265d3b8253424e5b38872457f7437909a65d\n",
            "  Preparing metadata (setup.py) ... \u001b[?25l\u001b[?25hdone\n",
            "Requirement already satisfied: numpy in /usr/local/lib/python3.10/dist-packages (from lucem-illud==8.0.1) (1.23.5)\n",
            "Requirement already satisfied: requests in /usr/local/lib/python3.10/dist-packages (from lucem-illud==8.0.1) (2.31.0)\n",
            "Requirement already satisfied: pandas in /usr/local/lib/python3.10/dist-packages (from lucem-illud==8.0.1) (1.5.3)\n",
            "Collecting python-docx (from lucem-illud==8.0.1)\n",
            "  Downloading python_docx-1.1.0-py3-none-any.whl (239 kB)\n",
            "\u001b[2K     \u001b[90m━━━━━━━━━━━━━━━━━━━━━━━━━━━━━━━━━━━━━━━━\u001b[0m \u001b[32m239.6/239.6 kB\u001b[0m \u001b[31m4.5 MB/s\u001b[0m eta \u001b[36m0:00:00\u001b[0m\n",
            "\u001b[?25hRequirement already satisfied: pillow in /usr/local/lib/python3.10/dist-packages (from lucem-illud==8.0.1) (9.4.0)\n",
            "Collecting pdfminer2 (from lucem-illud==8.0.1)\n",
            "  Downloading pdfminer2-20151206-py2.py3-none-any.whl (117 kB)\n",
            "\u001b[2K     \u001b[90m━━━━━━━━━━━━━━━━━━━━━━━━━━━━━━━━━━━━━━━━\u001b[0m \u001b[32m117.8/117.8 kB\u001b[0m \u001b[31m6.8 MB/s\u001b[0m eta \u001b[36m0:00:00\u001b[0m\n",
            "\u001b[?25hCollecting GitPython (from lucem-illud==8.0.1)\n",
            "  Downloading GitPython-3.1.41-py3-none-any.whl (196 kB)\n",
            "\u001b[2K     \u001b[90m━━━━━━━━━━━━━━━━━━━━━━━━━━━━━━━━━━━━━━━━\u001b[0m \u001b[32m196.4/196.4 kB\u001b[0m \u001b[31m7.3 MB/s\u001b[0m eta \u001b[36m0:00:00\u001b[0m\n",
            "\u001b[?25hRequirement already satisfied: wordcloud in /usr/local/lib/python3.10/dist-packages (from lucem-illud==8.0.1) (1.9.3)\n",
            "Requirement already satisfied: scipy in /usr/local/lib/python3.10/dist-packages (from lucem-illud==8.0.1) (1.11.4)\n",
            "Requirement already satisfied: seaborn in /usr/local/lib/python3.10/dist-packages (from lucem-illud==8.0.1) (0.13.1)\n",
            "Requirement already satisfied: scikit-learn in /usr/local/lib/python3.10/dist-packages (from lucem-illud==8.0.1) (1.2.2)\n",
            "Requirement already satisfied: nltk in /usr/local/lib/python3.10/dist-packages (from lucem-illud==8.0.1) (3.8.1)\n",
            "Requirement already satisfied: gensim in /usr/local/lib/python3.10/dist-packages (from lucem-illud==8.0.1) (4.3.2)\n",
            "Requirement already satisfied: matplotlib in /usr/local/lib/python3.10/dist-packages (from lucem-illud==8.0.1) (3.7.1)\n",
            "Collecting pyanno3 (from lucem-illud==8.0.1)\n",
            "  Downloading pyanno3-2.0.2.tar.gz (76 kB)\n",
            "\u001b[2K     \u001b[90m━━━━━━━━━━━━━━━━━━━━━━━━━━━━━━━━━━━━━━━━\u001b[0m \u001b[32m76.8/76.8 kB\u001b[0m \u001b[31m9.0 MB/s\u001b[0m eta \u001b[36m0:00:00\u001b[0m\n",
            "\u001b[?25h  Preparing metadata (setup.py) ... \u001b[?25l\u001b[?25hdone\n",
            "Requirement already satisfied: beautifulsoup4 in /usr/local/lib/python3.10/dist-packages (from lucem-illud==8.0.1) (4.12.3)\n",
            "Requirement already satisfied: graphviz in /usr/local/lib/python3.10/dist-packages (from lucem-illud==8.0.1) (0.20.1)\n",
            "Collecting boto3 (from lucem-illud==8.0.1)\n",
            "  Downloading boto3-1.34.36-py3-none-any.whl (139 kB)\n",
            "\u001b[2K     \u001b[90m━━━━━━━━━━━━━━━━━━━━━━━━━━━━━━━━━━━━━━━━\u001b[0m \u001b[32m139.3/139.3 kB\u001b[0m \u001b[31m8.4 MB/s\u001b[0m eta \u001b[36m0:00:00\u001b[0m\n",
            "\u001b[?25hRequirement already satisfied: networkx in /usr/local/lib/python3.10/dist-packages (from lucem-illud==8.0.1) (3.2.1)\n",
            "Collecting pydub (from lucem-illud==8.0.1)\n",
            "  Downloading pydub-0.25.1-py2.py3-none-any.whl (32 kB)\n",
            "Collecting speechrecognition (from lucem-illud==8.0.1)\n",
            "  Downloading SpeechRecognition-3.10.1-py2.py3-none-any.whl (32.8 MB)\n",
            "\u001b[2K     \u001b[90m━━━━━━━━━━━━━━━━━━━━━━━━━━━━━━━━━━━━━━━━\u001b[0m \u001b[32m32.8/32.8 MB\u001b[0m \u001b[31m21.8 MB/s\u001b[0m eta \u001b[36m0:00:00\u001b[0m\n",
            "\u001b[?25hCollecting pysoundfile (from lucem-illud==8.0.1)\n",
            "  Downloading PySoundFile-0.9.0.post1-py2.py3-none-any.whl (24 kB)\n",
            "Requirement already satisfied: scikit-image in /usr/local/lib/python3.10/dist-packages (from lucem-illud==8.0.1) (0.19.3)\n",
            "Requirement already satisfied: IPython in /usr/local/lib/python3.10/dist-packages (from lucem-illud==8.0.1) (7.34.0)\n",
            "Requirement already satisfied: spacy in /usr/local/lib/python3.10/dist-packages (from lucem-illud==8.0.1) (3.7.2)\n",
            "Requirement already satisfied: soupsieve>1.2 in /usr/local/lib/python3.10/dist-packages (from beautifulsoup4->lucem-illud==8.0.1) (2.5)\n",
            "Collecting botocore<1.35.0,>=1.34.36 (from boto3->lucem-illud==8.0.1)\n",
            "  Downloading botocore-1.34.36-py3-none-any.whl (11.9 MB)\n",
            "\u001b[2K     \u001b[90m━━━━━━━━━━━━━━━━━━━━━━━━━━━━━━━━━━━━━━━━\u001b[0m \u001b[32m11.9/11.9 MB\u001b[0m \u001b[31m42.2 MB/s\u001b[0m eta \u001b[36m0:00:00\u001b[0m\n",
            "\u001b[?25hCollecting jmespath<2.0.0,>=0.7.1 (from boto3->lucem-illud==8.0.1)\n",
            "  Downloading jmespath-1.0.1-py3-none-any.whl (20 kB)\n",
            "Collecting s3transfer<0.11.0,>=0.10.0 (from boto3->lucem-illud==8.0.1)\n",
            "  Downloading s3transfer-0.10.0-py3-none-any.whl (82 kB)\n",
            "\u001b[2K     \u001b[90m━━━━━━━━━━━━━━━━━━━━━━━━━━━━━━━━━━━━━━━━\u001b[0m \u001b[32m82.1/82.1 kB\u001b[0m \u001b[31m7.7 MB/s\u001b[0m eta \u001b[36m0:00:00\u001b[0m\n",
            "\u001b[?25hRequirement already satisfied: smart-open>=1.8.1 in /usr/local/lib/python3.10/dist-packages (from gensim->lucem-illud==8.0.1) (6.4.0)\n",
            "Collecting gitdb<5,>=4.0.1 (from GitPython->lucem-illud==8.0.1)\n",
            "  Downloading gitdb-4.0.11-py3-none-any.whl (62 kB)\n",
            "\u001b[2K     \u001b[90m━━━━━━━━━━━━━━━━━━━━━━━━━━━━━━━━━━━━━━━━\u001b[0m \u001b[32m62.7/62.7 kB\u001b[0m \u001b[31m5.6 MB/s\u001b[0m eta \u001b[36m0:00:00\u001b[0m\n",
            "\u001b[?25hRequirement already satisfied: setuptools>=18.5 in /usr/local/lib/python3.10/dist-packages (from IPython->lucem-illud==8.0.1) (67.7.2)\n",
            "Collecting jedi>=0.16 (from IPython->lucem-illud==8.0.1)\n",
            "  Downloading jedi-0.19.1-py2.py3-none-any.whl (1.6 MB)\n",
            "\u001b[2K     \u001b[90m━━━━━━━━━━━━━━━━━━━━━━━━━━━━━━━━━━━━━━━━\u001b[0m \u001b[32m1.6/1.6 MB\u001b[0m \u001b[31m24.0 MB/s\u001b[0m eta \u001b[36m0:00:00\u001b[0m\n",
            "\u001b[?25hRequirement already satisfied: decorator in /usr/local/lib/python3.10/dist-packages (from IPython->lucem-illud==8.0.1) (4.4.2)\n",
            "Requirement already satisfied: pickleshare in /usr/local/lib/python3.10/dist-packages (from IPython->lucem-illud==8.0.1) (0.7.5)\n",
            "Requirement already satisfied: traitlets>=4.2 in /usr/local/lib/python3.10/dist-packages (from IPython->lucem-illud==8.0.1) (5.7.1)\n",
            "Requirement already satisfied: prompt-toolkit!=3.0.0,!=3.0.1,<3.1.0,>=2.0.0 in /usr/local/lib/python3.10/dist-packages (from IPython->lucem-illud==8.0.1) (3.0.43)\n",
            "Requirement already satisfied: pygments in /usr/local/lib/python3.10/dist-packages (from IPython->lucem-illud==8.0.1) (2.16.1)\n",
            "Requirement already satisfied: backcall in /usr/local/lib/python3.10/dist-packages (from IPython->lucem-illud==8.0.1) (0.2.0)\n",
            "Requirement already satisfied: matplotlib-inline in /usr/local/lib/python3.10/dist-packages (from IPython->lucem-illud==8.0.1) (0.1.6)\n",
            "Requirement already satisfied: pexpect>4.3 in /usr/local/lib/python3.10/dist-packages (from IPython->lucem-illud==8.0.1) (4.9.0)\n",
            "Requirement already satisfied: contourpy>=1.0.1 in /usr/local/lib/python3.10/dist-packages (from matplotlib->lucem-illud==8.0.1) (1.2.0)\n",
            "Requirement already satisfied: cycler>=0.10 in /usr/local/lib/python3.10/dist-packages (from matplotlib->lucem-illud==8.0.1) (0.12.1)\n",
            "Requirement already satisfied: fonttools>=4.22.0 in /usr/local/lib/python3.10/dist-packages (from matplotlib->lucem-illud==8.0.1) (4.47.2)\n",
            "Requirement already satisfied: kiwisolver>=1.0.1 in /usr/local/lib/python3.10/dist-packages (from matplotlib->lucem-illud==8.0.1) (1.4.5)\n",
            "Requirement already satisfied: packaging>=20.0 in /usr/local/lib/python3.10/dist-packages (from matplotlib->lucem-illud==8.0.1) (23.2)\n",
            "Requirement already satisfied: pyparsing>=2.3.1 in /usr/local/lib/python3.10/dist-packages (from matplotlib->lucem-illud==8.0.1) (3.1.1)\n",
            "Requirement already satisfied: python-dateutil>=2.7 in /usr/local/lib/python3.10/dist-packages (from matplotlib->lucem-illud==8.0.1) (2.8.2)\n",
            "Requirement already satisfied: click in /usr/local/lib/python3.10/dist-packages (from nltk->lucem-illud==8.0.1) (8.1.7)\n",
            "Requirement already satisfied: joblib in /usr/local/lib/python3.10/dist-packages (from nltk->lucem-illud==8.0.1) (1.3.2)\n",
            "Requirement already satisfied: regex>=2021.8.3 in /usr/local/lib/python3.10/dist-packages (from nltk->lucem-illud==8.0.1) (2023.12.25)\n",
            "Requirement already satisfied: tqdm in /usr/local/lib/python3.10/dist-packages (from nltk->lucem-illud==8.0.1) (4.66.1)\n",
            "Requirement already satisfied: pytz>=2020.1 in /usr/local/lib/python3.10/dist-packages (from pandas->lucem-illud==8.0.1) (2023.4)\n",
            "Requirement already satisfied: six in /usr/local/lib/python3.10/dist-packages (from pdfminer2->lucem-illud==8.0.1) (1.16.0)\n",
            "Collecting traits (from pyanno3->lucem-illud==8.0.1)\n",
            "  Downloading traits-6.4.3-cp310-cp310-manylinux_2_5_x86_64.manylinux1_x86_64.manylinux_2_17_x86_64.manylinux2014_x86_64.whl (5.1 MB)\n",
            "\u001b[2K     \u001b[90m━━━━━━━━━━━━━━━━━━━━━━━━━━━━━━━━━━━━━━━━\u001b[0m \u001b[32m5.1/5.1 MB\u001b[0m \u001b[31m12.9 MB/s\u001b[0m eta \u001b[36m0:00:00\u001b[0m\n",
            "\u001b[?25hRequirement already satisfied: cffi>=0.6 in /usr/local/lib/python3.10/dist-packages (from pysoundfile->lucem-illud==8.0.1) (1.16.0)\n",
            "Requirement already satisfied: lxml>=3.1.0 in /usr/local/lib/python3.10/dist-packages (from python-docx->lucem-illud==8.0.1) (4.9.4)\n",
            "Requirement already satisfied: typing-extensions in /usr/local/lib/python3.10/dist-packages (from python-docx->lucem-illud==8.0.1) (4.9.0)\n",
            "Requirement already satisfied: charset-normalizer<4,>=2 in /usr/local/lib/python3.10/dist-packages (from requests->lucem-illud==8.0.1) (3.3.2)\n",
            "Requirement already satisfied: idna<4,>=2.5 in /usr/local/lib/python3.10/dist-packages (from requests->lucem-illud==8.0.1) (3.6)\n",
            "Requirement already satisfied: urllib3<3,>=1.21.1 in /usr/local/lib/python3.10/dist-packages (from requests->lucem-illud==8.0.1) (2.0.7)\n",
            "Requirement already satisfied: certifi>=2017.4.17 in /usr/local/lib/python3.10/dist-packages (from requests->lucem-illud==8.0.1) (2024.2.2)\n",
            "Requirement already satisfied: imageio>=2.4.1 in /usr/local/lib/python3.10/dist-packages (from scikit-image->lucem-illud==8.0.1) (2.31.6)\n",
            "Requirement already satisfied: tifffile>=2019.7.26 in /usr/local/lib/python3.10/dist-packages (from scikit-image->lucem-illud==8.0.1) (2024.1.30)\n",
            "Requirement already satisfied: PyWavelets>=1.1.1 in /usr/local/lib/python3.10/dist-packages (from scikit-image->lucem-illud==8.0.1) (1.5.0)\n",
            "Requirement already satisfied: threadpoolctl>=2.0.0 in /usr/local/lib/python3.10/dist-packages (from scikit-learn->lucem-illud==8.0.1) (3.2.0)\n",
            "Requirement already satisfied: spacy-legacy<3.1.0,>=3.0.11 in /usr/local/lib/python3.10/dist-packages (from spacy->lucem-illud==8.0.1) (3.0.12)\n",
            "Requirement already satisfied: spacy-loggers<2.0.0,>=1.0.0 in /usr/local/lib/python3.10/dist-packages (from spacy->lucem-illud==8.0.1) (1.0.5)\n",
            "Requirement already satisfied: murmurhash<1.1.0,>=0.28.0 in /usr/local/lib/python3.10/dist-packages (from spacy->lucem-illud==8.0.1) (1.0.10)\n",
            "Requirement already satisfied: cymem<2.1.0,>=2.0.2 in /usr/local/lib/python3.10/dist-packages (from spacy->lucem-illud==8.0.1) (2.0.8)\n",
            "Requirement already satisfied: preshed<3.1.0,>=3.0.2 in /usr/local/lib/python3.10/dist-packages (from spacy->lucem-illud==8.0.1) (3.0.9)\n",
            "Requirement already satisfied: thinc<8.3.0,>=8.1.8 in /usr/local/lib/python3.10/dist-packages (from spacy->lucem-illud==8.0.1) (8.2.2)\n",
            "Requirement already satisfied: wasabi<1.2.0,>=0.9.1 in /usr/local/lib/python3.10/dist-packages (from spacy->lucem-illud==8.0.1) (1.1.2)\n",
            "Requirement already satisfied: srsly<3.0.0,>=2.4.3 in /usr/local/lib/python3.10/dist-packages (from spacy->lucem-illud==8.0.1) (2.4.8)\n",
            "Requirement already satisfied: catalogue<2.1.0,>=2.0.6 in /usr/local/lib/python3.10/dist-packages (from spacy->lucem-illud==8.0.1) (2.0.10)\n",
            "Requirement already satisfied: weasel<0.4.0,>=0.1.0 in /usr/local/lib/python3.10/dist-packages (from spacy->lucem-illud==8.0.1) (0.3.4)\n",
            "Requirement already satisfied: typer<0.10.0,>=0.3.0 in /usr/local/lib/python3.10/dist-packages (from spacy->lucem-illud==8.0.1) (0.9.0)\n",
            "Requirement already satisfied: pydantic!=1.8,!=1.8.1,<3.0.0,>=1.7.4 in /usr/local/lib/python3.10/dist-packages (from spacy->lucem-illud==8.0.1) (2.6.0)\n",
            "Requirement already satisfied: jinja2 in /usr/local/lib/python3.10/dist-packages (from spacy->lucem-illud==8.0.1) (3.1.3)\n",
            "Requirement already satisfied: langcodes<4.0.0,>=3.2.0 in /usr/local/lib/python3.10/dist-packages (from spacy->lucem-illud==8.0.1) (3.3.0)\n",
            "Requirement already satisfied: pycparser in /usr/local/lib/python3.10/dist-packages (from cffi>=0.6->pysoundfile->lucem-illud==8.0.1) (2.21)\n",
            "Collecting smmap<6,>=3.0.1 (from gitdb<5,>=4.0.1->GitPython->lucem-illud==8.0.1)\n",
            "  Downloading smmap-5.0.1-py3-none-any.whl (24 kB)\n",
            "Requirement already satisfied: parso<0.9.0,>=0.8.3 in /usr/local/lib/python3.10/dist-packages (from jedi>=0.16->IPython->lucem-illud==8.0.1) (0.8.3)\n",
            "Requirement already satisfied: ptyprocess>=0.5 in /usr/local/lib/python3.10/dist-packages (from pexpect>4.3->IPython->lucem-illud==8.0.1) (0.7.0)\n",
            "Requirement already satisfied: wcwidth in /usr/local/lib/python3.10/dist-packages (from prompt-toolkit!=3.0.0,!=3.0.1,<3.1.0,>=2.0.0->IPython->lucem-illud==8.0.1) (0.2.13)\n",
            "Requirement already satisfied: annotated-types>=0.4.0 in /usr/local/lib/python3.10/dist-packages (from pydantic!=1.8,!=1.8.1,<3.0.0,>=1.7.4->spacy->lucem-illud==8.0.1) (0.6.0)\n",
            "Requirement already satisfied: pydantic-core==2.16.1 in /usr/local/lib/python3.10/dist-packages (from pydantic!=1.8,!=1.8.1,<3.0.0,>=1.7.4->spacy->lucem-illud==8.0.1) (2.16.1)\n",
            "Requirement already satisfied: blis<0.8.0,>=0.7.8 in /usr/local/lib/python3.10/dist-packages (from thinc<8.3.0,>=8.1.8->spacy->lucem-illud==8.0.1) (0.7.11)\n",
            "Requirement already satisfied: confection<1.0.0,>=0.0.1 in /usr/local/lib/python3.10/dist-packages (from thinc<8.3.0,>=8.1.8->spacy->lucem-illud==8.0.1) (0.1.4)\n",
            "Requirement already satisfied: cloudpathlib<0.17.0,>=0.7.0 in /usr/local/lib/python3.10/dist-packages (from weasel<0.4.0,>=0.1.0->spacy->lucem-illud==8.0.1) (0.16.0)\n",
            "Requirement already satisfied: MarkupSafe>=2.0 in /usr/local/lib/python3.10/dist-packages (from jinja2->spacy->lucem-illud==8.0.1) (2.1.5)\n",
            "Building wheels for collected packages: lucem-illud, pyanno3\n",
            "  Building wheel for lucem-illud (setup.py) ... \u001b[?25l\u001b[?25hdone\n",
            "  Created wheel for lucem-illud: filename=lucem_illud-8.0.1-py3-none-any.whl size=34989 sha256=d67bdbf47f3138d259544380e1d4b46405e0af0710f511939e7eba402ededc3d\n",
            "  Stored in directory: /tmp/pip-ephem-wheel-cache-ldrbmnen/wheels/4c/84/7b/d89dec34fb910351cf618bf262d1c926f9f68779ef24028427\n",
            "  Building wheel for pyanno3 (setup.py) ... \u001b[?25l\u001b[?25hdone\n",
            "  Created wheel for pyanno3: filename=pyanno3-2.0.2-py3-none-any.whl size=116965 sha256=70279d1061fbd41a6445622ab5f3d18de1982d03b38f6097f1f8d70ebdae4802\n",
            "  Stored in directory: /root/.cache/pip/wheels/ce/0c/9f/21212c187c1edb1647c18e0a24b6b213b3bb7dee5aa94bfd72\n",
            "Successfully built lucem-illud pyanno3\n",
            "Installing collected packages: pydub, traits, smmap, python-docx, pdfminer2, jmespath, jedi, speechrecognition, pysoundfile, pyanno3, gitdb, botocore, s3transfer, GitPython, boto3, lucem-illud\n",
            "Successfully installed GitPython-3.1.41 boto3-1.34.36 botocore-1.34.36 gitdb-4.0.11 jedi-0.19.1 jmespath-1.0.1 lucem-illud-8.0.1 pdfminer2-20151206 pyanno3-2.0.2 pydub-0.25.1 pysoundfile-0.9.0.post1 python-docx-1.1.0 s3transfer-0.10.0 smmap-5.0.1 speechrecognition-3.10.1 traits-6.4.3\n"
          ]
        }
      ],
      "source": [
        "#Special module written for this class\n",
        "#This provides access to data and to helper functions from previous weeks\n",
        "#Make sure you update it before starting this notebook\n",
        "!pip install -U git+https://github.com/UChicago-Computational-Content-Analysis/lucem_illud.git\n",
        "import lucem_illud\n",
        "\n",
        "#All these packages need to be installed from pip\n",
        "#For ML\n",
        "import sklearn\n",
        "# import sklearn.naive_bayes\n",
        "import sklearn.tree\n",
        "import sklearn.ensemble\n",
        "import sklearn.neural_network\n",
        "import sklearn.decomposition\n",
        "\n",
        "import numpy as np #arrays\n",
        "import matplotlib.pyplot as plt #Plots\n",
        "import matplotlib.colors # For nice colours\n",
        "import seaborn #Makes plots look nice, also heatmaps\n",
        "import scipy as sp #for interp\n",
        "\n",
        "import pyanno #On python3 make sure to pip install pyanno3\n",
        "\n",
        "#We need to import these this way due to how pyanno is setup\n",
        "from pyanno.measures import pairwise_matrix, agreement, cohens_kappa, cohens_weighted_kappa, fleiss_kappa, krippendorffs_alpha, pearsons_rho, scotts_pi, spearmans_rho\n",
        "from pyanno.annotations import AnnotationsContainer\n",
        "from pyanno.models import ModelA, ModelBt, ModelB\n",
        "\n",
        "from functools import reduce\n",
        "from itertools import permutations\n",
        "import math\n",
        "\n",
        "#These are from the standard library\n",
        "import collections\n",
        "import os\n",
        "import os.path\n",
        "import random\n",
        "import re\n",
        "import glob\n",
        "import pandas\n",
        "import requests\n",
        "import json\n",
        "import math\n",
        "\n",
        "#This 'magic' command makes the plots work better\n",
        "#in the notebook, don't use it outside of a notebook.\n",
        "#Also you can ignore the warning\n",
        "%matplotlib inline"
      ]
    },
    {
      "cell_type": "markdown",
      "metadata": {
        "id": "ygXcTc6RZuuA"
      },
      "source": [
        "# Annotations"
      ]
    },
    {
      "cell_type": "markdown",
      "metadata": {
        "id": "sXxeT2E0ZuuA"
      },
      "source": [
        "This is a course on \"computational\" content analysis, but the best computer today is arguably still the human brain (We'll see how far Large Language Models can go). Our aim is to augment human intelligence and scholarship. One of the most important strategies is to have real, live _Homo sapiens_ annotate text, assigning numbers or categories to individual texts. We can computationally compare annotations across humans, and we can use annotations to train computational models.\n",
        "\n",
        "Let's take a quick look at Rzhetsky et al (2009)'s sample dataset, which can be found [here](https://github.com/enthought/uchicago-pyanno/tree/master/data). This data is the result of a content analytic / content extraction study in which Andrey Rzhetsky and colleagues from the National Library of Medicine, published [here](http://journals.plos.org/ploscompbiol/article?id=10.1371/journal.pcbi.1000391) in [PLOS Computational Biology](http://journals.plos.org/ploscompbiol/), gave eight annotators 10,000 sentence chunks from biomedical text in biomedical abstracts and articles, then asked them, in a loop design schematically illustrated below that provided 3 independent codings for each document. The sampling strategy pursued diversity by drawing from PubMed abstracts (1000) and full-text articles (9000: 20% from abstracts, 10% from introductions, 20% from methods, 25% from results, and 25% from discussions.) The dataset extract here involves respondents codes for sentences in terms of their *Evidence*: {0, 1, 2, 3, -1} where 0 is the complete lack of evidence, 3 is direct evidence present within the sentence, and -1 is didn't respond. (They also crowdsourced and analyzed *polarity*, *certainty*, and *number*). For example, consider the following two abutting sentence chunks: *\"Because null mutations in toxR and toxT abolish CT and TcpA expression in the El Tor biotype and also attenuate virulence...\"* [i.e., average certainty = 0], *\"...it is likely that the ToxR regulon has functional similarities between the two biotypes despite the clear differences in the inducing parameters observed in vitro\"* [i.e., average certainty = 1].\""
      ]
    },
    {
      "cell_type": "markdown",
      "metadata": {
        "id": "KMO0_lpWZuuA"
      },
      "source": [
        "<img src=\"https://github.com/UChicago-Computational-Content-Analysis/Homework-Notebooks/blob/main/data/loopdesign.png?raw=true\" alt=\"https://github.com/UChicago-Computational-Content-Analysis/Homework-Notebooks/blob/main/data/loopdesign.png?raw=true\" style=\"width:500px\">"
      ]
    },
    {
      "cell_type": "code",
      "execution_count": null,
      "metadata": {
        "id": "vi12GI42ZuuA"
      },
      "outputs": [],
      "source": [
        "# Remember if you are on Google Colab, you need to upload or `git clone` the datafile\n",
        "# and your path will probably be something like \"#drive/MyDrive/{where you store on Google Drive}/data/pyAnno/testdata_numerical.txt\"\n",
        "x = np.loadtxt(\"../data/pyAnno/testdata_numerical.txt\")\n",
        "anno = AnnotationsContainer.from_array(x, missing_values=[-1])"
      ]
    },
    {
      "cell_type": "markdown",
      "metadata": {
        "id": "O4LdIWbcZuuB"
      },
      "source": [
        "Interrogate the AnnotationsContainer object."
      ]
    },
    {
      "cell_type": "code",
      "execution_count": null,
      "metadata": {
        "id": "Jb3UKYwdZuuB"
      },
      "outputs": [],
      "source": [
        "anno.annotations"
      ]
    },
    {
      "cell_type": "code",
      "execution_count": null,
      "metadata": {
        "id": "2YuQ8G13ZuuB"
      },
      "outputs": [],
      "source": [
        "anno.labels"
      ]
    },
    {
      "cell_type": "code",
      "execution_count": null,
      "metadata": {
        "id": "TFG3U3iUZuuB"
      },
      "outputs": [],
      "source": [
        "anno.missing_values"
      ]
    },
    {
      "cell_type": "markdown",
      "metadata": {
        "id": "4BPwBZA6ZuuB"
      },
      "source": [
        "# Annotation Statistics"
      ]
    },
    {
      "cell_type": "markdown",
      "metadata": {
        "id": "xIwAwILDZuuB"
      },
      "source": [
        "First, we assume categorical codes...that each code is qualitatively distinct from each other. Two measures are primarily used for this: Scott's $\\pi$, Cohen's $\\kappa$, and Krippendorff's $\\alpha$ which each measure the extent of agreement between two annotators, but take into account the possibility of the agreement occurring by chance in slightly different ways. Any agreement measure begins with the frequency of codes:"
      ]
    },
    {
      "cell_type": "code",
      "execution_count": null,
      "metadata": {
        "id": "XAmZ8HgWZuuB"
      },
      "outputs": [],
      "source": [
        "pyanno.measures.agreement.labels_frequency(anno.annotations,4)"
      ]
    },
    {
      "cell_type": "markdown",
      "metadata": {
        "id": "VCNeRVnxZuuC"
      },
      "source": [
        "Now consider the \"confusion matrix\" or matrix of coded agreements between any two coders:"
      ]
    },
    {
      "cell_type": "code",
      "execution_count": null,
      "metadata": {
        "id": "O83kmmBGZuuC"
      },
      "outputs": [],
      "source": [
        "c = pyanno.measures.agreement.confusion_matrix(anno.annotations[:,0], anno.annotations[:,1],4)\n",
        "print(c)\n",
        "ac = seaborn.heatmap(c)\n",
        "plt.show()"
      ]
    },
    {
      "cell_type": "markdown",
      "metadata": {
        "id": "F1e5LLLjZuuC"
      },
      "source": [
        "Scott's $\\pi$ is computed as:\n",
        "\n",
        "$\\pi = \\frac{\\text{Pr}(a)-\\text{Pr}(e)}{1-\\text{Pr}(e)}$\n",
        "\n",
        "Where Pr($a$) is relative observed agreement, and Pr($e$) is expected agreement using joint proportions calculated from the confusion matrix or matrix of coded agreements between any two coders:"
      ]
    },
    {
      "cell_type": "code",
      "execution_count": null,
      "metadata": {
        "id": "7aualCN8ZuuC"
      },
      "outputs": [],
      "source": [
        "scotts_pi(anno.annotations[:,0], anno.annotations[:,1])"
      ]
    },
    {
      "cell_type": "markdown",
      "metadata": {
        "id": "5YVW7DTXZuuC"
      },
      "source": [
        "The generalization of Scott's $\\pi$ to $n$ coders is Fleiss' $\\kappa$ (Fleiss called it $\\kappa$ because he thought he was generalizing Cohen's $\\kappa$)"
      ]
    },
    {
      "cell_type": "code",
      "execution_count": null,
      "metadata": {
        "id": "uPK53GaoZuuC"
      },
      "outputs": [],
      "source": [
        "fleiss_kappa(anno.annotations[::])"
      ]
    },
    {
      "cell_type": "markdown",
      "metadata": {
        "id": "6xp4jIK5ZuuC"
      },
      "source": [
        "Krippendorff's $\\alpha$ generalizes of Fleiss' $\\kappa$ to $n$ coders and takes into account the fact that annotations here are not categorically different, but ordinal, by adding a weight matrix in which off-diagonal cells contain weights indicating the seriousness of the disagreement between each score. When produced with no arguments, it simply produces an arithmetic distance (e.g., 3-1=2), such that cells one off the diagonal are weighted 1, two off 2, etc."
      ]
    },
    {
      "cell_type": "code",
      "execution_count": null,
      "metadata": {
        "id": "ngQoJTNoZuuC"
      },
      "outputs": [],
      "source": [
        "krippendorffs_alpha(anno.annotations[::])"
      ]
    },
    {
      "cell_type": "markdown",
      "metadata": {
        "id": "bDRPRX9UZuuC"
      },
      "source": [
        "Like Scott's $\\pi$, Cohen's $\\kappa$ also takes into account the possibility of the agreement occurring by chance, but in the following way:\n",
        "\n",
        "$\\kappa = \\frac{p_o-p_e}{1-p_e}=1-\\frac{1-p_o}{p_e}$\n",
        "\n",
        "where $p_o$ is the relative observed agreement among raters, and $p_e$ is the hypothetical probability of chance agreement, using the observed data to calculate the probabilities of each observer randomly saying each category. If the raters are in complete agreement then $\\kappa = 1$. If there is no agreement among the raters other than what would be expected by chance (as given by $p_e$), $\\kappa ≤ 0 $. Here, Cohen's $\\kappa$ statistic for the first two annotators is computed. This is probably the most common metric of agreement."
      ]
    },
    {
      "cell_type": "code",
      "execution_count": null,
      "metadata": {
        "id": "hCXgIN-AZuuC"
      },
      "outputs": [],
      "source": [
        "cohens_kappa(anno.annotations[:,0], anno.annotations[:,1])"
      ]
    },
    {
      "cell_type": "code",
      "execution_count": null,
      "metadata": {
        "id": "d1WFwK0DZuuC"
      },
      "outputs": [],
      "source": [
        "m = pairwise_matrix(cohens_kappa, anno.annotations)\n",
        "print(m)"
      ]
    },
    {
      "cell_type": "code",
      "execution_count": null,
      "metadata": {
        "id": "t_Ie3QDGZuuC"
      },
      "outputs": [],
      "source": [
        "ax = seaborn.heatmap(m)\n",
        "plt.show()"
      ]
    },
    {
      "cell_type": "markdown",
      "metadata": {
        "id": "jgs9t7DsZuuC"
      },
      "source": [
        "You can see that this 8 by 3 loop design will be less stable than an 8 choose 3 combinatorial design, because each codes with more others."
      ]
    },
    {
      "cell_type": "markdown",
      "metadata": {
        "id": "UXDY8U_UZuuC"
      },
      "source": [
        "One can also assess the average Cohen's $\\kappa$ for all pairs of coders that have coded against one another:"
      ]
    },
    {
      "cell_type": "code",
      "execution_count": null,
      "metadata": {
        "id": "586NziZKZuuC"
      },
      "outputs": [],
      "source": [
        "def pairwise_metric_average(metric, array):\n",
        "    \"\"\"Calculate the pairwise metric average for the real elements of metric function run on an array of annotations\"\"\"\n",
        "    p = permutations(range(array[0,:].size),2)\n",
        "    m = [metric(array[:,x[0]], array[:,x[1]]) for x in p]\n",
        "    clean_m = [c for c in m if not math.isnan(c)]\n",
        "    return reduce(lambda a, b: a + b, clean_m)/len(clean_m)\n",
        "\n",
        "pairwise_metric_average(cohens_kappa, anno.annotations)"
      ]
    },
    {
      "cell_type": "markdown",
      "metadata": {
        "id": "T4jFzPhMZuuC"
      },
      "source": [
        "As recognized with Krippendorff's flexible $\\alpha$, our scores are *not* categorical, but rather ordered and her considered metric. Weighted $\\kappa$ allows you to count disagreements differently and is useful when codes are ordered as they are here. Here a weight matrix is added to the calculation, in which off-diagonal cells contain weights indicating the seriousness of the disagreement between each score. When automatically produced, it simply produces an arithmetic distance (e.g., 3-1=2), such that cells one off the diagonal are weighted 1, two off 2, etc. Here\n",
        "\n",
        "$\\kappa = 1-\\frac{\\sum^k_{i=1}\\sum^k_{j=1}w_{ij}x_{ij}}{\\sum^k_{i=1}\\sum^k_{j=1}w_{ij}m_{ij}}$\n",
        "\n",
        "where $\\kappa$ = $n$ codes and $w_{ij}$,$x_{ij}$, and $m_{ij}$ represent elements in the weight, observed, and expected matrices, respectively. (Obviously, when diagonal cells contain weights of 0 and off-diagonal cells weights of 1, this equals $\\kappa$)."
      ]
    },
    {
      "cell_type": "code",
      "execution_count": null,
      "metadata": {
        "id": "muitsi9CZuuC"
      },
      "outputs": [],
      "source": [
        "cohens_weighted_kappa(anno.annotations[:,0], anno.annotations[:,1])"
      ]
    },
    {
      "cell_type": "markdown",
      "metadata": {
        "id": "AHdq46TSZuuC"
      },
      "source": [
        "Or averaged over the total:"
      ]
    },
    {
      "cell_type": "code",
      "execution_count": null,
      "metadata": {
        "id": "FAS18kpSZuuC"
      },
      "outputs": [],
      "source": [
        "pairwise_metric_average(cohens_weighted_kappa,anno.annotations)"
      ]
    },
    {
      "cell_type": "markdown",
      "metadata": {
        "id": "jfI2zkzbZuuD"
      },
      "source": [
        "Alternatively, if the annontation data can be understood as indicating real values, we can assess not agreement, but rather the correlation of values (Pearson's $\\rho$) or correlation of ranks (Spearman's $\\rho$) for pairs of coders:"
      ]
    },
    {
      "cell_type": "code",
      "execution_count": null,
      "metadata": {
        "id": "ALuCa5CIZuuD"
      },
      "outputs": [],
      "source": [
        "n = pairwise_matrix(pearsons_rho, anno.annotations)\n",
        "m = pairwise_matrix(spearmans_rho, anno.annotations)\n",
        "an = seaborn.heatmap(n)\n",
        "plt.show()\n",
        "am = seaborn.heatmap(m)\n",
        "plt.show()"
      ]
    },
    {
      "cell_type": "markdown",
      "metadata": {
        "id": "luQMKiufZuuD"
      },
      "source": [
        "Or averaged over all comparable pairs:"
      ]
    },
    {
      "cell_type": "code",
      "execution_count": null,
      "metadata": {
        "id": "eAsGkelMZuuD"
      },
      "outputs": [],
      "source": [
        "print(pairwise_metric_average(pearsons_rho,anno.annotations), pairwise_metric_average(spearmans_rho,anno.annotations))"
      ]
    },
    {
      "cell_type": "markdown",
      "metadata": {
        "id": "KaZ3pktvZuuD"
      },
      "source": [
        "## <font color=\"red\">*Exercise 1*</font>\n",
        "\n",
        "<font color=\"red\">Perform a content annotation survey of some kind in which at least 3 people evaluate and code each piece of content, using Amazon Mechanical Turk as described in the [MTurk slides on Canvas](https://canvas.uchicago.edu/courses/54694/files/folder/unfiled?preview=10675152), or by hand with friends.  With the resulting data, calculate, visualize and discuss inter-coder agreement or covariation with appropriate metrics. What does this means for the reliability of human assessments regarding content in your domain?"
      ]
    },
    {
      "cell_type": "code",
      "source": [
        "import pandas as pd\n",
        "import numpy as np\n",
        "import seaborn\n",
        "import matplotlib.pyplot as plt\n",
        "import pyanno\n",
        "import pandas as pd\n",
        "\n",
        "# Assuming these are the mappings from Plutchik's emotion labels to unique numbers\n",
        "emotion_mapping = {\n",
        "    '愤怒': 0,\n",
        "    '期待': 1,\n",
        "    '恐惧': 2,\n",
        "    '喜悦': 3,\n",
        "    '信任': 4,\n",
        "    '惊讶': 5,\n",
        "    '悲伤': 6,\n",
        "    '厌恶': 7\n",
        "}\n",
        "\n",
        "# Read the CSV file into a DataFrame\n",
        "df = pd.read_csv('/content/sampled_shanghaidata1.csv').head(119)\n",
        "\n",
        "# Replace the text labels in the emotion analysis columns with numeric codes using the mapping\n",
        "df['情感分析1'] = df['情感分析1'].map(emotion_mapping)\n",
        "df['情感分析2'] = df['情感分析2'].map(emotion_mapping)\n",
        "df['情感分析3'] = df['情感分析3'].map(emotion_mapping)\n",
        "\n",
        "\n",
        "\n"
      ],
      "metadata": {
        "id": "7THQsUWtnXzx"
      },
      "execution_count": null,
      "outputs": []
    },
    {
      "cell_type": "code",
      "source": [
        "# Convert annotations to a numpy array\n",
        "annotations_array = df[['情感分析1', '情感分析2', '情感分析3']].to_numpy()\n",
        "\n",
        "# Handle missing values\n",
        "annotations_array = np.where(np.isnan(annotations_array), -1, annotations_array)\n",
        "\n",
        "# Create an AnnotationsContainer\n",
        "anno = annotations.AnnotationsContainer.from_array(annotations_array, missing_values=[-1])\n",
        "\n",
        "# Calculate agreement measures\n",
        "label_freq = agreement.labels_frequency(anno.annotations, len(emotion_mapping))\n",
        "confusion_matrix = agreement.confusion_matrix(anno.annotations[:, 0], anno.annotations[:, 1], len(emotion_mapping))\n",
        "scotts_pi_value = agreement.scotts_pi(anno.annotations[:, 0], anno.annotations[:, 1])\n",
        "fleiss_kappa_value = agreement.fleiss_kappa(anno.annotations)\n",
        "krippendorffs_alpha_value = agreement.krippendorffs_alpha(anno.annotations)\n",
        "cohens_kappa_value = agreement.cohens_kappa(anno.annotations[:, 0], anno.annotations[:, 1])\n",
        "\n",
        "# Print the confusion matrix and agreement measures\n",
        "print(confusion_matrix)\n",
        "sns.heatmap(confusion_matrix, annot=True)\n",
        "plt.show()\n",
        "print(f\"Scott's Pi: {scotts_pi_value}\")\n",
        "print(f\"Fleiss' Kappa: {fleiss_kappa_value}\")\n",
        "print(f\"Krippendorff's Alpha: {krippendorffs_alpha_value}\")\n",
        "print(f\"Cohen's Kappa: {cohens_kappa_value}\")\n"
      ],
      "metadata": {
        "colab": {
          "base_uri": "https://localhost:8080/",
          "height": 638
        },
        "id": "eHPmAIrWtD9O",
        "outputId": "6b173106-7763-4d26-bc72-12ff28d743f0"
      },
      "execution_count": null,
      "outputs": [
        {
          "output_type": "stream",
          "name": "stdout",
          "text": [
            "[[15.  0.  0.  0.  0.  0.  1.  6.]\n",
            " [ 0. 14.  0.  0.  4.  0.  1.  1.]\n",
            " [ 0.  0.  1.  0.  0.  1.  0.  0.]\n",
            " [ 0.  2.  0.  0.  0.  0.  0.  0.]\n",
            " [ 0.  0.  0.  0.  8.  1.  1.  0.]\n",
            " [ 0.  0.  0.  0.  0.  3.  0.  0.]\n",
            " [ 0.  0.  1.  0.  1.  0. 27.  5.]\n",
            " [ 5.  1.  0.  0.  1.  1.  1. 17.]]\n"
          ]
        },
        {
          "output_type": "display_data",
          "data": {
            "text/plain": [
              "<Figure size 640x480 with 2 Axes>"
            ],
            "image/png": "[encoded data removed]"
          },
          "metadata": {}
        },
        {
          "output_type": "stream",
          "name": "stdout",
          "text": [
            "Scott's Pi: 0.644963144963145\n",
            "Fleiss' Kappa: 0.7632579820951415\n",
            "Krippendorff's Alpha: 0.7111755372124036\n",
            "Cohen's Kappa: 0.6454298483919024\n"
          ]
        }
      ]
    },
    {
      "cell_type": "code",
      "source": [
        "import seaborn as sns\n",
        "import matplotlib.pyplot as plt\n",
        "\n",
        "\n",
        "emotion_translation = {\n",
        "    0: 'Anger 0', 1: 'Anticipation 1', 2: 'Fear 2', 3: 'Joy 3',\n",
        "    4: 'Trust 4', 5: 'Surprise 5', 6: 'Sadness 6', 7: 'Disgust 7'\n",
        "}\n",
        "\n",
        "\n",
        "emotion_labels = [emotion_translation[i] for i in range(len(emotion_mapping))]\n",
        "\n",
        "sns.heatmap(confusion_matrix, annot=True, xticklabels=emotion_labels, yticklabels=emotion_labels)\n",
        "plt.xlabel('Emotion 1')\n",
        "plt.ylabel('Emotion 2')\n",
        "plt.title('Confusion Matrix')\n",
        "plt.show()\n"
      ],
      "metadata": {
        "colab": {
          "base_uri": "https://localhost:8080/",
          "height": 554
        },
        "id": "dnCU-kgot-We",
        "outputId": "df0a1852-3300-4481-f411-16784fdd340f"
      },
      "execution_count": null,
      "outputs": [
        {
          "output_type": "display_data",
          "data": {
            "text/plain": [
              "<Figure size 640x480 with 2 Axes>"
            ],
            "image/png": "[encoded data removed]"
          },
          "metadata": {}
        }
      ]
    },
    {
      "cell_type": "markdown",
      "source": [
        "Diagonal cells: the diagonal line from the top left to the bottom right shows instances where the two coders agreed on the emotion labels. High numbers on the diagonal (e.g., 15 for anger, 14 for anticipation, and 27 for sadness) indicate that there is a high level of agreement between the two coders for these emotions.\n",
        "\n",
        "Non-diagonal cells: these cells show inconsistencies between the two coders. For example, a cell count of 4 in the Expectation row and Joy column indicates that coder 2 labeled coder 1's 4 instances of expectation as joy."
      ],
      "metadata": {
        "id": "kLeLM7DewFfn"
      }
    },
    {
      "cell_type": "markdown",
      "source": [
        "Scott's Pi (Scott's Pi): a value of 0.644963144963145 indicates that there is a moderately high degree of agreement between the evaluators.Scott's Pi is a statistic that measures the agreement between the two evaluators, with a value ranging from -1 (complete disagreement) to 1 (complete agreement). This value is close to 0.65, meaning that the evaluators have a fair degree of consistency in evaluating content, but there is still room for improvement.\n",
        "\n",
        "Fleiss' Kappa (Fleiss' κ): a value of 0.7632579820951415, which is typically used to measure agreement between three or more evaluators. Higher values indicate good inter-assessor agreement. kappa values above 0.75 are usually considered to exhibit good agreement.\n",
        "\n",
        "Krippendorff's Alpha (Krippendorff's alpha): with a value of 0.7111755372124036, this is a measure of agreement that applies to any number of assessors and at any scale level. This value indicates that there is a good level of agreement among the assessors.\n",
        "\n",
        "Cohen's Kappa (Cohen's κ): the value is 0.6454298483919024, similar to Scott's Pi, it is a measure of agreement between two assessors. This value also indicates a moderately high level of agreement."
      ],
      "metadata": {
        "id": "rc0riXKtwfRn"
      }
    },
    {
      "cell_type": "markdown",
      "metadata": {
        "id": "glLJMdYUZuuD"
      },
      "source": [
        "# Simple Simulated Examples for Classification\n",
        "\n",
        "Here we create a sandbox for you to explore different types of classified data and how different statistical classifiers perform on each type."
      ]
    },
    {
      "cell_type": "markdown",
      "metadata": {
        "id": "oxATrbwwZuuD"
      },
      "source": [
        "## Generating example data\n",
        "\n",
        "We start by loading one of the \"cartoon\" or simplified data sets and then dividing it into training and testing sets. To maximize our ability to visualize, each dataset involves two classes, colored yellow and blue, arrayed along two dimensions (`x` and `y`).\n",
        "\n",
        "The four data patterns include:\n",
        "+ `random` in which the two classes are randomly distributed across both dimensions\n",
        "+ `andSplit` in which the two classes are linearly split along one of two dimensions (e.g., men like Adidas)\n",
        "+ `xorSplit` in which the two classes are split, oppositely, along each dimension (e.g., old ladies and young men like Nikes)\n",
        "+ `targetSplit` in which one class is nested within the other in two dimensions (e.g., middle aged, middle income people like vintage Mustangs)\n",
        "+ `multiBlobs` in which 5 classes are placed as bivariate Gaussians at random locations\n",
        "\n",
        "`noise` is a variable [0-1] that ranges from no noise in the prescribed pattern [0] to complete noise/randomness [1].\n",
        "\n",
        "Uncomment (remove the # in front of) each dataset, one at a time, and then run the cell and subsequent cells to examine how each machine learning approach captures each pattern.\n",
        "\n",
        "We use the popular `train_test_split()` function from `sklearn`, and the data pattern function source code is copied below for your convenience from `lucem_illud`'s [cartoons.py](https://github.com/UChicago-Computational-Content-Analysis/lucem_illud/blob/main/lucem_illud/cartoons.py) file."
      ]
    },
    {
      "cell_type": "code",
      "execution_count": null,
      "metadata": {
        "id": "_fqjMvonZuuG"
      },
      "outputs": [],
      "source": [
        "def random(numPerCategory = 500):\n",
        "    datDict = {\n",
        "        'vect' : [np.random.rand(2) * 2 - 1 for i in range(2 * numPerCategory)],\n",
        "        'category' : [i % 2 for i in range(2 * numPerCategory)],\n",
        "    }\n",
        "\n",
        "    return pandas.DataFrame(datDict)\n",
        "\n",
        "def andSplit(noise = 0, numPerCategory = 500):\n",
        "    def genPoint(cat):\n",
        "        y = np.random.random_sample() * 2 - 1\n",
        "        if noise >= 0:\n",
        "            x = np.random.random_sample() - cat - (np.random.random_sample() - cat) * noise\n",
        "        else:\n",
        "            x = (1 - noise * np.random.random_sample()) - cat\n",
        "        return np.array([x, y])\n",
        "    datDict = {\n",
        "        'vect' : [genPoint(i % 2) for i in range(2 * numPerCategory)],\n",
        "        'category' : [i % 2 for i in range(2 * numPerCategory)],\n",
        "    }\n",
        "\n",
        "    return pandas.DataFrame(datDict)\n",
        "\n",
        "def xorSplit(noise = 0, numPerCategory = 500):\n",
        "    def genPoint(cat):\n",
        "        if cat == 1:\n",
        "            if np.random.randint(0,2) < 1:\n",
        "                y = np.random.random_sample() - np.random.random_sample() * noise * 2\n",
        "                x = np.random.random_sample() - np.random.random_sample() * noise * 2\n",
        "            else:\n",
        "                y = np.random.random_sample() - 1 - np.random.random_sample() * noise * 2\n",
        "                x = np.random.random_sample() - 1 - np.random.random_sample() * noise * 2\n",
        "        else:\n",
        "            if np.random.randint(0,2) < 1:\n",
        "                y = np.random.random_sample() - 1 - np.random.random_sample() * noise * 2\n",
        "                x = np.random.random_sample() - np.random.random_sample() * noise * 2\n",
        "            else:\n",
        "                y = np.random.random_sample() - np.random.random_sample() * noise * 2\n",
        "                x = np.random.random_sample() - 1 - np.random.random_sample() * noise * 2\n",
        "        return np.array([x, y])\n",
        "\n",
        "    datDict = {\n",
        "        'vect' : [genPoint(i % 2) for i in range(2 * numPerCategory)],\n",
        "        'category' : [i % 2 for i in range(2 * numPerCategory)],\n",
        "    }\n",
        "\n",
        "    return pandas.DataFrame(datDict)\n",
        "\n",
        "def targetSplit(noise = 0, numPerCategory = 500, innerRad = .3):\n",
        "    def genPoint(cat):\n",
        "        if cat == 0:\n",
        "            r = np.random.random_sample() * innerRad + (1 - innerRad) * np.random.random_sample() * noise\n",
        "        else:\n",
        "            r = np.random.random_sample() * (1 - innerRad) + innerRad - innerRad * np.random.random_sample() * noise\n",
        "        eta = 2 * np.pi * np.random.random_sample()\n",
        "        return np.array([r * np.cos(eta), r * np.sin(eta)])\n",
        "\n",
        "    datDict = {\n",
        "        'vect' : [genPoint(i % 2) for i in range(2 * numPerCategory)],\n",
        "        'category' : [i % 2 for i in range(2 * numPerCategory)],\n",
        "    }\n",
        "\n",
        "    return pandas.DataFrame(datDict)\n",
        "\n",
        "def multiBlobs(noise = 0, numPerCategory = 500, centers = 5):\n",
        "    if isinstance(centers, int):\n",
        "        n_samples = numPerCategory * centers\n",
        "    else:\n",
        "        n_samples = numPerCategory * len(centers)\n",
        "    X, y = sklearn.datasets.make_blobs(n_samples=n_samples, centers=centers, cluster_std = (.8 * (noise * 2 + 1)))\n",
        "    datDict = {\n",
        "        'vect' : list(X),\n",
        "        'category' : y,\n",
        "    }\n",
        "    return pandas.DataFrame(datDict)"
      ]
    },
    {
      "cell_type": "code",
      "execution_count": null,
      "metadata": {
        "id": "QrdxULvnZuuG"
      },
      "outputs": [],
      "source": [
        "noise = .2\n",
        "\n",
        "#dfTrain, dfTest = sklearn.model_selection.train_test_split(lucem_illud.random(noise), test_size=.2)\n",
        "#dfTrain, dfTest = sklearn.model_selection.train_test_split(lucem_illud.andSplit(noise), test_size=.2)\n",
        "#dfTrain, dfTest = sklearn.model_selection.train_test_split(lucem_illud.xorSplit(noise), test_size=.2)\n",
        "dfTrain, dfTest = sklearn.model_selection.train_test_split(lucem_illud.targetSplit(noise), test_size=.2)\n",
        "#dfTrain, dfTest = sklearn.model_selection.train_test_split(lucem_illud.multiBlobs(noise), test_size=.2)"
      ]
    },
    {
      "cell_type": "markdown",
      "metadata": {
        "id": "HH1SQlNJZuuG"
      },
      "source": [
        "We can easily visualize the rendered datasets because they are generated in two dimensions."
      ]
    },
    {
      "cell_type": "markdown",
      "metadata": {
        "id": "Us1j_pROZuuG"
      },
      "source": [
        "Let's see what dfTrain, a simulated data that we just made, looks like"
      ]
    },
    {
      "cell_type": "code",
      "execution_count": null,
      "metadata": {
        "id": "Uhh9EpW4ZuuG"
      },
      "outputs": [],
      "source": [
        "dfTrain"
      ]
    },
    {
      "cell_type": "markdown",
      "metadata": {
        "id": "vTgEZjq4ZuuG"
      },
      "source": [
        "So, dfTrain has two columns, vect and category. We can plot this with `plotter()` from [lucem_illud/lucem_illud/cartoons.py](https://github.com/UChicago-Computational-Content-Analysis/lucem_illud/blob/main/lucem_illud/cartoons.py). Here's the source code:"
      ]
    },
    {
      "cell_type": "code",
      "execution_count": null,
      "metadata": {
        "id": "0EPfZ3VbZuuG"
      },
      "outputs": [],
      "source": [
        "def plotter(df):\n",
        "    fig, ax = plt.subplots(figsize = (10,10))\n",
        "    pallet = seaborn.color_palette(palette='rainbow', n_colors= len(set(df['category'])))\n",
        "    for i, cat in enumerate(set(df['category'])):\n",
        "        a = np.stack(df[df['category'] == cat]['vect'])\n",
        "        ax.scatter(a[:,0], a[:, 1], c = pallet[i], label = cat)\n",
        "    ax.legend(loc = 'center right', title = 'Categories')\n",
        "    ax.axis('off')\n",
        "    plt.show()\n",
        "    plt.close()"
      ]
    },
    {
      "cell_type": "code",
      "execution_count": null,
      "metadata": {
        "id": "DRJPjTTQZuuG"
      },
      "outputs": [],
      "source": [
        "lucem_illud.plotter(dfTrain)"
      ]
    },
    {
      "cell_type": "markdown",
      "metadata": {
        "id": "BG8nc6McZuuG"
      },
      "source": [
        "## Training a Machine Learning algorithm\n",
        "\n",
        "We can now pick a model, there are many more options in `scikit-learn`. These are just a few examples, which array along the machine learning \"tribes\" described in Pedro Domingos _The Master Algorithm_.\n",
        "\n",
        "Uncomment (remove the # in front of) each algorithm one at a time, then run the cell and subsequent cells to evaluate how it learns to understand the data."
      ]
    },
    {
      "cell_type": "code",
      "execution_count": null,
      "metadata": {
        "id": "ThevLWv8ZuuG"
      },
      "outputs": [],
      "source": [
        "#Bayes\n",
        "#clf = sklearn.naive_bayes.GaussianNB()\n",
        "\n",
        "#Analogizes\n",
        "#clf = sklearn.svm.SVC(kernel = 'linear', probability = True) #slow, set probability = False to speed up\n",
        "#clf = sklearn.svm.SVC(kernel = 'poly', degree = 3, probability = True) #slower\n",
        "clf = sklearn.neighbors.KNeighborsClassifier(5, weights='distance')# k, 'distance' or 'uniform'\n",
        "\n",
        "#Classical Regression\n",
        "#clf = sklearn.linear_model.LogisticRegression()\n",
        "\n",
        "#Symbolists\n",
        "#clf = sklearn.tree.DecisionTreeClassifier()\n",
        "#clf = sklearn.ensemble.RandomForestClassifier()\n",
        "\n",
        "#Connectionists\n",
        "#clf = sklearn.neural_network.MLPClassifier()\n",
        "\n",
        "#Ensemble\n",
        "#clf = sklearn.ensemble.GradientBoostingClassifier()"
      ]
    },
    {
      "cell_type": "markdown",
      "metadata": {
        "id": "1F5SLrR2ZuuG"
      },
      "source": [
        "We're using sklearn here. What is sklearn? It's an open source machine learning library for Python. We use sklearn because it features various machine learning algorithms and it works well with NumPy library. You don't need to understand the sklearn package in detail for the moment, but let's see what methods and attributes sklearn has, because we're going to use some of them:"
      ]
    },
    {
      "cell_type": "code",
      "execution_count": null,
      "metadata": {
        "id": "mEP82UtkZuuG"
      },
      "outputs": [],
      "source": [
        "dir(sklearn)"
      ]
    },
    {
      "cell_type": "markdown",
      "metadata": {
        "id": "OIlBy9JmZuuH"
      },
      "source": [
        "Now we fit the model by giving it our training data"
      ]
    },
    {
      "cell_type": "code",
      "execution_count": null,
      "metadata": {
        "id": "RfDrTxYrZuuH"
      },
      "outputs": [],
      "source": [
        "clf.fit(np.stack(dfTrain['vect'], axis=0), dfTrain['category'])"
      ]
    },
    {
      "cell_type": "markdown",
      "metadata": {
        "id": "KFhIS1g5ZuuI"
      },
      "source": [
        "Here, \"stack\" function is used. Why did we use stack function here? This is because dfTrain['vect'] is a sequence, while clf.fit() takes an array element. Let's see what dfTrain['vect'] looks like:"
      ]
    },
    {
      "cell_type": "code",
      "execution_count": null,
      "metadata": {
        "id": "ydUbbjy3ZuuI"
      },
      "outputs": [],
      "source": [
        "dfTrain['vect']"
      ]
    },
    {
      "cell_type": "markdown",
      "metadata": {
        "id": "yDDAShCuZuuI"
      },
      "source": [
        "And let's see what np.stack(dfTrain['vect']) does:"
      ]
    },
    {
      "cell_type": "code",
      "execution_count": null,
      "metadata": {
        "id": "zmulZnezZuuI"
      },
      "outputs": [],
      "source": [
        "np.stack(dfTrain['vect'])"
      ]
    },
    {
      "cell_type": "markdown",
      "metadata": {
        "id": "0H6S5fl1ZuuI"
      },
      "source": [
        "As you can see, stack function takes a sequence of arrays (which have the same shape) and joins them along a new axis."
      ]
    },
    {
      "cell_type": "markdown",
      "metadata": {
        "id": "bHk6fbueZuuI"
      },
      "source": [
        "## Algorithm evaluation\n",
        "\n",
        "We can look at few measurements of each classifier's performance by using the testing set. These `lucem_illud` functions are in [metrics.py](https://github.com/UChicago-Computational-Content-Analysis/lucem_illud/blob/main/lucem_illud/metrics.py), and we will skip copying source code this time due to length."
      ]
    },
    {
      "cell_type": "code",
      "execution_count": null,
      "metadata": {
        "id": "1PTyn51wZuuI"
      },
      "outputs": [],
      "source": [
        "lucem_illud.evaluateClassifier(clf, dfTest)"
      ]
    },
    {
      "cell_type": "markdown",
      "metadata": {
        "id": "TLej1QiyZuuI"
      },
      "source": [
        "This lets us look at which classes do better:"
      ]
    },
    {
      "cell_type": "code",
      "execution_count": null,
      "metadata": {
        "id": "-qQjS4bfZuuI"
      },
      "outputs": [],
      "source": [
        "lucem_illud.plotConfusionMatrix(clf, dfTest)"
      ]
    },
    {
      "cell_type": "markdown",
      "metadata": {
        "id": "Cjjnnl_2ZuuI"
      },
      "source": [
        "The greater the area under the curve the better."
      ]
    },
    {
      "cell_type": "code",
      "execution_count": null,
      "metadata": {
        "id": "IlUyYgZEZuuI"
      },
      "outputs": [],
      "source": [
        "lucem_illud.plotMultiROC(clf, dfTest)"
      ]
    },
    {
      "cell_type": "markdown",
      "metadata": {
        "id": "dbdTRixlZuuI"
      },
      "source": [
        "We can also look at the regions the classifer identifies as one class or the other:"
      ]
    },
    {
      "cell_type": "code",
      "execution_count": null,
      "metadata": {
        "id": "YdV5G3urZuuI"
      },
      "outputs": [],
      "source": [
        "lucem_illud.plotregions(clf, dfTrain)"
      ]
    },
    {
      "cell_type": "markdown",
      "metadata": {
        "id": "BH6SjuqQZuuI"
      },
      "source": [
        "## Now we do the same for real data\n",
        "\n",
        "Available data sets include:\n",
        "+ Reddit threads \"classified\" by thread topic\n",
        "+ 20 newsgroups \"classified\" by group topic\n",
        "+ Senate press releases \"classified\" by Senator (2 senators)\n",
        "+ Senate press releases \"classified\" by Senator (5 senators)\n",
        "+ Emails classified as Spam or Ham\n",
        "\n",
        "Note that if you're on Google Colab and have not `git clone`ed the [class repo](https://github.com/UChicago-Computational-Content-Analysis/Homework-Notebooks-2024-Winter), you can set a `dataDirectory=` parameter in the loadReddit function to match the data folder path on Colab."
      ]
    },
    {
      "cell_type": "code",
      "execution_count": 8,
      "metadata": {
        "id": "MDUsC4hnZuuI"
      },
      "outputs": [],
      "source": [
        "# dfTrain, dfTest = sklearn.model_selection.train_test_split(lucem_illud.loadReddit(dataDirectory='/content/reddit.csv'), test_size=.2)\n",
        "# dfTrain, dfTest = sklearn.model_selection.train_test_split(lucem_illud.loadReddit(dataDirectory='parameter'), test_size=.2)\n",
        "#dfTrain, dfTest = sklearn.model_selection.train_test_split(lucem_illud.loadNewsGroups(), test_size=.2)\n",
        "#dfTrain, dfTest = sklearn.model_selection.train_test_split(lucem_illud.loadSenateSmall(), test_size=.2)\n",
        "#dfTrain, dfTest = sklearn.model_selection.train_test_split(lucem_illud.loadSenateLarge(), test_size=.2)\n",
        "#dfTrain, dfTest = sklearn.model_selection.train_test_split(lucem_illud.loadSpam(), test_size=.2)"
      ]
    },
    {
      "cell_type": "code",
      "source": [
        "import pandas as pd\n",
        "from sklearn.model_selection import train_test_split\n",
        "\n",
        "# Load the data from a CSV file\n",
        "df = pd.read_csv('/content/reddit.csv')\n",
        "\n",
        "# Split the DataFrame into training and test sets\n",
        "dfTrain, dfTest = train_test_split(df, test_size=0.2)\n"
      ],
      "metadata": {
        "id": "e8M98BKPFKjZ"
      },
      "execution_count": 3,
      "outputs": []
    },
    {
      "cell_type": "code",
      "source": [
        "ndfTrain, ndfTest = sklearn.model_selection.train_test_split(lucem_illud.loadNewsGroups(), test_size=.2)\n",
        "#dfTrain, dfTest = sklearn.model_selection.train_test_split(lucem_illud.loadSenateSmall(), test_size=.2)\n",
        "#dfTrain, dfTest = sklearn.model_selection.train_test_split(lucem_illud.loadSenateLarge(), test_size=.2)\n",
        "#dfTrain, dfTest = sklearn.model_selection.train_test_split(lucem_illud.loadSpam(), test_size=.2)"
      ],
      "metadata": {
        "colab": {
          "base_uri": "https://localhost:8080/"
        },
        "id": "OB87w_hjDX0B",
        "outputId": "044348d5-f8d6-4a54-c3e7-79b6246cc22c"
      },
      "execution_count": 4,
      "outputs": [
        {
          "output_type": "stream",
          "name": "stdout",
          "text": [
            "Loading data for: comp.sys.mac.hardware\n",
            "Loading data for: comp.windows.x\n",
            "Loading data for: misc.forsale\n",
            "Loading data for: rec.autos\n",
            "Converting to vectors\n"
          ]
        },
        {
          "output_type": "stream",
          "name": "stderr",
          "text": [
            "/usr/local/lib/python3.10/dist-packages/spacy/pipeline/lemmatizer.py:211: UserWarning: [W108] The rule-based lemmatizer did not find POS annotation for one or more tokens. Check that your pipeline includes components that assign token.pos, typically 'tagger'+'attribute_ruler' or 'morphologizer'.\n",
            "  warnings.warn(Warnings.W108)\n"
          ]
        }
      ]
    },
    {
      "cell_type": "code",
      "source": [
        "# Load the data from a CSV file\n",
        "df = pd.read_csv('/content/ObamaClintonReleases.csv')\n",
        "\n",
        "# Split the DataFrame into training and test sets\n",
        "ssdfTrain, ssdfTest = train_test_split(df, test_size=0.2)"
      ],
      "metadata": {
        "id": "kAcbsji8Ax5p"
      },
      "execution_count": 10,
      "outputs": []
    },
    {
      "cell_type": "code",
      "source": [
        "# ssdfTrain, ssdfTest = sklearn.model_selection.train_test_split(lucem_illud.loadSenateSmall(), test_size=.2)\n",
        "#dfTrain, dfTest = sklearn.model_selection.train_test_split(lucem_illud.loadSenateLarge(), test_size=.2)\n",
        "#dfTrain, dfTest = sklearn.model_selection.train_test_split(lucem_illud.loadSpam(), test_size=.2)"
      ],
      "metadata": {
        "id": "DRgcd9P8DcQH"
      },
      "execution_count": 11,
      "outputs": []
    },
    {
      "cell_type": "code",
      "source": [
        " lsdfTrain, lsdfTest= sklearn.model_selection.train_test_split(lucem_illud.loadSenateLarge(), test_size=.2)\n",
        "#dfTrain, dfTest = sklearn.model_selection.train_test_split(lucem_illud.loadSpam(), test_size=.2)"
      ],
      "metadata": {
        "id": "O-gwwWaVDfBv"
      },
      "execution_count": 13,
      "outputs": []
    },
    {
      "cell_type": "code",
      "source": [
        "import pandas as pd\n",
        "import tarfile\n",
        "from sklearn.model_selection import train_test_split\n",
        "\n",
        "# Replace with the correct path to your .tar.bz2 file\n",
        "tar_file_path = '/content/20021010_spam.tar.bz2'\n",
        "\n",
        "# Open the .tar.bz2 file\n",
        "with tarfile.open(tar_file_path, 'r:bz2') as tar:\n",
        "    # Extract all the contents of the tar file\n",
        "    tar.extractall(path='/content')\n",
        "\n",
        "# Now, find the path to the CSV file you just extracted\n",
        "# This depends on the contents of the tar file, you'll have to adjust this accordingly\n",
        "csv_file_path = '/content/the_extracted_file.csv'\n",
        "\n",
        "# Load the data from a CSV file\n",
        "df = pd.read_csv(csv_file_path)\n",
        "\n",
        "# Split the DataFrame into training and test sets\n",
        "spdfTrain, spdfTest = train_test_split(df, test_size=0.2)\n"
      ],
      "metadata": {
        "id": "4bMe8tUKCiqU"
      },
      "execution_count": null,
      "outputs": []
    },
    {
      "cell_type": "code",
      "source": [
        "#dfTrain, dfTest = sklearn.model_selection.train_test_split(lucem_illud.loadSenateLarge(), test_size=.2)\n",
        "# spdfTrain, spdfTest = sklearn.model_selection.train_test_split(lucem_illud.loadSpam(), test_size=.2)"
      ],
      "metadata": {
        "id": "lF6X4GyxDgoV"
      },
      "execution_count": 18,
      "outputs": []
    },
    {
      "cell_type": "code",
      "execution_count": null,
      "metadata": {
        "id": "_H62FGHGZuuI"
      },
      "outputs": [],
      "source": [
        "dfTrain"
      ]
    },
    {
      "cell_type": "code",
      "execution_count": 20,
      "metadata": {
        "id": "qgHrsHkyZuuI"
      },
      "outputs": [],
      "source": [
        "#Classical Regression\n",
        "clf = sklearn.linear_model.LogisticRegression()\n",
        "\n",
        "#Bayes\n",
        "# clf = sklearn.naive_bayes.GaussianNB()\n",
        "\n",
        "#Analogizes\n",
        "#clf = sklearn.svm.SVC(kernel = 'linear', probability = True) #slow, set probability = False to speed up, but lose ROC\n",
        "#clf = sklearn.svm.SVC(kernel = 'poly', degree = 3, probability = True) #slower\n",
        "#clf = sklearn.neighbors.KNeighborsClassifier(5, weights='distance')# k, 'distance' or 'uniform'\n",
        "\n",
        "#Symbolists\n",
        "#clf = sklearn.tree.DecisionTreeClassifier()\n",
        "#clf = sklearn.ensemble.RandomForestClassifier()\n",
        "\n",
        "#Connectionists\n",
        "#clf = sklearn.neural_network.MLPClassifier()\n",
        "\n",
        "#Ensemble\n",
        "#clf = sklearn.ensemble.GradientBoostingClassifier()"
      ]
    },
    {
      "cell_type": "code",
      "execution_count": null,
      "metadata": {
        "id": "9204OpWIZuuI"
      },
      "outputs": [],
      "source": [
        "clf.fit(np.stack(dfTrain['vect'], axis=0), dfTrain['category'])"
      ]
    },
    {
      "cell_type": "code",
      "execution_count": null,
      "metadata": {
        "id": "bcrwBzuoZuuI"
      },
      "outputs": [],
      "source": [
        "lucem_illud.evaluateClassifier(clf, dfTest)\n",
        "lucem_illud.plotConfusionMatrix(clf, dfTest)\n",
        "lucem_illud.plotConfusionMatrix(clf, dfTest)\n",
        "lucem_illud.plotMultiROC(clf, dfTest)\n",
        "lucem_illud.plotregions(clf, dfTrain)"
      ]
    },
    {
      "cell_type": "code",
      "source": [
        "lucem_illud.evaluateClassifier(clf, spdfTest)\n",
        "lucem_illud.plotConfusionMatrix(clf, spdfTest)\n",
        "lucem_illud.plotConfusionMatrix(clf, spdfTest)\n",
        "lucem_illud.plotMultiROC(clf, spdfTest)\n",
        "lucem_illud.plotregions(clf, spdfTrain)"
      ],
      "metadata": {
        "id": "q10NVZI2EZ61"
      },
      "execution_count": null,
      "outputs": []
    },
    {
      "cell_type": "code",
      "source": [
        "lucem_illud.evaluateClassifier(clf, ldfTest)\n",
        "lucem_illud.plotConfusionMatrix(clf, ldfTest)\n",
        "lucem_illud.plotConfusionMatrix(clf, ldfTest)\n",
        "lucem_illud.plotMultiROC(clf, ldfTest)\n",
        "lucem_illud.plotregions(clf, ldfTrain)"
      ],
      "metadata": {
        "id": "ShfG9c1jEafp"
      },
      "execution_count": null,
      "outputs": []
    },
    {
      "cell_type": "code",
      "source": [
        "lucem_illud.evaluateClassifier(clf, lsdfTest)\n",
        "lucem_illud.plotConfusionMatrix(clf, lsdfTest)\n",
        "lucem_illud.plotConfusionMatrix(clf, lsdfTest)\n",
        "lucem_illud.plotMultiROC(clf, lsdfTest)\n",
        "lucem_illud.plotregions(clf, lsdfTrain)"
      ],
      "metadata": {
        "id": "6_HCp3nxEa2s"
      },
      "execution_count": null,
      "outputs": []
    },
    {
      "cell_type": "code",
      "source": [
        "lucem_illud.evaluateClassifier(clf, lsdfTest)\n",
        "lucem_illud.plotConfusionMatrix(clf, lsdfTest)\n",
        "lucem_illud.plotConfusionMatrix(clf, lsdfTest)\n",
        "lucem_illud.plotMultiROC(clf, lsdfTest)\n",
        "lucem_illud.plotregions(clf, lsdfTrain)"
      ],
      "metadata": {
        "id": "qwIz57oCEbYv"
      },
      "execution_count": null,
      "outputs": []
    },
    {
      "cell_type": "code",
      "execution_count": null,
      "metadata": {
        "id": "cDS22WQ4ZuuI"
      },
      "outputs": [],
      "source": [
        "lucem_illud.plotConfusionMatrix(clf, dfTest)"
      ]
    },
    {
      "cell_type": "code",
      "execution_count": null,
      "metadata": {
        "id": "127G19voZuuI"
      },
      "outputs": [],
      "source": [
        "lucem_illud.plotMultiROC(clf, dfTest)"
      ]
    },
    {
      "cell_type": "code",
      "execution_count": null,
      "metadata": {
        "id": "AtqkKlaOZuuI"
      },
      "outputs": [],
      "source": [
        "lucem_illud.plotregions(clf, dfTrain)"
      ]
    },
    {
      "cell_type": "markdown",
      "metadata": {
        "id": "OOG3Vv9aZuuJ"
      },
      "source": [
        "## <font color=\"red\">*Exercise 2*</font>\n",
        "\n",
        "<font color=\"red\">Go back through all of the cells above and generate 10 distinct artificial datasets and classify them with all of the available methods. Add a cell immediately below and describe which classifier(s) worked best with which artificially constructed data source and why. Then go through all of the empirical datasets (i.e., Newsgroups, Senate Small, Senate Large, Email Spam) and classify them with all available methods. Add a second cell immediately below and describe which classifier(s) worked best with which data set and why.\n",
        "\n",
        "<font color=\"red\">***Stretch*** (but also required) Wander through the SKLearn documentation available [here](http://scikit-learn.org/stable/), particularly perusing the classifiers. In cells following, identify and implement a new classifier that we have not yet used (e.g., AdaBoost, CART) on one artificial dataset and one real dataset (used above). Then, in the next cell describe the classifier, detail how it compares with the approaches above, and why it performed better or worse than others."
      ]
    },
    {
      "cell_type": "code",
      "source": [],
      "metadata": {
        "id": "wP4BBItRCw8n"
      },
      "execution_count": null,
      "outputs": []
    },
    {
      "cell_type": "markdown",
      "source": [
        "After analyzing 10 artificial data sets and various real data sets (such as newsgroups, Senate data, and spam data), we found that different classifiers perform differently on different types of data. For example, for linearly separable artificial data sets, logistic regression performs well; while on data sets with complex patterns, support vector machines (SVM) and random forests can better capture the nonlinear relationships of the data. In real data sets, Bayesian classifiers work well on text data because they are able to handle the probability distribution of features. For data sets containing many outliers and noise, ensemble methods such as Gradient Boosting"
      ],
      "metadata": {
        "id": "x_ESBsSlHpIJ"
      }
    },
    {
      "cell_type": "markdown",
      "metadata": {
        "id": "-MBM3gcrZuuJ"
      },
      "source": [
        "# Clinton / Obama Press Releases\n",
        "\n",
        "We often will not have nicely prepared data, so we will work though the proccess of cleaning and structuring in more detail here:\n",
        "\n",
        "While the Clinton and Obama Senatorial Press Releases are not hand-coded, we can imagine that we have been given a stack of such press releases, but lost the metadata associated with which senatorial office issued which. If we label a few of them, how well can our classifier do at recovering the rest?"
      ]
    },
    {
      "cell_type": "code",
      "execution_count": null,
      "metadata": {
        "id": "AdW1M92KZuuJ"
      },
      "outputs": [],
      "source": [
        "ObamaClintonReleases = pandas.read_csv('../data/ObamaClintonReleases.csv', index_col=0)"
      ]
    },
    {
      "cell_type": "markdown",
      "metadata": {
        "id": "V_TSR1U4ZuuJ"
      },
      "source": [
        "I'm pretty sure that you're all familiar with pandas, but, just to clarify: why do we use pandas here? pandas is a Python library which is widely used for analyzing and wrangling data. In particular, pandas loads data and creates data frame, a Python object that looks familiar to us (since it looks like a excel table) and easy to work with. So, using pandas.read_csv function, we take in the csv file and convert it into a data frame."
      ]
    },
    {
      "cell_type": "code",
      "execution_count": null,
      "metadata": {
        "id": "jJT_WZxNZuuJ"
      },
      "outputs": [],
      "source": [
        "type(ObamaClintonReleases)"
      ]
    },
    {
      "cell_type": "markdown",
      "metadata": {
        "id": "rLB5FBegZuuJ"
      },
      "source": [
        "It's a DataFrame! and it looks like this:"
      ]
    },
    {
      "cell_type": "code",
      "execution_count": null,
      "metadata": {
        "id": "8qI4hF70ZuuJ"
      },
      "outputs": [],
      "source": [
        "ObamaClintonReleases"
      ]
    },
    {
      "cell_type": "markdown",
      "metadata": {
        "id": "DSvvq-ivZuuJ"
      },
      "source": [
        "Neat! Let's turn the 'targetSenator' column into a binary category variable."
      ]
    },
    {
      "cell_type": "code",
      "execution_count": null,
      "metadata": {
        "id": "YaOe4KuiZuuJ"
      },
      "outputs": [],
      "source": [
        "ObamaClintonReleases['category'] = [s == 'Obama' for s in ObamaClintonReleases['targetSenator']]"
      ]
    },
    {
      "cell_type": "markdown",
      "metadata": {
        "id": "w7SnUI-0ZuuJ"
      },
      "source": [
        "Tokenize and normalize"
      ]
    },
    {
      "cell_type": "code",
      "execution_count": null,
      "metadata": {
        "id": "X404DH1pZuuJ"
      },
      "outputs": [],
      "source": [
        "ObamaClintonReleases['tokenized_text'] = ObamaClintonReleases['text'].apply(lambda x: lucem_illud.word_tokenize(x))\n",
        "ObamaClintonReleases['normalized_text'] = ObamaClintonReleases['tokenized_text'].apply(lambda x: lucem_illud.normalizeTokens(x))"
      ]
    },
    {
      "cell_type": "markdown",
      "metadata": {
        "id": "n5WNMDC6ZuuJ"
      },
      "source": [
        "Let's split the data into training data and testing data."
      ]
    },
    {
      "cell_type": "code",
      "execution_count": null,
      "metadata": {
        "id": "QG_EbE3wZuuJ"
      },
      "outputs": [],
      "source": [
        "holdBackFraction = .2\n",
        "train_data_df, test_data_df = sklearn.model_selection.train_test_split(ObamaClintonReleases, test_size=holdBackFraction)"
      ]
    },
    {
      "cell_type": "code",
      "execution_count": null,
      "metadata": {
        "id": "EsCr2xMuZuuJ"
      },
      "outputs": [],
      "source": [
        "print(len(train_data_df))\n",
        "print(len(test_data_df))"
      ]
    },
    {
      "cell_type": "markdown",
      "metadata": {
        "id": "PA2_IYpAZuuJ"
      },
      "source": [
        "## Logistic Regression"
      ]
    },
    {
      "cell_type": "markdown",
      "metadata": {
        "id": "TzSnqskdZuuJ"
      },
      "source": [
        "First, let's try with a logistic regression, which may be familiar to you from statistical methods classes. First, we must turn the training dataset into a tf-idf matrix (`lucem_illud.generateVecs()` will help with this but for now we are doing it the long way):"
      ]
    },
    {
      "cell_type": "code",
      "execution_count": null,
      "metadata": {
        "id": "LUUj8PmcZuuJ"
      },
      "outputs": [],
      "source": [
        "TFVectorizer = sklearn.feature_extraction.text.TfidfVectorizer(max_df=100, min_df=2, stop_words='english', norm='l2')\n",
        "TFVects = TFVectorizer.fit_transform(train_data_df['text'])"
      ]
    },
    {
      "cell_type": "markdown",
      "metadata": {
        "id": "_UJmQZ0TZuuJ"
      },
      "source": [
        "The core function here is TfidfVectorizer, which takes a collection of raw documents and turn them to a tf-idf matrix. Just to recap: tf-idf means term frequency-inverse document frequency, a statistic (or, more precisely, a product of two statistics, term frequency and inverse document frequency) that shows the importance of a term vis-a-vis documents. TF, or, term frequency, counts how many times a term is used in a document; IDF, or, inverse-document-frequency, measures common or rare a term appears across documents.\n",
        "\n",
        "Let's look at three parameters of TfidfVectorizer: max_df = 100, min_df = 2, and norm='l2'. What do those parameters mean?\n",
        "\n",
        "(1) max_df = 100\n",
        "\n",
        "Here, we specified a thredhold of 100, and the terms that have a document frequency higher than 100 would be ignored.\n",
        "\n",
        "(2) min_df = 2\n",
        "\n",
        "We specified a lower bound, 2, and the terms that have a document frequency lower than 2 will be ignored.\n",
        "\n",
        "(3) norm = 'l2'\n",
        "\n",
        "This parameter is about vector normalization. In machine learning, we commonly normalize vectors, i.e., change the length of vectors and turn them into a unit vector, before passing them into algorithms. There are various ways of normalizations, and this parameter specifies how we normalize vectors. Here, we set the norm to l2, in which case, we normalize the vectors such that squares of vector elements sums to 1. Alternatively, we can set it to l1, in which case the sum of absolute values of vector elements, not the square of vector elements, is 1."
      ]
    },
    {
      "cell_type": "markdown",
      "metadata": {
        "id": "sW3-JviGZuuJ"
      },
      "source": [
        "fit_transform() literally fits to data and then transform it. So, fit_transform() is just a combination of two steps--(1) fitting parameters to data; (2) then, using the vocabulary and document frequencies learned by fit(), transforming documents into document-term matrix. So, it's the same as fit followed by transform."
      ]
    },
    {
      "cell_type": "markdown",
      "metadata": {
        "id": "-t746qX0ZuuJ"
      },
      "source": [
        "Note that we can use the CountVectorizer instead, which simply produces a matrix of word counts."
      ]
    },
    {
      "cell_type": "code",
      "execution_count": null,
      "metadata": {
        "scrolled": true,
        "id": "hwbwYXb_ZuuJ"
      },
      "outputs": [],
      "source": [
        "TFVects.shape"
      ]
    },
    {
      "cell_type": "markdown",
      "metadata": {
        "id": "wm336tcRZuuJ"
      },
      "source": [
        "We can save this in the dataframe to make things easier"
      ]
    },
    {
      "cell_type": "code",
      "execution_count": null,
      "metadata": {
        "id": "Tri2wctbZuuJ"
      },
      "outputs": [],
      "source": [
        "train_data_df['vect'] = [np.array(v).flatten() for v in TFVects.todense()]"
      ]
    },
    {
      "cell_type": "markdown",
      "metadata": {
        "id": "a3RfRy2EZuuK"
      },
      "source": [
        "Looks simple, but we need to know what todense() does here. todense() returns a dense matrix representation of the matrix. Why do we need this? As you can see above, the TFVects, a document-term matrix, has 11349 columns, and this matrix is sparse, in the sense that it is comprised mostly of zeros. Dense matrices, in contrast, are the matrices that are comprised of mostly non-zeros. Then why do we make sparse matrices into dense ones? Because zero values don't contain important information but take up so much memory."
      ]
    },
    {
      "cell_type": "markdown",
      "metadata": {
        "id": "TK7Fa1NzZuuK"
      },
      "source": [
        "In a regression, we cannot have more variables than cases. So, we need to first do a dimension reduction. First, we will approah this with PCA. You have previously seen this in week 3. Here we are not concerned about visualization, but rather classification and so all principal components are calculated. Watch out: we have to use `stack` not `sum` for combining the vectors. We note that you could also use topic loading and embedding dimensions as featured variables."
      ]
    },
    {
      "cell_type": "code",
      "execution_count": null,
      "metadata": {
        "id": "uGPKX3r5ZuuK"
      },
      "outputs": [],
      "source": [
        "pca = sklearn.decomposition.PCA()\n",
        "reduced_data = pca.fit_transform(np.stack(train_data_df['vect'], axis=0))"
      ]
    },
    {
      "cell_type": "markdown",
      "metadata": {
        "id": "2Cqh2bp3ZuuK"
      },
      "source": [
        "We can store the PCA space vectors in the dataframe too:"
      ]
    },
    {
      "cell_type": "code",
      "execution_count": null,
      "metadata": {
        "id": "emVgDhbPZuuK"
      },
      "outputs": [],
      "source": [
        "train_data_df['pca'] = [r for r in reduced_data]"
      ]
    },
    {
      "cell_type": "markdown",
      "metadata": {
        "id": "w7WZzcOJZuuK"
      },
      "source": [
        "Visualization in 2D:"
      ]
    },
    {
      "cell_type": "code",
      "execution_count": null,
      "metadata": {
        "id": "2_9TpB8RZuuK"
      },
      "outputs": [],
      "source": [
        "fig, ax = plt.subplots(figsize = (10,10))\n",
        "ax.axis('off')\n",
        "pallet = seaborn.color_palette(palette='coolwarm', n_colors = 2)\n",
        "\n",
        "#Plot Obama\n",
        "a = np.stack(train_data_df[train_data_df['category']]['pca'])\n",
        "ax.scatter(a[:,0], a[:, 1], c = pallet[0], label = \"True\")\n",
        "\n",
        "#Plot not Obama\n",
        "a = np.stack(train_data_df[train_data_df['category'].eq(False)]['pca'])\n",
        "ax.scatter(a[:,0], a[:, 1], c = pallet[1], label = \"False\")\n",
        "\n",
        "ax.legend(loc = 'upper right', title = 'Is Obama')\n",
        "plt.title('True Classes, Training Set')\n",
        "plt.show()"
      ]
    },
    {
      "cell_type": "markdown",
      "metadata": {
        "id": "kkjSrO2wZuuK"
      },
      "source": [
        "PCA cannot distinguish Obama very well. Let's perform a screeplot to see how many Principal Components we need."
      ]
    },
    {
      "cell_type": "code",
      "execution_count": null,
      "metadata": {
        "id": "b_zz-uo4ZuuK"
      },
      "outputs": [],
      "source": [
        "n = len(train_data_df)\n",
        "\n",
        "fig, (ax1, ax2, ax3) = plt.subplots(ncols=3, figsize = (16, 5), sharey=True)\n",
        "\n",
        "eigen_vals = np.arange(n) + 1\n",
        "ax1.plot(eigen_vals, pca.explained_variance_ratio_, 'ro-', linewidth=1)\n",
        "ax1.set_title('Scree Plot (Full)')\n",
        "ax1.set_xlabel('Principal Component')\n",
        "ax1.set_ylabel('Proportion of Explained Variance')\n",
        "\n",
        "eigen_vals = np.arange(50) + 1\n",
        "ax2.plot(eigen_vals, pca.explained_variance_ratio_[:50], 'ro-', linewidth=1)\n",
        "ax2.set_title('Scree Plot (First 50 Principal Components)')\n",
        "ax2.set_xlabel('Principal Component')\n",
        "ax2.set_ylabel('Proportion of Explained Variance')\n",
        "\n",
        "\n",
        "eigen_vals = np.arange(20) + 1\n",
        "ax3.plot(eigen_vals, pca.explained_variance_ratio_[:20], 'ro-', linewidth=2)\n",
        "ax3.set_title('Scree Plot (First 50 Principal Components)')\n",
        "ax3.set_xlabel('Principal Component')\n",
        "ax3.set_ylabel('Proportion of Explained Variance')\n",
        "\n",
        "plt.show()"
      ]
    },
    {
      "cell_type": "markdown",
      "metadata": {
        "id": "px3byR-EZuuK"
      },
      "source": [
        "Let's choose the first 10 pricipal components as our covariates."
      ]
    },
    {
      "cell_type": "code",
      "execution_count": null,
      "metadata": {
        "id": "ED0o5KJ5ZuuK"
      },
      "outputs": [],
      "source": [
        "train_data_df['pca_reduced_10'] = train_data_df['pca'].apply(lambda x: x[:10])"
      ]
    },
    {
      "cell_type": "markdown",
      "metadata": {
        "id": "EorEw9brZuuK"
      },
      "source": [
        "Now we fit a logistic regression to our data."
      ]
    },
    {
      "cell_type": "code",
      "execution_count": null,
      "metadata": {
        "id": "Fi49BmEqZuuK"
      },
      "outputs": [],
      "source": [
        "logistic = sklearn.linear_model.LogisticRegression()\n",
        "logistic.fit(np.stack(train_data_df['pca_reduced_10'], axis=0), train_data_df['category'])"
      ]
    },
    {
      "cell_type": "markdown",
      "metadata": {
        "id": "O9CAFZX3ZuuK"
      },
      "source": [
        "Let's see how the logistic regression performs on the training dataset from which we develop the model. Unfortunately, the mean accuracy is only about 64%."
      ]
    },
    {
      "cell_type": "code",
      "execution_count": null,
      "metadata": {
        "id": "BqWkCbFkZuuK"
      },
      "outputs": [],
      "source": [
        "logistic.score(np.stack(train_data_df['pca_reduced_10'], axis=0), train_data_df['category'])"
      ]
    },
    {
      "cell_type": "markdown",
      "metadata": {
        "id": "Ik5B_YdkZuuK"
      },
      "source": [
        "How does it perform on the testing dataset, which we \"held out\" and did not use for model training? We need to repeat all the steps on the testing data, but without retraining:"
      ]
    },
    {
      "cell_type": "code",
      "execution_count": null,
      "metadata": {
        "id": "9OH7q0feZuuK"
      },
      "outputs": [],
      "source": [
        "#Create vectors\n",
        "TFVects_test = TFVectorizer.transform(test_data_df['text'])\n",
        "test_data_df['vect'] = [np.array(v).flatten() for v in TFVects_test.todense()]\n",
        "\n",
        "#PCA\n",
        "reduced_data_test = pca.transform(np.stack(test_data_df['vect'], axis=0))\n",
        "test_data_df['pca'] = [r for r in reduced_data_test]\n",
        "test_data_df['pca_reduced_10'] = test_data_df['pca'].apply(lambda x: x[:10])\n",
        "\n",
        "#Test\n",
        "logistic.score(np.stack(test_data_df['pca_reduced_10'], axis=0), test_data_df['category'])"
      ]
    },
    {
      "cell_type": "markdown",
      "metadata": {
        "id": "IwbBZmwiZuuK"
      },
      "source": [
        "Slightly poorer. How about using more dimensions (40)?"
      ]
    },
    {
      "cell_type": "code",
      "execution_count": null,
      "metadata": {
        "id": "7TkX7ZU9ZuuK"
      },
      "outputs": [],
      "source": [
        "train_data_df['pca_reduced_40'] = train_data_df['pca'].apply(lambda x: x[:40])\n",
        "test_data_df['pca_reduced_40'] = test_data_df['pca'].apply(lambda x: x[:40])\n",
        "\n",
        "logistic.fit(np.stack(train_data_df['pca_reduced_40'], axis=0), train_data_df['category'])\n",
        "\n",
        "print(\"Training:\")\n",
        "print(logistic.score(np.stack(train_data_df['pca_reduced_40'], axis=0), train_data_df['category']))\n",
        "print(\"Testing:\")\n",
        "print(logistic.score(np.stack(test_data_df['pca_reduced_40'], axis=0), test_data_df['category']))"
      ]
    },
    {
      "cell_type": "markdown",
      "metadata": {
        "id": "I6qnXx5kZuuK"
      },
      "source": [
        "Or still more (100)?"
      ]
    },
    {
      "cell_type": "code",
      "execution_count": null,
      "metadata": {
        "id": "70sCv4OOZuuK"
      },
      "outputs": [],
      "source": [
        "train_data_df['pca_reduced_100'] = train_data_df['pca'].apply(lambda x: x[:100])\n",
        "test_data_df['pca_reduced_100'] = test_data_df['pca'].apply(lambda x: x[:100])\n",
        "\n",
        "logistic.fit(np.stack(train_data_df['pca_reduced_100'], axis=0), train_data_df['category'])\n",
        "\n",
        "print(\"Training:\")\n",
        "print(logistic.score(np.stack(train_data_df['pca_reduced_100'], axis=0), train_data_df['category']))\n",
        "print(\"Testing:\")\n",
        "print(logistic.score(np.stack(test_data_df['pca_reduced_100'], axis=0), test_data_df['category']))"
      ]
    },
    {
      "cell_type": "markdown",
      "metadata": {
        "id": "mdy-5z0qZuuK"
      },
      "source": [
        "Or even more (200)!"
      ]
    },
    {
      "cell_type": "code",
      "execution_count": null,
      "metadata": {
        "id": "N6SxLo4aZuuK"
      },
      "outputs": [],
      "source": [
        "train_data_df['pca_reduced_200'] = train_data_df['pca'].apply(lambda x: x[:200])\n",
        "test_data_df['pca_reduced_200'] = test_data_df['pca'].apply(lambda x: x[:200])\n",
        "\n",
        "logistic.fit(np.stack(train_data_df['pca_reduced_200'], axis=0), train_data_df['category'])\n",
        "\n",
        "print(\"Training:\")\n",
        "print(logistic.score(np.stack(train_data_df['pca_reduced_200'], axis=0), train_data_df['category']))\n",
        "print(\"Testing:\")\n",
        "print(logistic.score(np.stack(test_data_df['pca_reduced_200'], axis=0), test_data_df['category']))"
      ]
    },
    {
      "cell_type": "markdown",
      "metadata": {
        "id": "nSHYcVItZuuL"
      },
      "source": [
        "This is becoming ridiculous (400)!"
      ]
    },
    {
      "cell_type": "code",
      "execution_count": null,
      "metadata": {
        "id": "LgtY3tXeZuuL"
      },
      "outputs": [],
      "source": [
        "train_data_df['pca_reduced_400'] = train_data_df['pca'].apply(lambda x: x[:400])\n",
        "test_data_df['pca_reduced_400'] = test_data_df['pca'].apply(lambda x: x[:400])\n",
        "\n",
        "logistic.fit(np.stack(train_data_df['pca_reduced_400'], axis=0), train_data_df['category'])\n",
        "\n",
        "print(\"Training:\")\n",
        "print(logistic.score(np.stack(train_data_df['pca_reduced_400'], axis=0), train_data_df['category']))\n",
        "print(\"Testing:\")\n",
        "print(logistic.score(np.stack(test_data_df['pca_reduced_400'], axis=0), test_data_df['category']))"
      ]
    },
    {
      "cell_type": "markdown",
      "metadata": {
        "id": "przyazJmZuuL"
      },
      "source": [
        "Increasing the number of covariates would overfit our data, and it seems that using a logistic regression, our prediction accuracy is at best about 65%. We can, however, try a logistic regression that uses the TF-IDF scores for each word, but with an L1 regularization or L1-norm loss function, which is also known as least absolute deviations (LAD), least absolute errors (LAE) or L1 penalty. It minimizes the sum of the absolute differences (S) between the target value ($Y_i$) and the estimated values ($f(x_i)$) and prunes all insignificant variables (i.e., word TF-IDF scores):\n",
        "\n",
        "$S=\\sum^n_{i=1}|y_i=f(x_i)|$\n",
        "\n",
        "The result is a model retaining only the most individually significant features."
      ]
    },
    {
      "cell_type": "code",
      "execution_count": null,
      "metadata": {
        "id": "0H9ntY8eZuuL"
      },
      "outputs": [],
      "source": [
        "logistic_l1= sklearn.linear_model.LogisticRegression(penalty='l2')\n",
        "logistic_l1.fit(np.stack(train_data_df['vect'], axis=0), train_data_df['category'])\n",
        "print(logistic_l1.score(np.stack(train_data_df['vect'], axis=0), train_data_df['category']))"
      ]
    },
    {
      "cell_type": "markdown",
      "metadata": {
        "id": "xI4nTObxZuuL"
      },
      "source": [
        "Train the model using training data, and then test it on the testing data."
      ]
    },
    {
      "cell_type": "code",
      "execution_count": null,
      "metadata": {
        "id": "Z-u-qUC6ZuuL"
      },
      "outputs": [],
      "source": [
        "print(logistic_l1.score(np.stack(test_data_df['vect'], axis=0), test_data_df['category']))"
      ]
    },
    {
      "cell_type": "markdown",
      "metadata": {
        "id": "zuh5aYFxZuuL"
      },
      "source": [
        "81% accuracy seems like the best we can get by using a logistic regression."
      ]
    },
    {
      "cell_type": "markdown",
      "metadata": {
        "id": "S9sl7mfjZuuL"
      },
      "source": [
        "## <font color=\"red\">*Exercise 3*</font>\n",
        "\n",
        "<font color=\"red\">In the cells immediately following, perform logistic regression classification using training, testing and uncoded (i.e., data you didn't code by hand but want to use your model on) data from texts and hand-classifications associated with your final project (e.g., these could be crowd-sourced codes gathered through Amazon Mechanical Turk in Exercise 1). Visualize the confusion matrix for training and testing sets. Calculate precision, recall, the F-measure, and AUC, then perform an ROC visualization. How do these classifiers perform? Exrapolate codes from these models to all uncoded data.\n"
      ]
    },
    {
      "cell_type": "code",
      "source": [
        "import pandas as pd\n",
        "from sklearn.model_selection import train_test_split\n",
        "\n",
        "# Load the data from a CSV file\n",
        "df = pd.read_csv('/content/sampled_shanghaidata1.csv').head(1000)"
      ],
      "metadata": {
        "id": "PPt3wM6wHkZ5"
      },
      "execution_count": null,
      "outputs": []
    },
    {
      "cell_type": "code",
      "source": [
        "!pip install jieba\n"
      ],
      "metadata": {
        "colab": {
          "base_uri": "https://localhost:8080/"
        },
        "id": "hrdLqZqvLJBC",
        "outputId": "c1354b1f-05ee-4457-d0d2-779a5a69b0aa"
      },
      "execution_count": null,
      "outputs": [
        {
          "output_type": "stream",
          "name": "stdout",
          "text": [
            "Requirement already satisfied: jieba in /usr/local/lib/python3.10/dist-packages (0.42.1)\n"
          ]
        }
      ]
    },
    {
      "cell_type": "code",
      "source": [
        "import jieba\n",
        "import pandas as pd\n",
        "import numpy as np\n",
        "import matplotlib.pyplot as plt\n",
        "import seaborn as sns\n",
        "from sklearn.feature_extraction.text import TfidfVectorizer\n",
        "from sklearn.model_selection import train_test_split\n",
        "from sklearn.naive_bayes import MultinomialNB\n",
        "from sklearn.decomposition import PCA\n",
        "from sklearn.metrics import classification_report\n",
        "from sklearn.pipeline import make_pipeline\n",
        "from sklearn.preprocessing import LabelEncoder\n",
        "from sklearn.naive_bayes import GaussianNB\n",
        "# 分词\n",
        "df['tokenized_text'] = df['标题/微博内容'].apply(lambda x: ' '.join(jieba.cut(x)))\n",
        "\n",
        "# 标签编码\n",
        "label_encoder = LabelEncoder()\n",
        "df['sentiment_label'] = label_encoder.fit_transform(df['情感分析1'])\n",
        "\n",
        "# 训练/测试数据划分\n",
        "X_train, X_test, y_train, y_test = train_test_split(df['tokenized_text'], df['sentiment_label'], test_size=0.3)\n",
        "TFVectorizer = TfidfVectorizer(max_df=0.5, min_df=1)\n",
        "TFVects_train = TFVectorizer.fit_transform(X_train)\n",
        "TFVects_test = TFVectorizer.transform(X_test)\n",
        "\n",
        "\n"
      ],
      "metadata": {
        "id": "pykhI6pnOQPv"
      },
      "execution_count": null,
      "outputs": []
    },
    {
      "cell_type": "code",
      "source": [
        "from sklearn.decomposition import PCA\n",
        "from sklearn.naive_bayes import GaussianNB\n",
        "from sklearn.metrics import classification_report\n",
        "import seaborn as sns\n",
        "import matplotlib.pyplot as plt\n",
        "from sklearn.preprocessing import LabelEncoder\n",
        "from sklearn.model_selection import train_test_split\n",
        "from sklearn.feature_extraction.text import TfidfVectorizer\n",
        "import numpy as np\n",
        "\n",
        "# 假设 df 是 DataFrame，并且包含 '标题/微博内容' 和 '情感分析1' 列\n",
        "# 进行情感标签的英文映射\n",
        "emotion_mapping = {\n",
        "    '愤怒': 'Anger',\n",
        "    '期待': 'Anticipation',\n",
        "    '恐惧': 'Fear',\n",
        "    '喜悦': 'Joy',\n",
        "    '信任': 'Trust',\n",
        "    '惊讶': 'Surprise',\n",
        "    '悲伤': 'Sadness',\n",
        "    '厌恶': 'Disgust'\n",
        "}\n",
        "\n",
        "# 将情感标签映射到英文\n",
        "df['sentiment_label'] = df['情感分析1'].map(emotion_mapping)\n",
        "\n",
        "# 文本向量化\n",
        "tfidf_vectorizer = TfidfVectorizer()\n",
        "X_tfidf = tfidf_vectorizer.fit_transform(df['标题/微博内容'])\n",
        "\n",
        "# 分割数据为训练集和测试集\n",
        "X_train, X_test, y_train, y_test = train_test_split(X_tfidf, df['sentiment_label'], test_size=0.3)\n",
        "\n",
        "# 将稀疏矩阵转换为数组\n",
        "X_train_dense = np.asarray(X_train.todense())\n",
        "X_test_dense = np.asarray(X_test.todense())\n",
        "\n",
        "# PCA 降维\n",
        "pca = PCA(n_components=2)\n",
        "X_train_pca = pca.fit_transform(X_train_dense)\n",
        "X_test_pca = pca.transform(X_test_dense)\n",
        "\n",
        "# 训练模型\n",
        "model = GaussianNB()\n",
        "model.fit(X_train_pca, y_train)\n",
        "\n",
        "# 预测测试数据\n",
        "y_pred = model.predict(X_test_pca)\n",
        "\n",
        "# 性能评估\n",
        "print(classification_report(y_test, y_pred))\n",
        "\n",
        "# 可视化\n",
        "sns.set(style='whitegrid')\n",
        "palette = sns.color_palette(palette='coolwarm', n_colors=len(np.unique(y_train)))\n",
        "fig, ax = plt.subplots(figsize=(10, 10))\n",
        "for label in np.unique(y_train):\n",
        "    indices = np.where(y_train == label)\n",
        "    ax.scatter(X_train_pca[indices, 0], X_train_pca[indices, 1], c=[palette[list(emotion_mapping.values()).index(label)]], label=label)\n",
        "ax.legend(loc='upper right')\n",
        "plt.title('PCA reduced TF-IDF vectors - Training Set')\n",
        "plt.show()\n",
        "\n"
      ],
      "metadata": {
        "colab": {
          "base_uri": "https://localhost:8080/",
          "height": 1000
        },
        "id": "9WA1QMmwqVOC",
        "outputId": "d98c3ccf-b8c8-4581-a5a1-1e039356dcd1"
      },
      "execution_count": null,
      "outputs": [
        {
          "output_type": "stream",
          "name": "stderr",
          "text": [
            "/usr/local/lib/python3.10/dist-packages/sklearn/metrics/_classification.py:1344: UndefinedMetricWarning: Precision and F-score are ill-defined and being set to 0.0 in labels with no predicted samples. Use `zero_division` parameter to control this behavior.\n",
            "  _warn_prf(average, modifier, msg_start, len(result))\n",
            "/usr/local/lib/python3.10/dist-packages/sklearn/metrics/_classification.py:1344: UndefinedMetricWarning: Precision and F-score are ill-defined and being set to 0.0 in labels with no predicted samples. Use `zero_division` parameter to control this behavior.\n",
            "  _warn_prf(average, modifier, msg_start, len(result))\n",
            "/usr/local/lib/python3.10/dist-packages/sklearn/metrics/_classification.py:1344: UndefinedMetricWarning: Precision and F-score are ill-defined and being set to 0.0 in labels with no predicted samples. Use `zero_division` parameter to control this behavior.\n",
            "  _warn_prf(average, modifier, msg_start, len(result))\n"
          ]
        },
        {
          "output_type": "stream",
          "name": "stdout",
          "text": [
            "              precision    recall  f1-score   support\n",
            "\n",
            "       Anger       0.00      0.00      0.00        14\n",
            "Anticipation       0.00      0.00      0.00        44\n",
            "     Disgust       0.41      1.00      0.58       123\n",
            "        Fear       0.00      0.00      0.00         3\n",
            "         Joy       0.00      0.00      0.00         3\n",
            "     Sadness       0.00      0.00      0.00        64\n",
            "    Surprise       0.00      0.00      0.00        13\n",
            "       Trust       0.00      0.00      0.00        36\n",
            "\n",
            "    accuracy                           0.41       300\n",
            "   macro avg       0.05      0.12      0.07       300\n",
            "weighted avg       0.17      0.41      0.24       300\n",
            "\n"
          ]
        },
        {
          "output_type": "display_data",
          "data": {
            "text/plain": [
              "<Figure size 1000x1000 with 1 Axes>"
            ],
            "image/png": "[encoded data removed]"
          },
          "metadata": {}
        }
      ]
    },
    {
      "cell_type": "code",
      "source": [
        "# Assuming pca is already fitted with the TF-IDF vectors from the previous context\n",
        "n_components = pca.n_components_  # This should match the number of components in your fitted PCA model\n",
        "\n",
        "fig, (ax1, ax2, ax3) = plt.subplots(ncols=3, figsize=(16, 5), sharey=True)\n",
        "\n",
        "# Full Scree Plot\n",
        "eigen_vals_full = np.arange(n_components) + 1\n",
        "ax1.plot(eigen_vals_full, pca.explained_variance_ratio_, 'ro-', linewidth=1)\n",
        "ax1.set_title('Scree Plot (Full)')\n",
        "ax1.set_xlabel('Principal Component')\n",
        "ax1.set_ylabel('Proportion of Explained Variance')\n",
        "\n",
        "# Scree Plot for the First 50 Principal Components\n",
        "eigen_vals_50 = np.arange(min(50, n_components)) + 1\n",
        "ax2.plot(eigen_vals_50, pca.explained_variance_ratio_[:min(50, n_components)], 'ro-', linewidth=1)\n",
        "ax2.set_title('Scree Plot (First 50 Principal Components)')\n",
        "ax2.set_xlabel('Principal Component')\n",
        "ax2.set_ylabel('Proportion of Explained Variance')\n",
        "\n",
        "# Scree Plot for the First 20 Principal Components\n",
        "eigen_vals_20 = np.arange(min(20, n_components)) + 1\n",
        "ax3.plot(eigen_vals_20, pca.explained_variance_ratio_[:min(20, n_components)], 'ro-', linewidth=2)\n",
        "ax3.set_title('Scree Plot (First 20 Principal Components)')\n",
        "ax3.set_xlabel('Principal Component')\n",
        "ax3.set_ylabel('Proportion of Explained Variance')\n",
        "\n",
        "plt.tight_layout()  # Adjust the subplots to fit into the figure area.\n",
        "plt.show()\n"
      ],
      "metadata": {
        "colab": {
          "base_uri": "https://localhost:8080/",
          "height": 521
        },
        "id": "nOpLopPOsu02",
        "outputId": "f1ca02df-79e9-4aca-8ae6-e7048842fd52"
      },
      "execution_count": null,
      "outputs": [
        {
          "output_type": "display_data",
          "data": {
            "text/plain": [
              "<Figure size 1600x500 with 3 Axes>"
            ],
            "image/png": "[encoded data removed]"
          },
          "metadata": {}
        }
      ]
    },
    {
      "cell_type": "code",
      "source": [
        "import pandas as pd\n",
        "from sklearn.feature_extraction.text import TfidfVectorizer\n",
        "from sklearn.model_selection import train_test_split\n",
        "from sklearn.decomposition import PCA\n",
        "from sklearn.naive_bayes import GaussianNB\n",
        "from sklearn.metrics import classification_report\n",
        "from sklearn.preprocessing import LabelEncoder\n",
        "import jieba\n",
        "import numpy as np\n",
        "import seaborn as sns\n",
        "import matplotlib.pyplot as plt\n",
        "\n",
        "# 读取数据\n",
        "df = pd.read_csv('/content/sampled_shanghaidata1.csv').head(1000)\n",
        "\n",
        "# 使用 jieba 分词\n",
        "df['tokenized_text'] = df['标题/微博内容'].apply(lambda x: ' '.join(jieba.cut(x)))\n",
        "\n",
        "# 将情感标签映射到英文\n",
        "emotion_mapping = {\n",
        "    '愤怒': 'Anger',\n",
        "    '期待': 'Anticipation',\n",
        "    '恐惧': 'Fear',\n",
        "    '喜悦': 'Joy',\n",
        "    '信任': 'Trust',\n",
        "    '惊讶': 'Surprise',\n",
        "    '悲伤': 'Sadness',\n",
        "    '厌恶': 'Disgust'\n",
        "}\n",
        "df['sentiment_label'] = df['情感分析1'].map(emotion_mapping)\n",
        "\n",
        "# 将情感标签转换为数值编码\n",
        "label_encoder = LabelEncoder()\n",
        "df['sentiment_label_code'] = label_encoder.fit_transform(df['sentiment_label'])\n",
        "\n",
        "# 创建 TF-IDF 向量化器并转换数据\n",
        "tfidf_vectorizer = TfidfVectorizer()\n",
        "X_tfidf = tfidf_vectorizer.fit_transform(df['tokenized_text'])\n",
        "\n",
        "# 分割数据为训练集和测试集\n",
        "X_train, X_test, y_train, y_test = train_test_split(X_tfidf, df['sentiment_label_code'], test_size=0.3)\n",
        "\n",
        "# 将稀疏矩阵转换为密集数组\n",
        "X_train_dense = np.asarray(X_train.todense())\n",
        "X_test_dense = np.asarray(X_test.todense())\n",
        "\n",
        "\n",
        "# PCA 降维\n",
        "pca = PCA(n_components=2)\n",
        "X_train_pca = pca.fit_transform(X_train_dense)\n",
        "X_test_pca = pca.transform(X_test_dense)\n",
        "\n",
        "# 训练 GaussianNB 模型\n",
        "model = GaussianNB()\n",
        "model.fit(X_train_pca, y_train)\n",
        "\n",
        "# 预测\n",
        "y_pred = model.predict(X_test_pca)\n",
        "\n",
        "# 评估模型\n",
        "print(classification_report(y_test, y_pred, target_names=label_encoder.classes_))\n",
        "\n",
        "# 可视化\n",
        "sns.set(style='whitegrid')\n",
        "palette = sns.color_palette('coolwarm', n_colors=len(label_encoder.classes_))\n",
        "fig, ax = plt.subplots(figsize=(10, 10))\n",
        "for label in np.unique(y_train):\n",
        "    indices = np.where(y_train == label)\n",
        "    ax.scatter(X_train_pca[indices, 0], X_train_pca[indices, 1], c=[palette[label]], label=label_encoder.inverse_transform([label])[0])\n",
        "ax.legend(loc='upper right')\n",
        "plt.title('PCA reduced TF-IDF vectors - Training Set')\n",
        "plt.show()\n",
        "\n",
        "\n"
      ],
      "metadata": {
        "colab": {
          "base_uri": "https://localhost:8080/",
          "height": 1000
        },
        "id": "H_3oMU1vwkZ2",
        "outputId": "e4c48bd5-05c3-4f19-dbfc-0983e59868f6"
      },
      "execution_count": null,
      "outputs": [
        {
          "output_type": "stream",
          "name": "stderr",
          "text": [
            "/usr/local/lib/python3.10/dist-packages/sklearn/metrics/_classification.py:1344: UndefinedMetricWarning: Precision and F-score are ill-defined and being set to 0.0 in labels with no predicted samples. Use `zero_division` parameter to control this behavior.\n",
            "  _warn_prf(average, modifier, msg_start, len(result))\n",
            "/usr/local/lib/python3.10/dist-packages/sklearn/metrics/_classification.py:1344: UndefinedMetricWarning: Precision and F-score are ill-defined and being set to 0.0 in labels with no predicted samples. Use `zero_division` parameter to control this behavior.\n",
            "  _warn_prf(average, modifier, msg_start, len(result))\n",
            "/usr/local/lib/python3.10/dist-packages/sklearn/metrics/_classification.py:1344: UndefinedMetricWarning: Precision and F-score are ill-defined and being set to 0.0 in labels with no predicted samples. Use `zero_division` parameter to control this behavior.\n",
            "  _warn_prf(average, modifier, msg_start, len(result))\n"
          ]
        },
        {
          "output_type": "stream",
          "name": "stdout",
          "text": [
            "              precision    recall  f1-score   support\n",
            "\n",
            "       Anger       0.00      0.00      0.00        14\n",
            "Anticipation       0.00      0.00      0.00        39\n",
            "     Disgust       0.42      1.00      0.59       125\n",
            "        Fear       0.00      0.00      0.00         4\n",
            "         Joy       0.00      0.00      0.00         4\n",
            "     Sadness       0.00      0.00      0.00        57\n",
            "    Surprise       0.00      0.00      0.00        20\n",
            "       Trust       0.00      0.00      0.00        37\n",
            "\n",
            "    accuracy                           0.42       300\n",
            "   macro avg       0.05      0.12      0.07       300\n",
            "weighted avg       0.17      0.42      0.25       300\n",
            "\n"
          ]
        },
        {
          "output_type": "display_data",
          "data": {
            "text/plain": [
              "<Figure size 1000x1000 with 1 Axes>"
            ],
            "image/png": "[encoded data removed]"
          },
          "metadata": {}
        }
      ]
    },
    {
      "cell_type": "markdown",
      "metadata": {
        "collapsed": true,
        "id": "fDawkkpCZuuL"
      },
      "source": [
        "# Decision Trees"
      ]
    },
    {
      "cell_type": "markdown",
      "metadata": {
        "id": "8Y5HR_4YZuuL"
      },
      "source": [
        "Decision trees can be used to predict both categorical/class labels (i.e., classification) and continuous labels (i.e., regression)."
      ]
    },
    {
      "cell_type": "code",
      "execution_count": null,
      "metadata": {
        "id": "6b2uBI_kZuuL"
      },
      "outputs": [],
      "source": [
        "blobs_df = lucem_illud.multiBlobs(noise=.2, centers=[(0,0), (0,5), (5,0), (-5,0), (0,-5)])\n",
        "df_exampleTree_train, df_exampleTree_test = sklearn.model_selection.train_test_split(blobs_df, test_size=.2)\n",
        "lucem_illud.plotter(df_exampleTree_train)"
      ]
    },
    {
      "cell_type": "markdown",
      "metadata": {
        "id": "wokvRlDEZuuL"
      },
      "source": [
        "Now we import our Decision Tree classifier from sklearn.tree (familiar syntax) and fit it using the fit method."
      ]
    },
    {
      "cell_type": "code",
      "execution_count": null,
      "metadata": {
        "id": "ekxgNeFDZuuL"
      },
      "outputs": [],
      "source": [
        "clf_tree = sklearn.tree.DecisionTreeClassifier(max_depth=4,random_state=0)\n",
        "clf_tree.fit(np.stack(df_exampleTree_train['vect'], axis =0), df_exampleTree_train['category'])"
      ]
    },
    {
      "cell_type": "markdown",
      "metadata": {
        "id": "IWsVPnvoZuuL"
      },
      "source": [
        "To see what's going on visually with the classification:"
      ]
    },
    {
      "cell_type": "code",
      "execution_count": null,
      "metadata": {
        "id": "MfpLBDa2ZuuL"
      },
      "outputs": [],
      "source": [
        "lucem_illud.plotregions(clf_tree, df_exampleTree_train)"
      ]
    },
    {
      "cell_type": "code",
      "execution_count": null,
      "metadata": {
        "id": "yUB89jeoZuuL"
      },
      "outputs": [],
      "source": [
        "lucem_illud.evaluateClassifier(clf_tree, df_exampleTree_test)"
      ]
    },
    {
      "cell_type": "markdown",
      "metadata": {
        "id": "idCqH8tFZuuL"
      },
      "source": [
        "Lets look at accuracy:"
      ]
    },
    {
      "cell_type": "code",
      "execution_count": null,
      "metadata": {
        "id": "tmGt3XJTZuuL"
      },
      "outputs": [],
      "source": [
        "sklearn.metrics.accuracy_score(df_exampleTree_test['category'],clf_tree.predict(np.stack(df_exampleTree_test['vect'], axis = 0)))"
      ]
    },
    {
      "cell_type": "markdown",
      "metadata": {
        "id": "KMJJsHyUZuuL"
      },
      "source": [
        "What happens if we trim the tree?"
      ]
    },
    {
      "cell_type": "code",
      "execution_count": null,
      "metadata": {
        "id": "HgivrbXbZuuL"
      },
      "outputs": [],
      "source": [
        "depthvec = []\n",
        "scorevec = []\n",
        "for i in range(1,20):\n",
        "    tree2 = sklearn.tree.DecisionTreeClassifier(max_depth=i,random_state=0)\n",
        "    tree2.fit(np.stack(df_exampleTree_train['vect'], axis =0), df_exampleTree_train['category'])\n",
        "    score = sklearn.metrics.accuracy_score(df_exampleTree_test['category'], tree2.predict(np.stack(df_exampleTree_test['vect'], axis = 0)))\n",
        "    depthvec.append(i)\n",
        "    scorevec.append(score)\n",
        "plt.scatter(depthvec,scorevec)\n",
        "plt.show()"
      ]
    },
    {
      "cell_type": "markdown",
      "metadata": {
        "id": "3UKvileVZuuL"
      },
      "source": [
        "We can select different layers of the decision tree or \"prune\" it. At approximately four layers down in the decision tree, the shape is somewhat odd, suggesting that our model is overfitting beyond those four layers."
      ]
    },
    {
      "cell_type": "markdown",
      "metadata": {
        "id": "0MrQqPgeZuuL"
      },
      "source": [
        "Combining multiple overfitting estimators turns out to be a key idea in machine learning. This is called **bagging** and is a type of **ensemble** method. The idea is to make many randomized estimators--each can overfit, as decision trees are wont to do--but then to combine them, ultimately producing a better classification. A **random forest** is produced by bagging decision trees."
      ]
    },
    {
      "cell_type": "code",
      "execution_count": null,
      "metadata": {
        "id": "wBLk22dOZuuL"
      },
      "outputs": [],
      "source": [
        "tree = sklearn.tree.DecisionTreeClassifier(max_depth=10) #Create an instance of our decision tree classifier.\n",
        "\n",
        "bag = sklearn.ensemble.BaggingClassifier(tree, n_estimators=100, max_samples=0.8, random_state=1) #Each tree uses up to 80% of the data"
      ]
    },
    {
      "cell_type": "code",
      "execution_count": null,
      "metadata": {
        "id": "f0-pRXATZuuL"
      },
      "outputs": [],
      "source": [
        "bag.fit(np.stack(df_exampleTree_train['vect'], axis =0), df_exampleTree_train['category']) #Fit the bagged classifier"
      ]
    },
    {
      "cell_type": "code",
      "execution_count": null,
      "metadata": {
        "id": "5ISLxivuZuuL"
      },
      "outputs": [],
      "source": [
        "lucem_illud.plotregions(bag, df_exampleTree_test)"
      ]
    },
    {
      "cell_type": "code",
      "execution_count": null,
      "metadata": {
        "id": "npVS3k3xZuuL"
      },
      "outputs": [],
      "source": [
        "lucem_illud.evaluateClassifier(bag, df_exampleTree_test)"
      ]
    },
    {
      "cell_type": "code",
      "execution_count": null,
      "metadata": {
        "id": "E-DIW5JrZuuM"
      },
      "outputs": [],
      "source": [
        "lucem_illud.plotConfusionMatrix(bag, df_exampleTree_test)"
      ]
    },
    {
      "cell_type": "markdown",
      "metadata": {
        "id": "1gGgLMdNZuuM"
      },
      "source": [
        "## <font color=\"red\">*Exercise 4*</font>\n",
        "\n",
        "<font color=\"red\">In the cells immediately following, perform decision tree and random forest classification (binary, multinomial or continuous) using training, testing and extrapolation (uncoded) data from texts and hand-classifications associated with your final project. As with ***Exercise 2***, these could be crowd-sourced codes gathered through Amazon Mechanical Turk last week. Visualize the classification of data points. Calculate relevant metrics (e.g., precision, recall, the F-measure, and AUC). Now build an ensemble classifier by bagging trees into a random forest. Visualize the result. How do these classifiers perform? What does ensemble learning do?"
      ]
    },
    {
      "cell_type": "code",
      "source": [
        "import pandas as pd\n",
        "from sklearn.feature_extraction.text import TfidfVectorizer\n",
        "from sklearn.tree import DecisionTreeClassifier\n",
        "from sklearn.model_selection import train_test_split, GridSearchCV\n",
        "from sklearn.metrics import classification_report\n",
        "from sklearn.preprocessing import LabelEncoder\n",
        "import jieba\n",
        "import numpy as np\n",
        "\n",
        "# 加载数据\n",
        "df = pd.read_csv('/content/sampled_shanghaidata1.csv').head(1000)\n",
        "\n",
        "# 确保文本列不包含非字符串类型的数据\n",
        "df['标题/微博内容'] = df['标题/微博内容'].astype(str)\n",
        "\n",
        "# 使用 jieba 分词\n",
        "df['tokenized_text'] = df['标题/微博内容'].apply(lambda x: ' '.join(jieba.cut(x)))\n",
        "\n",
        "# 将情感标签转换为数值编码\n",
        "label_encoder = LabelEncoder()\n",
        "df['sentiment_label_code'] = label_encoder.fit_transform(df['情感分析1'])\n",
        "\n",
        "# 创建 TF-IDF 向量化器并对分词后的文本进行向量化\n",
        "tfidf_vectorizer = TfidfVectorizer()\n",
        "X_tfidf = tfidf_vectorizer.fit_transform(df['tokenized_text'])\n",
        "\n",
        "# 分割数据为训练集和测试集\n",
        "X_train, X_test, y_train, y_test = train_test_split(X_tfidf, df['sentiment_label_code'], test_size=0.2)\n",
        "\n",
        "# 定义决策树分类器的参数网格\n",
        "param_grid = {\n",
        "    'criterion': ['gini', 'entropy'],\n",
        "    'max_depth': range(1, 10),\n",
        "    'min_samples_split': range(2, 10),\n",
        "    'min_samples_leaf': range(1, 5)\n",
        "}\n",
        "\n",
        "# 创建 GridSearchCV 对象\n",
        "grid_search = GridSearchCV(DecisionTreeClassifier(random_state=0), param_grid, cv=5, scoring='accuracy', n_jobs=-1)\n",
        "\n",
        "# 在训练数据上执行网格搜索\n",
        "grid_search.fit(X_train, y_train)\n",
        "\n",
        "# 打印最佳参数\n",
        "print(\"Best parameters:\", grid_search.best_params_)\n",
        "\n",
        "# 使用最佳参数的模型在测试集上进行预测\n",
        "y_pred = grid_search.predict(X_test)\n",
        "\n",
        "# 打印分类报告\n",
        "print(classification_report(y_test, y_pred, target_names=label_encoder.classes_))\n",
        "\n",
        "# 打印最佳分数\n",
        "print(\"Best score:\", grid_search.best_score_)\n",
        "\n"
      ],
      "metadata": {
        "colab": {
          "base_uri": "https://localhost:8080/"
        },
        "id": "zfGmmP87vyJN",
        "outputId": "3e0871f3-f103-4700-f394-e9e837d2bc98"
      },
      "execution_count": null,
      "outputs": [
        {
          "output_type": "stream",
          "name": "stdout",
          "text": [
            "Best parameters: {'criterion': 'entropy', 'max_depth': 4, 'min_samples_leaf': 1, 'min_samples_split': 2}\n",
            "              precision    recall  f1-score   support\n",
            "\n",
            "          信任       0.56      0.62      0.59        24\n",
            "          厌恶       0.52      0.90      0.66        94\n",
            "          喜悦       0.00      0.00      0.00         3\n",
            "          恐惧       0.00      0.00      0.00         4\n",
            "          悲伤       0.00      0.00      0.00        32\n",
            "          惊讶       0.00      0.00      0.00         7\n",
            "          愤怒       0.00      0.00      0.00        13\n",
            "          期待       0.20      0.09      0.12        23\n",
            "\n",
            "    accuracy                           0.51       200\n",
            "   macro avg       0.16      0.20      0.17       200\n",
            "weighted avg       0.34      0.51      0.40       200\n",
            "\n",
            "Best score: 0.45499999999999996\n"
          ]
        },
        {
          "output_type": "stream",
          "name": "stderr",
          "text": [
            "/usr/local/lib/python3.10/dist-packages/sklearn/metrics/_classification.py:1344: UndefinedMetricWarning: Precision and F-score are ill-defined and being set to 0.0 in labels with no predicted samples. Use `zero_division` parameter to control this behavior.\n",
            "  _warn_prf(average, modifier, msg_start, len(result))\n",
            "/usr/local/lib/python3.10/dist-packages/sklearn/metrics/_classification.py:1344: UndefinedMetricWarning: Precision and F-score are ill-defined and being set to 0.0 in labels with no predicted samples. Use `zero_division` parameter to control this behavior.\n",
            "  _warn_prf(average, modifier, msg_start, len(result))\n",
            "/usr/local/lib/python3.10/dist-packages/sklearn/metrics/_classification.py:1344: UndefinedMetricWarning: Precision and F-score are ill-defined and being set to 0.0 in labels with no predicted samples. Use `zero_division` parameter to control this behavior.\n",
            "  _warn_prf(average, modifier, msg_start, len(result))\n"
          ]
        }
      ]
    },
    {
      "cell_type": "markdown",
      "metadata": {
        "collapsed": true,
        "id": "uSciC7szZuuM"
      },
      "source": [
        "# K-Nearest Neighbors"
      ]
    },
    {
      "cell_type": "markdown",
      "metadata": {
        "id": "FjWZSXDLZuuM"
      },
      "source": [
        "The K-Nearest neighbors classifier takes a simpler premise than those before: Find the closest labeled datapoint in set and \"borrow\" its label.\n",
        "\n",
        "Let's use newsgroup data."
      ]
    },
    {
      "cell_type": "code",
      "execution_count": null,
      "metadata": {
        "id": "xCs4b_nEZuuM"
      },
      "outputs": [],
      "source": [
        "newsgroups = sklearn.datasets.fetch_20newsgroups(data_home = '../data') #Free data to play with: documents from a newsgroup corpus. # replace path if on Colab\n",
        "newsgroups.target_names #Possible categories, i.e., the newsgroups\n",
        "\n",
        "target_categories = ['talk.religion.misc', 'soc.religion.christian', 'sci.space', 'comp.graphics'] #Can change these of course\n",
        "\n",
        "newsgroupsDF = pandas.DataFrame(columns = ['text', 'category', 'source_file'])\n",
        "for category in target_categories:\n",
        "    print(\"Loading data for: {}\".format(category))\n",
        "    ng = sklearn.datasets.fetch_20newsgroups(categories = [category], remove=['headers', 'footers', 'quotes'], data_home = '../data')\n",
        "    newsgroupsDF = newsgroupsDF.append(pandas.DataFrame({'text' : ng.data, 'category' : [category] * len(ng.data), 'source_file' : ng.filenames}), ignore_index=True)\n",
        "\n",
        "newsgroupsDF['tokenized_text'] = newsgroupsDF['text'].apply(lambda x: lucem_illud.word_tokenize(x))\n",
        "newsgroupsDF['normalized_text'] = newsgroupsDF['tokenized_text'].apply(lambda x: lucem_illud.normalizeTokens(x))"
      ]
    },
    {
      "cell_type": "code",
      "execution_count": null,
      "metadata": {
        "id": "I5T6mJkYZuuM"
      },
      "outputs": [],
      "source": [
        "newsgroupsDF[:5]"
      ]
    },
    {
      "cell_type": "markdown",
      "metadata": {
        "id": "hhxmeJ4rZuuM"
      },
      "source": [
        "Make a testing and training set:"
      ]
    },
    {
      "cell_type": "code",
      "execution_count": null,
      "metadata": {
        "id": "L83IA4QXZuuM"
      },
      "outputs": [],
      "source": [
        "holdBackFraction = .2\n",
        "train_ng_df, test_ng_df = sklearn.model_selection.train_test_split(newsgroupsDF, test_size=holdBackFraction)"
      ]
    },
    {
      "cell_type": "markdown",
      "metadata": {
        "id": "5nqMKaGSZuuM"
      },
      "source": [
        "Let's initialize our k-nearest neighbors classifier:"
      ]
    },
    {
      "cell_type": "code",
      "execution_count": null,
      "metadata": {
        "id": "ZemHAcJoZuuM"
      },
      "outputs": [],
      "source": [
        "n_neighbors = 15\n",
        "weights=\"uniform\"\n",
        "clf_knearest = sklearn.neighbors.KNeighborsClassifier(n_neighbors, weights=weights)"
      ]
    },
    {
      "cell_type": "markdown",
      "metadata": {
        "id": "XhyYVROZZuuM"
      },
      "source": [
        "Let's try to classify using the TF-IDF vectors:"
      ]
    },
    {
      "cell_type": "code",
      "execution_count": null,
      "metadata": {
        "id": "_IjmW0MCZuuM"
      },
      "outputs": [],
      "source": [
        "TFVectorizer_ng = sklearn.feature_extraction.text.TfidfVectorizer(max_df=100, min_df=2, stop_words='english', norm='l2')\n",
        "TFVects_ng = TFVectorizer_ng.fit_transform(train_ng_df['text'])\n",
        "train_ng_df['vect'] = [np.array(v).flatten() for v in TFVects_ng.todense()]"
      ]
    },
    {
      "cell_type": "code",
      "execution_count": null,
      "metadata": {
        "id": "0D59j46cZuuM"
      },
      "outputs": [],
      "source": [
        "clf_knearest.fit(np.stack(train_ng_df['vect'], axis = 0), train_ng_df['category'])"
      ]
    },
    {
      "cell_type": "code",
      "execution_count": null,
      "metadata": {
        "id": "3nkY38S2ZuuM"
      },
      "outputs": [],
      "source": [
        "lucem_illud.evaluateClassifier(clf_knearest, train_ng_df)"
      ]
    },
    {
      "cell_type": "markdown",
      "metadata": {
        "id": "neFu0_vqZuuM"
      },
      "source": [
        "And lets look at the testing data"
      ]
    },
    {
      "cell_type": "code",
      "execution_count": null,
      "metadata": {
        "id": "So4HWZEXZuuM"
      },
      "outputs": [],
      "source": [
        "#Create vectors\n",
        "TFVects_test = TFVectorizer_ng.transform(test_ng_df['text'])\n",
        "test_ng_df['vect'] = [np.array(v).flatten() for v in TFVects_test.todense()]\n",
        "\n",
        "#Add to df\n",
        "test_ng_df['nb_predict'] = clf_knearest.predict(np.stack(test_ng_df['vect'], axis=0))\n",
        "\n",
        "#Test\n",
        "print(\"Testing score:\")\n",
        "print(clf_knearest.score(np.stack(test_ng_df['vect'], axis=0), test_ng_df['category']))"
      ]
    },
    {
      "cell_type": "markdown",
      "metadata": {
        "id": "M2MFYiraZuuM"
      },
      "source": [
        "Let's produce another confusion matrix:"
      ]
    },
    {
      "cell_type": "code",
      "execution_count": null,
      "metadata": {
        "id": "vZXhgFEcZuuM"
      },
      "outputs": [],
      "source": [
        "lucem_illud.plotConfusionMatrix(clf_knearest, test_ng_df)"
      ]
    },
    {
      "cell_type": "markdown",
      "metadata": {
        "id": "V7NulxIIZuuM"
      },
      "source": [
        "You can produce the PCA space visual if you want, altough it can take a very long time, so we'll leave it optionally commented out:"
      ]
    },
    {
      "cell_type": "code",
      "execution_count": null,
      "metadata": {
        "id": "seOrCdBOZuuM"
      },
      "outputs": [],
      "source": [
        "#lucem_illud.plotregions(clf_knearest, test_ng_df)"
      ]
    },
    {
      "cell_type": "markdown",
      "metadata": {
        "id": "YWMNMUOuZuuM"
      },
      "source": [
        "## <font color=\"red\">*Exercise 5*</font>\n",
        "\n",
        "<font color=\"red\">In the cells immediately following, perform and visualize k-nearest neighbor classification using training, testing and extrapolation (uncoded) data from texts and hand-classifications associated with your final project. Visualize the classification of data points and calculate relevant metrics (e.g., precision, recall, the F-measure, and AUC). Articulate how the *k*-nearest neighbor approach relates to *k*-means clustering explored in ***week 3***?"
      ]
    },
    {
      "cell_type": "code",
      "source": [
        "import pandas as pd\n",
        "import sklearn\n",
        "from sklearn.feature_extraction.text import TfidfVectorizer\n",
        "from sklearn.model_selection import train_test_split\n",
        "from sklearn.neighbors import KNeighborsClassifier\n",
        "import numpy as np\n",
        "import jieba\n",
        "import lucem_illud\n",
        "\n",
        "\n",
        "\n",
        "# 读取数据\n",
        "df = pd.read_csv('/content/sampled_shanghaidata1.csv').head(1000)\n",
        "\n",
        "# 使用 jieba 进行中文分词\n",
        "df['tokenized_text'] = df['标题/微博内容'].apply(lambda x: ' '.join(jieba.cut(x)))\n",
        "\n",
        "# 将情感标签映射到英文\n",
        "emotion_mapping = {\n",
        "    '愤怒': 'Anger',\n",
        "    '期待': 'Anticipation',\n",
        "    '恐惧': 'Fear',\n",
        "    '喜悦': 'Joy',\n",
        "    '信任': 'Trust',\n",
        "    '惊讶': 'Surprise',\n",
        "    '悲伤': 'Sadness',\n",
        "    '厌恶': 'Disgust'\n",
        "}\n",
        "df['sentiment_label'] = df['情感分析1'].map(emotion_mapping)\n",
        "\n",
        "# 分割数据为训练集和测试集\n",
        "train_df, test_df = train_test_split(df, test_size=0.2)\n",
        "\n",
        "# 创建 TF-IDF 向量化器\n",
        "TFVectorizer = TfidfVectorizer(max_df=100, min_df=2, norm='l2')\n",
        "\n",
        "# 对训练数据进行向量化\n",
        "TFVects_train = TFVectorizer.fit_transform(train_df['tokenized_text'])\n",
        "train_df['vect'] = [np.array(v).flatten() for v in TFVects_train.todense()]\n",
        "\n",
        "# 定义 K 最近邻分类器的参数\n",
        "n_neighbors = 15\n",
        "weights = \"uniform\"\n",
        "clf_knearest = KNeighborsClassifier(n_neighbors, weights=weights)\n",
        "\n",
        "# 训练 K 最近邻分类器\n",
        "clf_knearest.fit(np.stack(train_df['vect'], axis=0), train_df['sentiment_label'])\n",
        "\n",
        "# 对测试数据进行向量化\n",
        "TFVects_test = TFVectorizer.transform(test_df['tokenized_text'])\n",
        "test_df['vect'] = [np.array(v).flatten() for v in TFVects_test.todense()]\n",
        "\n",
        "# 预测测试数据\n",
        "test_df['nb_predict'] = clf_knearest.predict(np.stack(test_df['vect'], axis=0))\n",
        "\n",
        "# 测试模型性能\n",
        "print(\"Testing score:\")\n",
        "print(clf_knearest.score(np.stack(test_df['vect'], axis=0), test_df['sentiment_label']))\n",
        "\n",
        "\n",
        "\n",
        "\n"
      ],
      "metadata": {
        "colab": {
          "base_uri": "https://localhost:8080/"
        },
        "id": "3W-5oPQH8Ldh",
        "outputId": "f66a9199-898f-427a-929b-bc261b7881c3"
      },
      "execution_count": null,
      "outputs": [
        {
          "output_type": "stream",
          "name": "stdout",
          "text": [
            "Testing score:\n",
            "0.385\n"
          ]
        }
      ]
    },
    {
      "cell_type": "code",
      "source": [
        "import matplotlib.pyplot as plt\n",
        "import seaborn as sns\n",
        "from sklearn.metrics import confusion_matrix\n",
        "\n",
        "# 生成混淆矩阵\n",
        "cm = confusion_matrix(test_df['sentiment_label'], test_df['nb_predict'])\n",
        "\n",
        "# 使用 seaborn 绘制热力图\n",
        "plt.figure(figsize=(10, 7))\n",
        "sns.heatmap(cm, annot=True, fmt='d', cmap='Blues', xticklabels=label_encoder.classes_, yticklabels=label_encoder.classes_)\n",
        "plt.title('Confusion Matrix')\n",
        "plt.ylabel('True Label')\n",
        "plt.xlabel('Predicted Label')\n",
        "plt.show()\n"
      ],
      "metadata": {
        "id": "7LEL5bJX8l6K"
      },
      "execution_count": null,
      "outputs": []
    },
    {
      "cell_type": "markdown",
      "metadata": {
        "collapsed": true,
        "id": "jj4O8oXyZuuM"
      },
      "source": [
        "# SVMs\n",
        "\n",
        "Now we will examine Support Vector Machines, an approach that creates the partition that preserves the \"maximum margin\" between classes.\n",
        "\n",
        "We will use a few sub forums from reddit--which tend to share text rather than memes--namely `talesfromtechsupport`, `badroommates`, `weeabootales` and `relationships`. The top 100 text posts from each have been saved to `data/reddit.csv`."
      ]
    },
    {
      "cell_type": "code",
      "execution_count": null,
      "metadata": {
        "id": "N4b9MWcRZuuM"
      },
      "outputs": [],
      "source": [
        "redditDf = pandas.read_csv('../data/reddit.csv', index_col = 0) # replace path if on Colab\n",
        "\n",
        "#Drop a couple missing values\n",
        "\n",
        "redditDf = redditDf.dropna()\n",
        "\n",
        "#Set category\n",
        "\n",
        "redditDf['category'] = redditDf['subreddit']\n",
        "\n",
        "#tokenize and normalize\n",
        "redditDf['tokenized_text'] = redditDf['text'].apply(lambda x: lucem_illud.word_tokenize(x))\n",
        "redditDf['normalized_text'] = redditDf['tokenized_text'].apply(lambda x: lucem_illud.normalizeTokens(x))"
      ]
    },
    {
      "cell_type": "markdown",
      "metadata": {
        "id": "7a5h41X7ZuuM"
      },
      "source": [
        "We will tf.idf the data to make our vectors:"
      ]
    },
    {
      "cell_type": "code",
      "execution_count": null,
      "metadata": {
        "id": "T6rSpRrgZuuM"
      },
      "outputs": [],
      "source": [
        "redditTFVectorizer = sklearn.feature_extraction.text.TfidfVectorizer(max_df=0.5, min_df=3, stop_words='english', norm='l2')\n",
        "redditTFVects = redditTFVectorizer.fit_transform([' '.join(l) for l in redditDf['normalized_text']])\n",
        "redditDf['vect'] = [np.array(v).flatten() for v in redditTFVects.todense()]"
      ]
    },
    {
      "cell_type": "markdown",
      "metadata": {
        "id": "9oByx_elZuuN"
      },
      "source": [
        "Initilize the model and make a train test split:"
      ]
    },
    {
      "cell_type": "code",
      "execution_count": null,
      "metadata": {
        "id": "jw6khCLsZuuN"
      },
      "outputs": [],
      "source": [
        "holdBackFraction = .2\n",
        "train_redditDf, test_redditDf = sklearn.model_selection.train_test_split(redditDf, test_size=holdBackFraction)"
      ]
    },
    {
      "cell_type": "code",
      "execution_count": null,
      "metadata": {
        "id": "SCyxtbWJZuuN"
      },
      "outputs": [],
      "source": [
        "clf_svm = sklearn.svm.SVC(kernel='linear', probability = False)\n",
        "#probability = True is slower but  lets you call predict_proba()\n",
        "clf_svm.fit(np.stack(train_redditDf['vect'], axis=0), train_redditDf['category'])"
      ]
    },
    {
      "cell_type": "markdown",
      "metadata": {
        "id": "B0ZhySQpZuuN"
      },
      "source": [
        "...and consider the results:"
      ]
    },
    {
      "cell_type": "code",
      "execution_count": null,
      "metadata": {
        "id": "IBUmUn-oZuuN"
      },
      "outputs": [],
      "source": [
        "lucem_illud.evaluateClassifier(clf_svm, test_redditDf)"
      ]
    },
    {
      "cell_type": "code",
      "execution_count": null,
      "metadata": {
        "id": "K6L56BgVZuuN"
      },
      "outputs": [],
      "source": [
        "lucem_illud.plotConfusionMatrix(clf_svm, test_redditDf)"
      ]
    },
    {
      "cell_type": "code",
      "execution_count": null,
      "metadata": {
        "id": "KxYEKsktZuuO"
      },
      "outputs": [],
      "source": [
        "lucem_illud.plotregions(clf_svm, test_redditDf)"
      ]
    },
    {
      "cell_type": "markdown",
      "metadata": {
        "id": "xqn54YQSZuuO"
      },
      "source": [
        "# Neural Nets\n",
        "\n",
        "We include an example of a simple neural network, the Multi-layer Perceptron (MLP) that learns a function $f(\\cdot): R^m \\rightarrow R^o$ by training on a dataset, where $m$ is the number of dimensions for input and $o$ is the number of dimensions for output. Given a set of features $X = {x_1, x_2, ..., x_m}$ and a target $y$, it can learn a non-linear function approximator for either classification or regression. It is different from logistic regression, in that between the input and the output layer, there can be one or more non-linear layers, called hidden layers. The following figure shows a one hidden layer MLP with scalar output. The leftmost layer, known as the input layer, consists of a set of \"neurons\" $\\{x_i | x_1, x_2, ..., x_m\\}$ representing the input features (e.g., weighted words). Each neuron in the hidden layer transforms the values from the previous layer with a weighted linear summation $z = w_1x_1 + w_2x_2 + ... + w_mx_m$, followed by a non-linear activation function $f(\\cdot):R \\rightarrow R$ - like the logistic or hyperbolic tan function. The output layer receives the values from the last hidden layer and transforms them into output values."
      ]
    },
    {
      "cell_type": "markdown",
      "source": [
        "<img src=\"https://github.com/UChicago-Computational-Content-Analysis/Homework-Notebooks-2024-Winter/blob/main/data/MLP.jpg?raw=true\" alt=\"https://github.com/UChicago-Computational-Content-Analysis/Homework-Notebooks-2024-Winter/blob/main/data/MLP.jpg?raw=true\" style=\"width:500px\">"
      ],
      "metadata": {
        "id": "IbkObvzVuTVL"
      }
    },
    {
      "cell_type": "code",
      "execution_count": null,
      "metadata": {
        "id": "ymFM2pRxZuuO"
      },
      "outputs": [],
      "source": [
        "clf_nn = sklearn.neural_network.MLPClassifier()\n",
        "clf_nn.fit(np.stack(train_redditDf['vect'], axis=0), train_redditDf['category'])"
      ]
    },
    {
      "cell_type": "code",
      "execution_count": null,
      "metadata": {
        "id": "-zC2Pr15ZuuO"
      },
      "outputs": [],
      "source": [
        "lucem_illud.evaluateClassifier(clf_nn, test_redditDf)"
      ]
    },
    {
      "cell_type": "code",
      "execution_count": null,
      "metadata": {
        "id": "dAx-lApjZuuO"
      },
      "outputs": [],
      "source": [
        "lucem_illud.plotConfusionMatrix(clf_nn, test_redditDf)"
      ]
    },
    {
      "cell_type": "code",
      "execution_count": null,
      "metadata": {
        "id": "PM-6sUboZuuO"
      },
      "outputs": [],
      "source": [
        "lucem_illud.plotregions(clf_nn, test_redditDf)"
      ]
    },
    {
      "cell_type": "markdown",
      "metadata": {
        "id": "wQLUquCvZuuO"
      },
      "source": [
        "It performs very well."
      ]
    },
    {
      "cell_type": "markdown",
      "metadata": {
        "id": "T9q4R8_JZuuO"
      },
      "source": [
        "## <font color=\"red\">*Exercise 6*</font>\n",
        "\n",
        "<font color=\"red\">In the cells immediately following, perform a neural network classification and calculate relevant metrics (e.g., precision, recall, the F-measure, and AUC). How does this classify relevant to *k*-nearest neighbor, logistic and decision-tree approaches?"
      ]
    },
    {
      "cell_type": "code",
      "source": [
        "import pandas as pd\n",
        "import sklearn\n",
        "from sklearn.feature_extraction.text import TfidfVectorizer\n",
        "from sklearn.model_selection import train_test_split\n",
        "from sklearn.neural_network import MLPClassifier\n",
        "import jieba\n",
        "import numpy as np\n",
        "import lucem_illud\n",
        "\n",
        "\n",
        "df = pd.read_csv('/content/sampled_shanghaidata1.csv').head(1000)\n",
        "\n",
        "\n",
        "df['tokenized_text'] = df['标题/微博内容'].apply(lambda x: ' '.join(jieba.cut(x)))\n",
        "\n",
        "emotion_mapping = {\n",
        "    '愤怒': 'Anger',\n",
        "    '期待': 'Anticipation',\n",
        "    '恐惧': 'Fear',\n",
        "    '喜悦': 'Joy',\n",
        "    '信任': 'Trust',\n",
        "    '惊讶': 'Surprise',\n",
        "    '悲伤': 'Sadness',\n",
        "    '厌恶': 'Disgust'\n",
        "}\n",
        "df['category'] = df['情感分析1'].map(emotion_mapping)\n",
        "\n",
        "TFVectorizer = TfidfVectorizer(max_df=0.5, min_df=2, norm='l2')\n",
        "\n",
        "\n",
        "TFVects = TFVectorizer.fit_transform(df['tokenized_text'])\n",
        "\n",
        "df['vect'] = [np.array(v).flatten() for v in TFVects.todense()]\n",
        "\n",
        "\n",
        "train_df, test_df = train_test_split(df, test_size=0.3)\n",
        "\n",
        "\n",
        "clf_nn = MLPClassifier()\n",
        "\n",
        "\n",
        "clf_nn.fit(np.stack(train_df['vect'], axis=0), train_df['category'])\n",
        "\n",
        "\n",
        "# 绘制混淆矩阵\n",
        "lucem_illud.plotConfusionMatrix(clf_nn, test_df)\n",
        "\n",
        "\n"
      ],
      "metadata": {
        "colab": {
          "base_uri": "https://localhost:8080/",
          "height": 612
        },
        "id": "F6lxRDMeUBSN",
        "outputId": "db806d3a-a8bf-4fc2-df16-ecd79ed0d4d7"
      },
      "execution_count": null,
      "outputs": [
        {
          "output_type": "stream",
          "name": "stderr",
          "text": [
            "/usr/local/lib/python3.10/dist-packages/sklearn/neural_network/_multilayer_perceptron.py:686: ConvergenceWarning: Stochastic Optimizer: Maximum iterations (200) reached and the optimization hasn't converged yet.\n",
            "  warnings.warn(\n"
          ]
        },
        {
          "output_type": "display_data",
          "data": {
            "text/plain": [
              "<Figure size 640x480 with 1 Axes>"
            ],
            "image/png": "[encoded data removed]"
          },
          "metadata": {}
        }
      ]
    },
    {
      "cell_type": "code",
      "source": [
        "from sklearn.metrics import classification_report\n",
        "\n",
        "print(classification_report(y_test, y_pred, target_names=label_encoder.classes_, zero_division=1))\n"
      ],
      "metadata": {
        "colab": {
          "base_uri": "https://localhost:8080/"
        },
        "id": "wZnePEf2Vx4u",
        "outputId": "04a7b103-9240-4f02-8f0c-0d21722f5d79"
      },
      "execution_count": null,
      "outputs": [
        {
          "output_type": "stream",
          "name": "stdout",
          "text": [
            "              precision    recall  f1-score   support\n",
            "\n",
            "          信任       0.56      0.62      0.59        24\n",
            "          厌恶       0.52      0.90      0.66        94\n",
            "          喜悦       1.00      0.00      0.00         3\n",
            "          恐惧       1.00      0.00      0.00         4\n",
            "          悲伤       0.00      0.00      0.00        32\n",
            "          惊讶       1.00      0.00      0.00         7\n",
            "          愤怒       1.00      0.00      0.00        13\n",
            "          期待       0.20      0.09      0.12        23\n",
            "\n",
            "    accuracy                           0.51       200\n",
            "   macro avg       0.66      0.20      0.17       200\n",
            "weighted avg       0.47      0.51      0.40       200\n",
            "\n"
          ]
        }
      ]
    },
    {
      "cell_type": "markdown",
      "metadata": {
        "id": "4cJ-SkJpAdhp"
      },
      "source": [
        "## Classification with BERT Pipelines\n",
        "Now, instead of classifying based on \"old\" NLP methods, we will now use the popular Transformers package default 'pipelines'. This package has methods for a wide range of common NLP tasks using contextual word embeddings. Note that for this homework, we are not building new contextual models ourselves, merely using existing models in Transformers. We will spend Weeks 7 and 8 learning more about Transformers, so do not worry about fully understanding them this week.\n",
        "\n",
        "[Transformers Documentation](https://huggingface.co/transformers/)\n",
        "\n",
        "[Transformers GitHub](https://github.com/huggingface/transformers)\n",
        "\n",
        "The following sections of code are taken from the [Summary of Tasks](https://huggingface.co/transformers/task_summary.html) page in the Transformers documentation."
      ]
    },
    {
      "cell_type": "markdown",
      "metadata": {
        "id": "WqTAhBf3-ZMi"
      },
      "source": [
        "### Sequence Classification (e.g., sentiment)\n",
        "Sequence classification is the task of classifying sequences according to a given number of classes. An example of\n",
        "sequence classification is the GLUE dataset. If you would like to fine-tune a\n",
        "model on a GLUE sequence classification task, you may leverage the [pytorch version run_glue.py](https://github.com/huggingface/transformers/blob/f40b87de0ca234df61f76928956c4a2118c0b548/examples/pytorch/text-classification/run_glue.py) and\n",
        "[pytorch-lightning version run_glue.py](https://github.com/huggingface/transformers/blob/f40b87de0ca234df61f76928956c4a2118c0b548/examples/legacy/pytorch-lightning/run_glue.py)(legacy) or\n",
        "[tensorflow version run_glue.py](https://github.com/huggingface/transformers/blob/f40b87de0ca234df61f76928956c4a2118c0b548/examples/tensorflow/text-classification/run_glue.py) scripts.\n",
        "\n",
        "Here is an example of using pipelines to do sentiment analysis: identifying if a sentence is positive or negative. It\n",
        "leverages a fine-tuned model on sst2, which is a GLUE task.\n",
        "\n",
        "This returns a label (\"POSITIVE\" or \"NEGATIVE\") alongside a score, as follows:"
      ]
    },
    {
      "cell_type": "code",
      "execution_count": null,
      "metadata": {
        "id": "h5eXH5lA-ZMi"
      },
      "outputs": [],
      "source": [
        "from transformers import pipeline\n",
        "nlp = pipeline(\"sentiment-analysis\")\n",
        "result = nlp(\"I hate you\")[0]\n",
        "print(f\"label: {result['label']}, with score: {round(result['score'], 4)}\")\n",
        "result = nlp(\"I love you\")[0]\n",
        "print(f\"label: {result['label']}, with score: {round(result['score'], 4)}\")"
      ]
    },
    {
      "cell_type": "markdown",
      "metadata": {
        "id": "6dYX9haN-ZMj"
      },
      "source": [
        "Here is an example of doing a sequence classification using a model to determine if two sequences are paraphrases of\n",
        "each other. The process is the following:\n",
        "\n",
        "1. Instantiate a tokenizer and a model from the checkpoint name. The model is identified as a BERT model and loads it\n",
        "   with the weights stored in the checkpoint.\n",
        "2. Build a sequence from the two sentences, with the correct model-specific separators token type ids and attention\n",
        "   masks (`PreTrainedTokenizer.encode` and `PreTrainedTokenizer.__call__` take\n",
        "   care of this).\n",
        "3. Pass this sequence through the model so that it is classified in one of the two available classes: 0 (not a\n",
        "   paraphrase) and 1 (is a paraphrase).\n",
        "4. Compute the softmax of the result to get probabilities over the classes.\n",
        "5. Print the results."
      ]
    },
    {
      "cell_type": "code",
      "execution_count": null,
      "metadata": {
        "id": "LmUMMNsM-ZMk"
      },
      "outputs": [],
      "source": [
        "from transformers import AutoTokenizer, AutoModelForSequenceClassification\n",
        "import torch\n",
        "tokenizer = AutoTokenizer.from_pretrained(\"bert-base-cased-finetuned-mrpc\")\n",
        "model = AutoModelForSequenceClassification.from_pretrained(\"bert-base-cased-finetuned-mrpc\")\n",
        "classes = [\"not paraphrase\", \"is paraphrase\"]\n",
        "sequence_0 = \"The company HuggingFace is based in New York City\"\n",
        "sequence_1 = \"Apples are especially bad for your health\"\n",
        "sequence_2 = \"HuggingFace's headquarters are situated in Manhattan\"\n",
        "paraphrase = tokenizer(sequence_0, sequence_2, return_tensors=\"pt\")\n",
        "not_paraphrase = tokenizer(sequence_0, sequence_1, return_tensors=\"pt\")\n",
        "paraphrase_classification_logits = model(**paraphrase).logits\n",
        "not_paraphrase_classification_logits = model(**not_paraphrase).logits\n",
        "paraphrase_results = torch.softmax(paraphrase_classification_logits, dim=1).tolist()[0]\n",
        "not_paraphrase_results = torch.softmax(not_paraphrase_classification_logits, dim=1).tolist()[0]\n",
        "# Should be paraphrase\n",
        "for i in range(len(classes)):\n",
        "    print(f\"{classes[i]}: {int(round(paraphrase_results[i] * 100))}%\")\n",
        "# Should not be paraphrase\n",
        "for i in range(len(classes)):\n",
        "    print(f\"{classes[i]}: {int(round(not_paraphrase_results[i] * 100))}%\")"
      ]
    },
    {
      "cell_type": "markdown",
      "metadata": {
        "id": "H2oChnp1-ZMm"
      },
      "source": [
        "### Extractive Question Answering"
      ]
    },
    {
      "cell_type": "markdown",
      "metadata": {
        "id": "12uRPuEq-ZMm"
      },
      "source": [
        "Extractive Question Answering is the task of extracting an answer from a text given a question. An example of a\n",
        "question answering dataset is the SQuAD dataset, which is entirely based on that task. If you would like to fine-tune a\n",
        "model on a SQuAD task, you may leverage the [run_squad.py](https://github.com/huggingface/transformers/blob/f40b87de0ca234df61f76928956c4a2118c0b548/examples/legacy/question-answering/run_squad.py) (legacy) script.\n",
        "\n",
        "\n",
        "Here is an example of using pipelines to do question answering: extracting an answer from a text given a question. It\n",
        "leverages a fine-tuned model on SQuAD."
      ]
    },
    {
      "cell_type": "code",
      "execution_count": null,
      "metadata": {
        "id": "Ast1vLPT-ZMm"
      },
      "outputs": [],
      "source": [
        "from transformers import pipeline\n",
        "nlp = pipeline(\"question-answering\")\n",
        "context = r\"\"\"\n",
        "Extractive Question Answering is the task of extracting an answer from a text given a question. An example of a\n",
        "question answering dataset is the SQuAD dataset, which is entirely based on that task. If you would like to fine-tune\n",
        "a model on a SQuAD task, you may leverage the examples/legacy/question-answering/run_squad.py\n",
        "\"\"\""
      ]
    },
    {
      "cell_type": "markdown",
      "metadata": {
        "id": "r5fq8iB0-ZMn"
      },
      "source": [
        "This returns an answer extracted from the text, a confidence score, alongside \"start\" and \"end\" values, which are the\n",
        "positions of the extracted answer in the text."
      ]
    },
    {
      "cell_type": "code",
      "execution_count": null,
      "metadata": {
        "id": "gMSCEtkU-ZMn"
      },
      "outputs": [],
      "source": [
        "result = nlp(question=\"What is extractive question answering?\", context=context)\n",
        "print(f\"Answer: '{result['answer']}', score: {round(result['score'], 4)}, start: {result['start']}, end: {result['end']}\")\n",
        "result = nlp(question=\"What is a good example of a question answering dataset?\", context=context)\n",
        "print(f\"Answer: '{result['answer']}', score: {round(result['score'], 4)}, start: {result['start']}, end: {result['end']}\")"
      ]
    },
    {
      "cell_type": "markdown",
      "metadata": {
        "id": "4t3RxO8D-ZMn"
      },
      "source": [
        "Here is an example of question answering using a model and a tokenizer. The process is the following:\n",
        "\n",
        "1. Instantiate a tokenizer and a model from the checkpoint name. The model is identified as a BERT model and loads it\n",
        "   with the weights stored in the checkpoint.\n",
        "2. Define a text and a few questions.\n",
        "3. Iterate over the questions and build a sequence from the text and the current question, with the correct\n",
        "   model-specific separators token type ids and attention masks.\n",
        "4. Pass this sequence through the model. This outputs a range of scores across the entire sequence of tokens (question and\n",
        "   text), for both the start and end positions.\n",
        "5. Compute the softmax of the result to get probabilities over the tokens.\n",
        "6. Fetch the tokens from the identified start and stop values, convert those tokens to a string.\n",
        "7. Print the results."
      ]
    },
    {
      "cell_type": "code",
      "execution_count": null,
      "metadata": {
        "id": "tbvf9egg-ZMo"
      },
      "outputs": [],
      "source": [
        "from transformers import AutoTokenizer, AutoModelForQuestionAnswering\n",
        "import torch\n",
        "tokenizer = AutoTokenizer.from_pretrained(\"bert-large-uncased-whole-word-masking-finetuned-squad\")\n",
        "model = AutoModelForQuestionAnswering.from_pretrained(\"bert-large-uncased-whole-word-masking-finetuned-squad\")\n",
        "text = r\"\"\"\n",
        "🤗 Transformers (formerly known as pytorch-transformers and pytorch-pretrained-bert) provides general-purpose\n",
        "architectures (BERT, GPT-2, RoBERTa, XLM, DistilBert, XLNet…) for Natural Language Understanding (NLU) and Natural\n",
        "Language Generation (NLG) with over 32+ pretrained models in 100+ languages and deep interoperability between\n",
        "TensorFlow 2.0 and PyTorch.\n",
        "\"\"\"\n",
        "questions = [\n",
        "    \"How many pretrained models are available in 🤗 Transformers?\",\n",
        "    \"What does 🤗 Transformers provide?\",\n",
        "    \"🤗 Transformers provides interoperability between which frameworks?\",\n",
        "]\n",
        "for question in questions:\n",
        "    inputs = tokenizer(question, text, add_special_tokens=True, return_tensors=\"pt\")\n",
        "    input_ids = inputs[\"input_ids\"].tolist()[0]\n",
        "\n",
        "    text_tokens = tokenizer.convert_ids_to_tokens(input_ids)\n",
        "    outputs = model(**inputs)\n",
        "    answer_start_scores = outputs.start_logits\n",
        "    answer_end_scores = outputs.end_logits\n",
        "\n",
        "    answer_start = torch.argmax(\n",
        "        answer_start_scores\n",
        "    )  # Get the most likely beginning of answer with the argmax of the score\n",
        "    answer_end = torch.argmax(answer_end_scores) + 1  # Get the most likely end of answer with the argmax of the score\n",
        "\n",
        "    answer = tokenizer.convert_tokens_to_string(tokenizer.convert_ids_to_tokens(input_ids[answer_start:answer_end]))\n",
        "\n",
        "    print(f\"Question: {question}\")\n",
        "    print(f\"Answer: {answer}\")"
      ]
    },
    {
      "cell_type": "markdown",
      "metadata": {
        "id": "_MmzCmfgZuuP"
      },
      "source": [
        "## <font color=\"red\">*Exercise 7*</font>\n",
        "\n",
        "<font color=\"red\">In the cells immediately following, use the pipeline functions or the word or sentence vector functions (e.g., similarity) to explore the social game underlying the production and meaning of texts associated with your final project. How does BERT help you gain insight regarding your research question that is similar and different from prior methods?"
      ]
    },
    {
      "cell_type": "code",
      "source": [
        "from transformers import pipeline\n",
        "\n",
        "nlp = pipeline(\"sentiment-analysis\", model=\"shibing624/text2vec-base-chinese-sentence\")\n",
        "\n",
        "\n",
        "result = nlp(\"傻逼封城\")[0]\n",
        "print(f\"label: {result['label']}, with score: {round(result['score'], 4)}\")\n",
        "\n",
        "result = nlp(\"是吗？\")[0]\n",
        "print(f\"label: {result['label']}, with score: {round(result['score'], 4)}\")\n"
      ],
      "metadata": {
        "colab": {
          "base_uri": "https://localhost:8080/",
          "height": 298,
          "referenced_widgets": [
            "b1bd14b88a35419e834fa98bc40ded37",
            "5ef8eb15ae454a639e04f96750764a5e",
            "1a90b4111a9649489707689ad912f6e3",
            "6ea7da7593ad444182f23b56b76c425c",
            "c6c2778fd11140cfab4a33fd79bba029",
            "e6a92c87e70f41f08e63f7b24f514392",
            "7d17ba09e0354ea3b36b468eaaf23c03",
            "edd336c89293438d88df717512b07fe9",
            "59acdfab6da64f1e8c7d39a92bb30c5e",
            "efece7a6221c44b0ad581a08860fe257",
            "3dd04fdffeed4f3481bb60b76954a619",
            "cd363cfeaeb5437db14a2ea9a93ee593",
            "33e7a33135bc400c9a2eea31a200ed4a",
            "39d57a83562849deb3d471318fac3358",
            "45ac22e4c0284091ae5d72d95bfe6648",
            "5281a4f7a3104455ae909d625466bd08",
            "f453c90330a346f18ec424418b33efb2",
            "cb91b5f2afe04abcbeeb94eb19a0dd3e",
            "beb085e1e6704aac9881eb999fbc4911",
            "ad2fa6a4d10d4dd79c5f5496c0d98508",
            "3ec5616362024373afb28d8a99b1cfa9",
            "88c6f5d1573940e18fdc0d2e4f0da6ee",
            "fd09fae192574f32b8a3b2d24181c558",
            "a918391029eb4d658c6ae4740a668881",
            "642dee0abdca40929e696734a3507af7",
            "9ae09040c1be4581901b0eeb336dfbbc",
            "c68814f62483452fa42f85d82e7b25ae",
            "a7e7f09eab4441b49b3c341b007e99a1",
            "537d7f98d5b04f84b9983b1dd1fe327b",
            "a2cb65d4b0d14b4e9d89d077b531a49c",
            "e8789df636ad41f8994df5f233d9a7fb",
            "37d50d67748c4e119005bf4a1f605378",
            "8233a39359f546638b5936a41e88094a",
            "3096696168e0495db9383b7ab328e1c7",
            "141a18e0a7ad4049917931a36bdbf01f",
            "53d6ccd0c3a741f0a126ec790a4c2ebc",
            "3443cf4385c44b2394811039f3285f5c",
            "203e4fdf4f924099b94febcf05cfc8a4",
            "00bac2bea4ef45d5b3a21bbba6699f7d",
            "39216b60a76842d99c5b86b4ccae809b",
            "799e9eaa9d7f463a864d07d3668cfb1b",
            "3b601758269246f582407735b0007ec5",
            "4cfe124f436648c4a0fea9dc63e6704f",
            "d0f3000235da45e8a95a277f3ee8df32",
            "26d169005d224abeb830b1bde2e2bff9",
            "07fc15937b74429587a3b876e3d32840",
            "79638db00c9f47b3bc92e53af3d3f512",
            "abcc23defb0345dcb40f8edf261af243",
            "ffc31947d1164a92a297a52e2cc943de",
            "74d26a6188bc4e12bad1788bdad10554",
            "03447db9f6324ec2b068bec3be76f343",
            "a6e5af215b8445d99379e74209689c19",
            "9a49ecae39584c33a51159011c65a195",
            "6a1deae64c9348caa6979e50ebda3b00",
            "44ed4f1a545f4fdabbd94d7c8c1ee6f4",
            "4633a02d082f421b95b6e6d9d9df1658",
            "f5a4c3c1981647dab82eb7397fced495",
            "bdbdf8c314db4120bb05741c70bed7f5",
            "8dcfa4ff0b0c4ad6afae5188aa5b4ab2",
            "8fef30be612b4c0e8f42f3a800e0786b",
            "73d09e088d614b5ab9f2594ff0e072b2",
            "43c09a1067d647ceb902a90196bc70b8",
            "c116bd91c81a43619d3793b952666f6d",
            "352652fee4794b99a28023e8611e36b7",
            "c9934d30724444dca2000f0332d9ef43",
            "2d90f58566c54a49b15c9de836e6330b"
          ]
        },
        "id": "egDWr1HdZbI-",
        "outputId": "91661abb-2e69-4994-8d08-c4de31061b0d"
      },
      "execution_count": null,
      "outputs": [
        {
          "output_type": "display_data",
          "data": {
            "text/plain": [
              "config.json:   0%|          | 0.00/687 [00:00<?, ?B/s]"
            ],
            "application/vnd.jupyter.widget-view+json": {
              "version_major": 2,
              "version_minor": 0,
              "model_id": "b1bd14b88a35419e834fa98bc40ded37"
            }
          },
          "metadata": {}
        },
        {
          "output_type": "display_data",
          "data": {
            "text/plain": [
              "pytorch_model.bin:   0%|          | 0.00/472M [00:00<?, ?B/s]"
            ],
            "application/vnd.jupyter.widget-view+json": {
              "version_major": 2,
              "version_minor": 0,
              "model_id": "cd363cfeaeb5437db14a2ea9a93ee593"
            }
          },
          "metadata": {}
        },
        {
          "output_type": "stream",
          "name": "stderr",
          "text": [
            "Some weights of ErnieForSequenceClassification were not initialized from the model checkpoint at shibing624/text2vec-base-chinese-sentence and are newly initialized: ['classifier.bias', 'classifier.weight']\n",
            "You should probably TRAIN this model on a down-stream task to be able to use it for predictions and inference.\n"
          ]
        },
        {
          "output_type": "display_data",
          "data": {
            "text/plain": [
              "tokenizer_config.json:   0%|          | 0.00/394 [00:00<?, ?B/s]"
            ],
            "application/vnd.jupyter.widget-view+json": {
              "version_major": 2,
              "version_minor": 0,
              "model_id": "fd09fae192574f32b8a3b2d24181c558"
            }
          },
          "metadata": {}
        },
        {
          "output_type": "display_data",
          "data": {
            "text/plain": [
              "vocab.txt:   0%|          | 0.00/187k [00:00<?, ?B/s]"
            ],
            "application/vnd.jupyter.widget-view+json": {
              "version_major": 2,
              "version_minor": 0,
              "model_id": "3096696168e0495db9383b7ab328e1c7"
            }
          },
          "metadata": {}
        },
        {
          "output_type": "display_data",
          "data": {
            "text/plain": [
              "tokenizer.json:   0%|          | 0.00/818k [00:00<?, ?B/s]"
            ],
            "application/vnd.jupyter.widget-view+json": {
              "version_major": 2,
              "version_minor": 0,
              "model_id": "26d169005d224abeb830b1bde2e2bff9"
            }
          },
          "metadata": {}
        },
        {
          "output_type": "display_data",
          "data": {
            "text/plain": [
              "special_tokens_map.json:   0%|          | 0.00/125 [00:00<?, ?B/s]"
            ],
            "application/vnd.jupyter.widget-view+json": {
              "version_major": 2,
              "version_minor": 0,
              "model_id": "4633a02d082f421b95b6e6d9d9df1658"
            }
          },
          "metadata": {}
        },
        {
          "output_type": "stream",
          "name": "stdout",
          "text": [
            "label: LABEL_0, with score: 0.564\n",
            "label: LABEL_0, with score: 0.5982\n"
          ]
        }
      ]
    },
    {
      "cell_type": "code",
      "source": [
        "result = nlp(\"#上海疫情防控效果日益显现#是吗？ ​​\")[0]\n",
        "print(f\"label: {result['label']}, with score: {round(result['score'], 4)}\")"
      ],
      "metadata": {
        "colab": {
          "base_uri": "https://localhost:8080/"
        },
        "id": "kthqoZNLbwkM",
        "outputId": "27f38762-2812-437f-df02-c2b9df282490"
      },
      "execution_count": null,
      "outputs": [
        {
          "output_type": "stream",
          "name": "stdout",
          "text": [
            "label: LABEL_0, with score: 0.6845\n"
          ]
        }
      ]
    },
    {
      "cell_type": "code",
      "source": [
        "from transformers import pipeline\n",
        "nlp = pipeline(\"question-answering\", model=\"clhuang/albert-sentiment\")\n",
        "\n",
        "context = \"#上海疫情# 按居委物业的说法，我们小区现在是防范区，按管控区处理。笑的很大声[666] ​​\"\n",
        "result = nlp(question=\"他想表达什么?\", context=context)\n",
        "print(f\"答案: '{result['answer']}', 得分: {result['score']}, 开始: {result['start']}, 结束: {result['end']}\")\n"
      ],
      "metadata": {
        "colab": {
          "base_uri": "https://localhost:8080/"
        },
        "id": "CL2XJFa0ec40",
        "outputId": "79714bbe-2e9a-4f1a-d223-2ad0438e8a96"
      },
      "execution_count": null,
      "outputs": [
        {
          "output_type": "stream",
          "name": "stderr",
          "text": [
            "Some weights of BertForQuestionAnswering were not initialized from the model checkpoint at clhuang/albert-sentiment and are newly initialized: ['qa_outputs.weight', 'qa_outputs.bias']\n",
            "You should probably TRAIN this model on a down-stream task to be able to use it for predictions and inference.\n"
          ]
        },
        {
          "output_type": "stream",
          "name": "stdout",
          "text": [
            "答案: '处理。笑的很大声', 得分: 0.0015318262157961726, 开始: 31, 结束: 39\n"
          ]
        }
      ]
    },
    {
      "cell_type": "code",
      "source": [
        "from transformers import AutoTokenizer, AutoModelForQuestionAnswering\n",
        "import torch\n",
        "tokenizer = AutoTokenizer.from_pretrained(\"shibing624/text2vec-base-chinese-sentence\")\n",
        "model = AutoModelForQuestionAnswering.from_pretrained(\"shibing624/text2vec-base-chinese-sentence\")\n",
        "text = r\"\"\"\n",
        "疫情真的遍地开花，好烦。坐地铁从虹口到浦东老是感觉处在危险之中[汗]\n",
        "\"\"\"\n",
        "questions = [\n",
        "    \"他在害怕吗?\",\n",
        "    \"现在疫情怎么样了?\",\n",
        "\n",
        "]\n",
        "for question in questions:\n",
        "    inputs = tokenizer(question, text, add_special_tokens=True, return_tensors=\"pt\")\n",
        "    input_ids = inputs[\"input_ids\"].tolist()[0]\n",
        "\n",
        "    text_tokens = tokenizer.convert_ids_to_tokens(input_ids)\n",
        "    outputs = model(**inputs)\n",
        "    answer_start_scores = outputs.start_logits\n",
        "    answer_end_scores = outputs.end_logits\n",
        "\n",
        "    answer_start = torch.argmax(\n",
        "        answer_start_scores\n",
        "    )  # Get the most likely beginning of answer with the argmax of the score\n",
        "    answer_end = torch.argmax(answer_end_scores) + 1  # Get the most likely end of answer with the argmax of the score\n",
        "\n",
        "    answer = tokenizer.convert_tokens_to_string(tokenizer.convert_ids_to_tokens(input_ids[answer_start:answer_end]))\n",
        "\n",
        "    print(f\"Question: {question}\")\n",
        "    print(f\"Answer: {answer}\")"
      ],
      "metadata": {
        "colab": {
          "base_uri": "https://localhost:8080/"
        },
        "id": "Ie_S5s9YjCQK",
        "outputId": "e39ed4f4-7bd7-463c-be65-9825e6d450fa"
      },
      "execution_count": null,
      "outputs": [
        {
          "output_type": "stream",
          "name": "stderr",
          "text": [
            "Some weights of ErnieForQuestionAnswering were not initialized from the model checkpoint at shibing624/text2vec-base-chinese-sentence and are newly initialized: ['qa_outputs.weight', 'qa_outputs.bias']\n",
            "You should probably TRAIN this model on a down-stream task to be able to use it for predictions and inference.\n"
          ]
        },
        {
          "output_type": "stream",
          "name": "stdout",
          "text": [
            "Question: 他在害怕吗?\n",
            "Answer: 好 烦 。 坐 地 铁 从 虹 口 到 浦 东 老 是 感 觉 处 在 危 险 之 中 [ 汗 ] [SEP]\n",
            "Question: 现在疫情怎么样了?\n",
            "Answer: \n"
          ]
        }
      ]
    }
  ],
  "metadata": {
    "kernelspec": {
      "display_name": "Python 3",
      "name": "python3"
    },
    "language_info": {
      "codemirror_mode": {
        "name": "ipython",
        "version": 3
      },
      "file_extension": ".py",
      "mimetype": "text/x-python",
      "name": "python",
      "nbconvert_exporter": "python",
      "pygments_lexer": "ipython3",
      "version": "3.9.7"
    },
    "colab": {
      "provenance": [],
      "machine_shape": "hm"
    },
    "widgets": {
      "application/vnd.jupyter.widget-state+json": {
        "b1bd14b88a35419e834fa98bc40ded37": {
          "model_module": "@jupyter-widgets/controls",
          "model_name": "HBoxModel",
          "model_module_version": "1.5.0",
          "state": {
            "_dom_classes": [],
            "_model_module": "@jupyter-widgets/controls",
            "_model_module_version": "1.5.0",
            "_model_name": "HBoxModel",
            "_view_count": null,
            "_view_module": "@jupyter-widgets/controls",
            "_view_module_version": "1.5.0",
            "_view_name": "HBoxView",
            "box_style": "",
            "children": [
              "IPY_MODEL_5ef8eb15ae454a639e04f96750764a5e",
              "IPY_MODEL_1a90b4111a9649489707689ad912f6e3",
              "IPY_MODEL_6ea7da7593ad444182f23b56b76c425c"
            ],
            "layout": "IPY_MODEL_c6c2778fd11140cfab4a33fd79bba029"
          }
        },
        "5ef8eb15ae454a639e04f96750764a5e": {
          "model_module": "@jupyter-widgets/controls",
          "model_name": "HTMLModel",
          "model_module_version": "1.5.0",
          "state": {
            "_dom_classes": [],
            "_model_module": "@jupyter-widgets/controls",
            "_model_module_version": "1.5.0",
            "_model_name": "HTMLModel",
            "_view_count": null,
            "_view_module": "@jupyter-widgets/controls",
            "_view_module_version": "1.5.0",
            "_view_name": "HTMLView",
            "description": "",
            "description_tooltip": null,
            "layout": "IPY_MODEL_e6a92c87e70f41f08e63f7b24f514392",
            "placeholder": "​",
            "style": "IPY_MODEL_7d17ba09e0354ea3b36b468eaaf23c03",
            "value": "config.json: 100%"
          }
        },
        "1a90b4111a9649489707689ad912f6e3": {
          "model_module": "@jupyter-widgets/controls",
          "model_name": "FloatProgressModel",
          "model_module_version": "1.5.0",
          "state": {
            "_dom_classes": [],
            "_model_module": "@jupyter-widgets/controls",
            "_model_module_version": "1.5.0",
            "_model_name": "FloatProgressModel",
            "_view_count": null,
            "_view_module": "@jupyter-widgets/controls",
            "_view_module_version": "1.5.0",
            "_view_name": "ProgressView",
            "bar_style": "success",
            "description": "",
            "description_tooltip": null,
            "layout": "IPY_MODEL_edd336c89293438d88df717512b07fe9",
            "max": 687,
            "min": 0,
            "orientation": "horizontal",
            "style": "IPY_MODEL_59acdfab6da64f1e8c7d39a92bb30c5e",
            "value": 687
          }
        },
        "6ea7da7593ad444182f23b56b76c425c": {
          "model_module": "@jupyter-widgets/controls",
          "model_name": "HTMLModel",
          "model_module_version": "1.5.0",
          "state": {
            "_dom_classes": [],
            "_model_module": "@jupyter-widgets/controls",
            "_model_module_version": "1.5.0",
            "_model_name": "HTMLModel",
            "_view_count": null,
            "_view_module": "@jupyter-widgets/controls",
            "_view_module_version": "1.5.0",
            "_view_name": "HTMLView",
            "description": "",
            "description_tooltip": null,
            "layout": "IPY_MODEL_efece7a6221c44b0ad581a08860fe257",
            "placeholder": "​",
            "style": "IPY_MODEL_3dd04fdffeed4f3481bb60b76954a619",
            "value": " 687/687 [00:00&lt;00:00, 14.9kB/s]"
          }
        },
        "c6c2778fd11140cfab4a33fd79bba029": {
          "model_module": "@jupyter-widgets/base",
          "model_name": "LayoutModel",
          "model_module_version": "1.2.0",
          "state": {
            "_model_module": "@jupyter-widgets/base",
            "_model_module_version": "1.2.0",
            "_model_name": "LayoutModel",
            "_view_count": null,
            "_view_module": "@jupyter-widgets/base",
            "_view_module_version": "1.2.0",
            "_view_name": "LayoutView",
            "align_content": null,
            "align_items": null,
            "align_self": null,
            "border": null,
            "bottom": null,
            "display": null,
            "flex": null,
            "flex_flow": null,
            "grid_area": null,
            "grid_auto_columns": null,
            "grid_auto_flow": null,
            "grid_auto_rows": null,
            "grid_column": null,
            "grid_gap": null,
            "grid_row": null,
            "grid_template_areas": null,
            "grid_template_columns": null,
            "grid_template_rows": null,
            "height": null,
            "justify_content": null,
            "justify_items": null,
            "left": null,
            "margin": null,
            "max_height": null,
            "max_width": null,
            "min_height": null,
            "min_width": null,
            "object_fit": null,
            "object_position": null,
            "order": null,
            "overflow": null,
            "overflow_x": null,
            "overflow_y": null,
            "padding": null,
            "right": null,
            "top": null,
            "visibility": null,
            "width": null
          }
        },
        "e6a92c87e70f41f08e63f7b24f514392": {
          "model_module": "@jupyter-widgets/base",
          "model_name": "LayoutModel",
          "model_module_version": "1.2.0",
          "state": {
            "_model_module": "@jupyter-widgets/base",
            "_model_module_version": "1.2.0",
            "_model_name": "LayoutModel",
            "_view_count": null,
            "_view_module": "@jupyter-widgets/base",
            "_view_module_version": "1.2.0",
            "_view_name": "LayoutView",
            "align_content": null,
            "align_items": null,
            "align_self": null,
            "border": null,
            "bottom": null,
            "display": null,
            "flex": null,
            "flex_flow": null,
            "grid_area": null,
            "grid_auto_columns": null,
            "grid_auto_flow": null,
            "grid_auto_rows": null,
            "grid_column": null,
            "grid_gap": null,
            "grid_row": null,
            "grid_template_areas": null,
            "grid_template_columns": null,
            "grid_template_rows": null,
            "height": null,
            "justify_content": null,
            "justify_items": null,
            "left": null,
            "margin": null,
            "max_height": null,
            "max_width": null,
            "min_height": null,
            "min_width": null,
            "object_fit": null,
            "object_position": null,
            "order": null,
            "overflow": null,
            "overflow_x": null,
            "overflow_y": null,
            "padding": null,
            "right": null,
            "top": null,
            "visibility": null,
            "width": null
          }
        },
        "7d17ba09e0354ea3b36b468eaaf23c03": {
          "model_module": "@jupyter-widgets/controls",
          "model_name": "DescriptionStyleModel",
          "model_module_version": "1.5.0",
          "state": {
            "_model_module": "@jupyter-widgets/controls",
            "_model_module_version": "1.5.0",
            "_model_name": "DescriptionStyleModel",
            "_view_count": null,
            "_view_module": "@jupyter-widgets/base",
            "_view_module_version": "1.2.0",
            "_view_name": "StyleView",
            "description_width": ""
          }
        },
        "edd336c89293438d88df717512b07fe9": {
          "model_module": "@jupyter-widgets/base",
          "model_name": "LayoutModel",
          "model_module_version": "1.2.0",
          "state": {
            "_model_module": "@jupyter-widgets/base",
            "_model_module_version": "1.2.0",
            "_model_name": "LayoutModel",
            "_view_count": null,
            "_view_module": "@jupyter-widgets/base",
            "_view_module_version": "1.2.0",
            "_view_name": "LayoutView",
            "align_content": null,
            "align_items": null,
            "align_self": null,
            "border": null,
            "bottom": null,
            "display": null,
            "flex": null,
            "flex_flow": null,
            "grid_area": null,
            "grid_auto_columns": null,
            "grid_auto_flow": null,
            "grid_auto_rows": null,
            "grid_column": null,
            "grid_gap": null,
            "grid_row": null,
            "grid_template_areas": null,
            "grid_template_columns": null,
            "grid_template_rows": null,
            "height": null,
            "justify_content": null,
            "justify_items": null,
            "left": null,
            "margin": null,
            "max_height": null,
            "max_width": null,
            "min_height": null,
            "min_width": null,
            "object_fit": null,
            "object_position": null,
            "order": null,
            "overflow": null,
            "overflow_x": null,
            "overflow_y": null,
            "padding": null,
            "right": null,
            "top": null,
            "visibility": null,
            "width": null
          }
        },
        "59acdfab6da64f1e8c7d39a92bb30c5e": {
          "model_module": "@jupyter-widgets/controls",
          "model_name": "ProgressStyleModel",
          "model_module_version": "1.5.0",
          "state": {
            "_model_module": "@jupyter-widgets/controls",
            "_model_module_version": "1.5.0",
            "_model_name": "ProgressStyleModel",
            "_view_count": null,
            "_view_module": "@jupyter-widgets/base",
            "_view_module_version": "1.2.0",
            "_view_name": "StyleView",
            "bar_color": null,
            "description_width": ""
          }
        },
        "efece7a6221c44b0ad581a08860fe257": {
          "model_module": "@jupyter-widgets/base",
          "model_name": "LayoutModel",
          "model_module_version": "1.2.0",
          "state": {
            "_model_module": "@jupyter-widgets/base",
            "_model_module_version": "1.2.0",
            "_model_name": "LayoutModel",
            "_view_count": null,
            "_view_module": "@jupyter-widgets/base",
            "_view_module_version": "1.2.0",
            "_view_name": "LayoutView",
            "align_content": null,
            "align_items": null,
            "align_self": null,
            "border": null,
            "bottom": null,
            "display": null,
            "flex": null,
            "flex_flow": null,
            "grid_area": null,
            "grid_auto_columns": null,
            "grid_auto_flow": null,
            "grid_auto_rows": null,
            "grid_column": null,
            "grid_gap": null,
            "grid_row": null,
            "grid_template_areas": null,
            "grid_template_columns": null,
            "grid_template_rows": null,
            "height": null,
            "justify_content": null,
            "justify_items": null,
            "left": null,
            "margin": null,
            "max_height": null,
            "max_width": null,
            "min_height": null,
            "min_width": null,
            "object_fit": null,
            "object_position": null,
            "order": null,
            "overflow": null,
            "overflow_x": null,
            "overflow_y": null,
            "padding": null,
            "right": null,
            "top": null,
            "visibility": null,
            "width": null
          }
        },
        "3dd04fdffeed4f3481bb60b76954a619": {
          "model_module": "@jupyter-widgets/controls",
          "model_name": "DescriptionStyleModel",
          "model_module_version": "1.5.0",
          "state": {
            "_model_module": "@jupyter-widgets/controls",
            "_model_module_version": "1.5.0",
            "_model_name": "DescriptionStyleModel",
            "_view_count": null,
            "_view_module": "@jupyter-widgets/base",
            "_view_module_version": "1.2.0",
            "_view_name": "StyleView",
            "description_width": ""
          }
        },
        "cd363cfeaeb5437db14a2ea9a93ee593": {
          "model_module": "@jupyter-widgets/controls",
          "model_name": "HBoxModel",
          "model_module_version": "1.5.0",
          "state": {
            "_dom_classes": [],
            "_model_module": "@jupyter-widgets/controls",
            "_model_module_version": "1.5.0",
            "_model_name": "HBoxModel",
            "_view_count": null,
            "_view_module": "@jupyter-widgets/controls",
            "_view_module_version": "1.5.0",
            "_view_name": "HBoxView",
            "box_style": "",
            "children": [
              "IPY_MODEL_33e7a33135bc400c9a2eea31a200ed4a",
              "IPY_MODEL_39d57a83562849deb3d471318fac3358",
              "IPY_MODEL_45ac22e4c0284091ae5d72d95bfe6648"
            ],
            "layout": "IPY_MODEL_5281a4f7a3104455ae909d625466bd08"
          }
        },
        "33e7a33135bc400c9a2eea31a200ed4a": {
          "model_module": "@jupyter-widgets/controls",
          "model_name": "HTMLModel",
          "model_module_version": "1.5.0",
          "state": {
            "_dom_classes": [],
            "_model_module": "@jupyter-widgets/controls",
            "_model_module_version": "1.5.0",
            "_model_name": "HTMLModel",
            "_view_count": null,
            "_view_module": "@jupyter-widgets/controls",
            "_view_module_version": "1.5.0",
            "_view_name": "HTMLView",
            "description": "",
            "description_tooltip": null,
            "layout": "IPY_MODEL_f453c90330a346f18ec424418b33efb2",
            "placeholder": "​",
            "style": "IPY_MODEL_cb91b5f2afe04abcbeeb94eb19a0dd3e",
            "value": "pytorch_model.bin: 100%"
          }
        },
        "39d57a83562849deb3d471318fac3358": {
          "model_module": "@jupyter-widgets/controls",
          "model_name": "FloatProgressModel",
          "model_module_version": "1.5.0",
          "state": {
            "_dom_classes": [],
            "_model_module": "@jupyter-widgets/controls",
            "_model_module_version": "1.5.0",
            "_model_name": "FloatProgressModel",
            "_view_count": null,
            "_view_module": "@jupyter-widgets/controls",
            "_view_module_version": "1.5.0",
            "_view_name": "ProgressView",
            "bar_style": "success",
            "description": "",
            "description_tooltip": null,
            "layout": "IPY_MODEL_beb085e1e6704aac9881eb999fbc4911",
            "max": 471863153,
            "min": 0,
            "orientation": "horizontal",
            "style": "IPY_MODEL_ad2fa6a4d10d4dd79c5f5496c0d98508",
            "value": 471863153
          }
        },
        "45ac22e4c0284091ae5d72d95bfe6648": {
          "model_module": "@jupyter-widgets/controls",
          "model_name": "HTMLModel",
          "model_module_version": "1.5.0",
          "state": {
            "_dom_classes": [],
            "_model_module": "@jupyter-widgets/controls",
            "_model_module_version": "1.5.0",
            "_model_name": "HTMLModel",
            "_view_count": null,
            "_view_module": "@jupyter-widgets/controls",
            "_view_module_version": "1.5.0",
            "_view_name": "HTMLView",
            "description": "",
            "description_tooltip": null,
            "layout": "IPY_MODEL_3ec5616362024373afb28d8a99b1cfa9",
            "placeholder": "​",
            "style": "IPY_MODEL_88c6f5d1573940e18fdc0d2e4f0da6ee",
            "value": " 472M/472M [00:03&lt;00:00, 142MB/s]"
          }
        },
        "5281a4f7a3104455ae909d625466bd08": {
          "model_module": "@jupyter-widgets/base",
          "model_name": "LayoutModel",
          "model_module_version": "1.2.0",
          "state": {
            "_model_module": "@jupyter-widgets/base",
            "_model_module_version": "1.2.0",
            "_model_name": "LayoutModel",
            "_view_count": null,
            "_view_module": "@jupyter-widgets/base",
            "_view_module_version": "1.2.0",
            "_view_name": "LayoutView",
            "align_content": null,
            "align_items": null,
            "align_self": null,
            "border": null,
            "bottom": null,
            "display": null,
            "flex": null,
            "flex_flow": null,
            "grid_area": null,
            "grid_auto_columns": null,
            "grid_auto_flow": null,
            "grid_auto_rows": null,
            "grid_column": null,
            "grid_gap": null,
            "grid_row": null,
            "grid_template_areas": null,
            "grid_template_columns": null,
            "grid_template_rows": null,
            "height": null,
            "justify_content": null,
            "justify_items": null,
            "left": null,
            "margin": null,
            "max_height": null,
            "max_width": null,
            "min_height": null,
            "min_width": null,
            "object_fit": null,
            "object_position": null,
            "order": null,
            "overflow": null,
            "overflow_x": null,
            "overflow_y": null,
            "padding": null,
            "right": null,
            "top": null,
            "visibility": null,
            "width": null
          }
        },
        "f453c90330a346f18ec424418b33efb2": {
          "model_module": "@jupyter-widgets/base",
          "model_name": "LayoutModel",
          "model_module_version": "1.2.0",
          "state": {
            "_model_module": "@jupyter-widgets/base",
            "_model_module_version": "1.2.0",
            "_model_name": "LayoutModel",
            "_view_count": null,
            "_view_module": "@jupyter-widgets/base",
            "_view_module_version": "1.2.0",
            "_view_name": "LayoutView",
            "align_content": null,
            "align_items": null,
            "align_self": null,
            "border": null,
            "bottom": null,
            "display": null,
            "flex": null,
            "flex_flow": null,
            "grid_area": null,
            "grid_auto_columns": null,
            "grid_auto_flow": null,
            "grid_auto_rows": null,
            "grid_column": null,
            "grid_gap": null,
            "grid_row": null,
            "grid_template_areas": null,
            "grid_template_columns": null,
            "grid_template_rows": null,
            "height": null,
            "justify_content": null,
            "justify_items": null,
            "left": null,
            "margin": null,
            "max_height": null,
            "max_width": null,
            "min_height": null,
            "min_width": null,
            "object_fit": null,
            "object_position": null,
            "order": null,
            "overflow": null,
            "overflow_x": null,
            "overflow_y": null,
            "padding": null,
            "right": null,
            "top": null,
            "visibility": null,
            "width": null
          }
        },
        "cb91b5f2afe04abcbeeb94eb19a0dd3e": {
          "model_module": "@jupyter-widgets/controls",
          "model_name": "DescriptionStyleModel",
          "model_module_version": "1.5.0",
          "state": {
            "_model_module": "@jupyter-widgets/controls",
            "_model_module_version": "1.5.0",
            "_model_name": "DescriptionStyleModel",
            "_view_count": null,
            "_view_module": "@jupyter-widgets/base",
            "_view_module_version": "1.2.0",
            "_view_name": "StyleView",
            "description_width": ""
          }
        },
        "beb085e1e6704aac9881eb999fbc4911": {
          "model_module": "@jupyter-widgets/base",
          "model_name": "LayoutModel",
          "model_module_version": "1.2.0",
          "state": {
            "_model_module": "@jupyter-widgets/base",
            "_model_module_version": "1.2.0",
            "_model_name": "LayoutModel",
            "_view_count": null,
            "_view_module": "@jupyter-widgets/base",
            "_view_module_version": "1.2.0",
            "_view_name": "LayoutView",
            "align_content": null,
            "align_items": null,
            "align_self": null,
            "border": null,
            "bottom": null,
            "display": null,
            "flex": null,
            "flex_flow": null,
            "grid_area": null,
            "grid_auto_columns": null,
            "grid_auto_flow": null,
            "grid_auto_rows": null,
            "grid_column": null,
            "grid_gap": null,
            "grid_row": null,
            "grid_template_areas": null,
            "grid_template_columns": null,
            "grid_template_rows": null,
            "height": null,
            "justify_content": null,
            "justify_items": null,
            "left": null,
            "margin": null,
            "max_height": null,
            "max_width": null,
            "min_height": null,
            "min_width": null,
            "object_fit": null,
            "object_position": null,
            "order": null,
            "overflow": null,
            "overflow_x": null,
            "overflow_y": null,
            "padding": null,
            "right": null,
            "top": null,
            "visibility": null,
            "width": null
          }
        },
        "ad2fa6a4d10d4dd79c5f5496c0d98508": {
          "model_module": "@jupyter-widgets/controls",
          "model_name": "ProgressStyleModel",
          "model_module_version": "1.5.0",
          "state": {
            "_model_module": "@jupyter-widgets/controls",
            "_model_module_version": "1.5.0",
            "_model_name": "ProgressStyleModel",
            "_view_count": null,
            "_view_module": "@jupyter-widgets/base",
            "_view_module_version": "1.2.0",
            "_view_name": "StyleView",
            "bar_color": null,
            "description_width": ""
          }
        },
        "3ec5616362024373afb28d8a99b1cfa9": {
          "model_module": "@jupyter-widgets/base",
          "model_name": "LayoutModel",
          "model_module_version": "1.2.0",
          "state": {
            "_model_module": "@jupyter-widgets/base",
            "_model_module_version": "1.2.0",
            "_model_name": "LayoutModel",
            "_view_count": null,
            "_view_module": "@jupyter-widgets/base",
            "_view_module_version": "1.2.0",
            "_view_name": "LayoutView",
            "align_content": null,
            "align_items": null,
            "align_self": null,
            "border": null,
            "bottom": null,
            "display": null,
            "flex": null,
            "flex_flow": null,
            "grid_area": null,
            "grid_auto_columns": null,
            "grid_auto_flow": null,
            "grid_auto_rows": null,
            "grid_column": null,
            "grid_gap": null,
            "grid_row": null,
            "grid_template_areas": null,
            "grid_template_columns": null,
            "grid_template_rows": null,
            "height": null,
            "justify_content": null,
            "justify_items": null,
            "left": null,
            "margin": null,
            "max_height": null,
            "max_width": null,
            "min_height": null,
            "min_width": null,
            "object_fit": null,
            "object_position": null,
            "order": null,
            "overflow": null,
            "overflow_x": null,
            "overflow_y": null,
            "padding": null,
            "right": null,
            "top": null,
            "visibility": null,
            "width": null
          }
        },
        "88c6f5d1573940e18fdc0d2e4f0da6ee": {
          "model_module": "@jupyter-widgets/controls",
          "model_name": "DescriptionStyleModel",
          "model_module_version": "1.5.0",
          "state": {
            "_model_module": "@jupyter-widgets/controls",
            "_model_module_version": "1.5.0",
            "_model_name": "DescriptionStyleModel",
            "_view_count": null,
            "_view_module": "@jupyter-widgets/base",
            "_view_module_version": "1.2.0",
            "_view_name": "StyleView",
            "description_width": ""
          }
        },
        "fd09fae192574f32b8a3b2d24181c558": {
          "model_module": "@jupyter-widgets/controls",
          "model_name": "HBoxModel",
          "model_module_version": "1.5.0",
          "state": {
            "_dom_classes": [],
            "_model_module": "@jupyter-widgets/controls",
            "_model_module_version": "1.5.0",
            "_model_name": "HBoxModel",
            "_view_count": null,
            "_view_module": "@jupyter-widgets/controls",
            "_view_module_version": "1.5.0",
            "_view_name": "HBoxView",
            "box_style": "",
            "children": [
              "IPY_MODEL_a918391029eb4d658c6ae4740a668881",
              "IPY_MODEL_642dee0abdca40929e696734a3507af7",
              "IPY_MODEL_9ae09040c1be4581901b0eeb336dfbbc"
            ],
            "layout": "IPY_MODEL_c68814f62483452fa42f85d82e7b25ae"
          }
        },
        "a918391029eb4d658c6ae4740a668881": {
          "model_module": "@jupyter-widgets/controls",
          "model_name": "HTMLModel",
          "model_module_version": "1.5.0",
          "state": {
            "_dom_classes": [],
            "_model_module": "@jupyter-widgets/controls",
            "_model_module_version": "1.5.0",
            "_model_name": "HTMLModel",
            "_view_count": null,
            "_view_module": "@jupyter-widgets/controls",
            "_view_module_version": "1.5.0",
            "_view_name": "HTMLView",
            "description": "",
            "description_tooltip": null,
            "layout": "IPY_MODEL_a7e7f09eab4441b49b3c341b007e99a1",
            "placeholder": "​",
            "style": "IPY_MODEL_537d7f98d5b04f84b9983b1dd1fe327b",
            "value": "tokenizer_config.json: 100%"
          }
        },
        "642dee0abdca40929e696734a3507af7": {
          "model_module": "@jupyter-widgets/controls",
          "model_name": "FloatProgressModel",
          "model_module_version": "1.5.0",
          "state": {
            "_dom_classes": [],
            "_model_module": "@jupyter-widgets/controls",
            "_model_module_version": "1.5.0",
            "_model_name": "FloatProgressModel",
            "_view_count": null,
            "_view_module": "@jupyter-widgets/controls",
            "_view_module_version": "1.5.0",
            "_view_name": "ProgressView",
            "bar_style": "success",
            "description": "",
            "description_tooltip": null,
            "layout": "IPY_MODEL_a2cb65d4b0d14b4e9d89d077b531a49c",
            "max": 394,
            "min": 0,
            "orientation": "horizontal",
            "style": "IPY_MODEL_e8789df636ad41f8994df5f233d9a7fb",
            "value": 394
          }
        },
        "9ae09040c1be4581901b0eeb336dfbbc": {
          "model_module": "@jupyter-widgets/controls",
          "model_name": "HTMLModel",
          "model_module_version": "1.5.0",
          "state": {
            "_dom_classes": [],
            "_model_module": "@jupyter-widgets/controls",
            "_model_module_version": "1.5.0",
            "_model_name": "HTMLModel",
            "_view_count": null,
            "_view_module": "@jupyter-widgets/controls",
            "_view_module_version": "1.5.0",
            "_view_name": "HTMLView",
            "description": "",
            "description_tooltip": null,
            "layout": "IPY_MODEL_37d50d67748c4e119005bf4a1f605378",
            "placeholder": "​",
            "style": "IPY_MODEL_8233a39359f546638b5936a41e88094a",
            "value": " 394/394 [00:00&lt;00:00, 6.40kB/s]"
          }
        },
        "c68814f62483452fa42f85d82e7b25ae": {
          "model_module": "@jupyter-widgets/base",
          "model_name": "LayoutModel",
          "model_module_version": "1.2.0",
          "state": {
            "_model_module": "@jupyter-widgets/base",
            "_model_module_version": "1.2.0",
            "_model_name": "LayoutModel",
            "_view_count": null,
            "_view_module": "@jupyter-widgets/base",
            "_view_module_version": "1.2.0",
            "_view_name": "LayoutView",
            "align_content": null,
            "align_items": null,
            "align_self": null,
            "border": null,
            "bottom": null,
            "display": null,
            "flex": null,
            "flex_flow": null,
            "grid_area": null,
            "grid_auto_columns": null,
            "grid_auto_flow": null,
            "grid_auto_rows": null,
            "grid_column": null,
            "grid_gap": null,
            "grid_row": null,
            "grid_template_areas": null,
            "grid_template_columns": null,
            "grid_template_rows": null,
            "height": null,
            "justify_content": null,
            "justify_items": null,
            "left": null,
            "margin": null,
            "max_height": null,
            "max_width": null,
            "min_height": null,
            "min_width": null,
            "object_fit": null,
            "object_position": null,
            "order": null,
            "overflow": null,
            "overflow_x": null,
            "overflow_y": null,
            "padding": null,
            "right": null,
            "top": null,
            "visibility": null,
            "width": null
          }
        },
        "a7e7f09eab4441b49b3c341b007e99a1": {
          "model_module": "@jupyter-widgets/base",
          "model_name": "LayoutModel",
          "model_module_version": "1.2.0",
          "state": {
            "_model_module": "@jupyter-widgets/base",
            "_model_module_version": "1.2.0",
            "_model_name": "LayoutModel",
            "_view_count": null,
            "_view_module": "@jupyter-widgets/base",
            "_view_module_version": "1.2.0",
            "_view_name": "LayoutView",
            "align_content": null,
            "align_items": null,
            "align_self": null,
            "border": null,
            "bottom": null,
            "display": null,
            "flex": null,
            "flex_flow": null,
            "grid_area": null,
            "grid_auto_columns": null,
            "grid_auto_flow": null,
            "grid_auto_rows": null,
            "grid_column": null,
            "grid_gap": null,
            "grid_row": null,
            "grid_template_areas": null,
            "grid_template_columns": null,
            "grid_template_rows": null,
            "height": null,
            "justify_content": null,
            "justify_items": null,
            "left": null,
            "margin": null,
            "max_height": null,
            "max_width": null,
            "min_height": null,
            "min_width": null,
            "object_fit": null,
            "object_position": null,
            "order": null,
            "overflow": null,
            "overflow_x": null,
            "overflow_y": null,
            "padding": null,
            "right": null,
            "top": null,
            "visibility": null,
            "width": null
          }
        },
        "537d7f98d5b04f84b9983b1dd1fe327b": {
          "model_module": "@jupyter-widgets/controls",
          "model_name": "DescriptionStyleModel",
          "model_module_version": "1.5.0",
          "state": {
            "_model_module": "@jupyter-widgets/controls",
            "_model_module_version": "1.5.0",
            "_model_name": "DescriptionStyleModel",
            "_view_count": null,
            "_view_module": "@jupyter-widgets/base",
            "_view_module_version": "1.2.0",
            "_view_name": "StyleView",
            "description_width": ""
          }
        },
        "a2cb65d4b0d14b4e9d89d077b531a49c": {
          "model_module": "@jupyter-widgets/base",
          "model_name": "LayoutModel",
          "model_module_version": "1.2.0",
          "state": {
            "_model_module": "@jupyter-widgets/base",
            "_model_module_version": "1.2.0",
            "_model_name": "LayoutModel",
            "_view_count": null,
            "_view_module": "@jupyter-widgets/base",
            "_view_module_version": "1.2.0",
            "_view_name": "LayoutView",
            "align_content": null,
            "align_items": null,
            "align_self": null,
            "border": null,
            "bottom": null,
            "display": null,
            "flex": null,
            "flex_flow": null,
            "grid_area": null,
            "grid_auto_columns": null,
            "grid_auto_flow": null,
            "grid_auto_rows": null,
            "grid_column": null,
            "grid_gap": null,
            "grid_row": null,
            "grid_template_areas": null,
            "grid_template_columns": null,
            "grid_template_rows": null,
            "height": null,
            "justify_content": null,
            "justify_items": null,
            "left": null,
            "margin": null,
            "max_height": null,
            "max_width": null,
            "min_height": null,
            "min_width": null,
            "object_fit": null,
            "object_position": null,
            "order": null,
            "overflow": null,
            "overflow_x": null,
            "overflow_y": null,
            "padding": null,
            "right": null,
            "top": null,
            "visibility": null,
            "width": null
          }
        },
        "e8789df636ad41f8994df5f233d9a7fb": {
          "model_module": "@jupyter-widgets/controls",
          "model_name": "ProgressStyleModel",
          "model_module_version": "1.5.0",
          "state": {
            "_model_module": "@jupyter-widgets/controls",
            "_model_module_version": "1.5.0",
            "_model_name": "ProgressStyleModel",
            "_view_count": null,
            "_view_module": "@jupyter-widgets/base",
            "_view_module_version": "1.2.0",
            "_view_name": "StyleView",
            "bar_color": null,
            "description_width": ""
          }
        },
        "37d50d67748c4e119005bf4a1f605378": {
          "model_module": "@jupyter-widgets/base",
          "model_name": "LayoutModel",
          "model_module_version": "1.2.0",
          "state": {
            "_model_module": "@jupyter-widgets/base",
            "_model_module_version": "1.2.0",
            "_model_name": "LayoutModel",
            "_view_count": null,
            "_view_module": "@jupyter-widgets/base",
            "_view_module_version": "1.2.0",
            "_view_name": "LayoutView",
            "align_content": null,
            "align_items": null,
            "align_self": null,
            "border": null,
            "bottom": null,
            "display": null,
            "flex": null,
            "flex_flow": null,
            "grid_area": null,
            "grid_auto_columns": null,
            "grid_auto_flow": null,
            "grid_auto_rows": null,
            "grid_column": null,
            "grid_gap": null,
            "grid_row": null,
            "grid_template_areas": null,
            "grid_template_columns": null,
            "grid_template_rows": null,
            "height": null,
            "justify_content": null,
            "justify_items": null,
            "left": null,
            "margin": null,
            "max_height": null,
            "max_width": null,
            "min_height": null,
            "min_width": null,
            "object_fit": null,
            "object_position": null,
            "order": null,
            "overflow": null,
            "overflow_x": null,
            "overflow_y": null,
            "padding": null,
            "right": null,
            "top": null,
            "visibility": null,
            "width": null
          }
        },
        "8233a39359f546638b5936a41e88094a": {
          "model_module": "@jupyter-widgets/controls",
          "model_name": "DescriptionStyleModel",
          "model_module_version": "1.5.0",
          "state": {
            "_model_module": "@jupyter-widgets/controls",
            "_model_module_version": "1.5.0",
            "_model_name": "DescriptionStyleModel",
            "_view_count": null,
            "_view_module": "@jupyter-widgets/base",
            "_view_module_version": "1.2.0",
            "_view_name": "StyleView",
            "description_width": ""
          }
        },
        "3096696168e0495db9383b7ab328e1c7": {
          "model_module": "@jupyter-widgets/controls",
          "model_name": "HBoxModel",
          "model_module_version": "1.5.0",
          "state": {
            "_dom_classes": [],
            "_model_module": "@jupyter-widgets/controls",
            "_model_module_version": "1.5.0",
            "_model_name": "HBoxModel",
            "_view_count": null,
            "_view_module": "@jupyter-widgets/controls",
            "_view_module_version": "1.5.0",
            "_view_name": "HBoxView",
            "box_style": "",
            "children": [
              "IPY_MODEL_141a18e0a7ad4049917931a36bdbf01f",
              "IPY_MODEL_53d6ccd0c3a741f0a126ec790a4c2ebc",
              "IPY_MODEL_3443cf4385c44b2394811039f3285f5c"
            ],
            "layout": "IPY_MODEL_203e4fdf4f924099b94febcf05cfc8a4"
          }
        },
        "141a18e0a7ad4049917931a36bdbf01f": {
          "model_module": "@jupyter-widgets/controls",
          "model_name": "HTMLModel",
          "model_module_version": "1.5.0",
          "state": {
            "_dom_classes": [],
            "_model_module": "@jupyter-widgets/controls",
            "_model_module_version": "1.5.0",
            "_model_name": "HTMLModel",
            "_view_count": null,
            "_view_module": "@jupyter-widgets/controls",
            "_view_module_version": "1.5.0",
            "_view_name": "HTMLView",
            "description": "",
            "description_tooltip": null,
            "layout": "IPY_MODEL_00bac2bea4ef45d5b3a21bbba6699f7d",
            "placeholder": "​",
            "style": "IPY_MODEL_39216b60a76842d99c5b86b4ccae809b",
            "value": "vocab.txt: 100%"
          }
        },
        "53d6ccd0c3a741f0a126ec790a4c2ebc": {
          "model_module": "@jupyter-widgets/controls",
          "model_name": "FloatProgressModel",
          "model_module_version": "1.5.0",
          "state": {
            "_dom_classes": [],
            "_model_module": "@jupyter-widgets/controls",
            "_model_module_version": "1.5.0",
            "_model_name": "FloatProgressModel",
            "_view_count": null,
            "_view_module": "@jupyter-widgets/controls",
            "_view_module_version": "1.5.0",
            "_view_name": "ProgressView",
            "bar_style": "success",
            "description": "",
            "description_tooltip": null,
            "layout": "IPY_MODEL_799e9eaa9d7f463a864d07d3668cfb1b",
            "max": 186805,
            "min": 0,
            "orientation": "horizontal",
            "style": "IPY_MODEL_3b601758269246f582407735b0007ec5",
            "value": 186805
          }
        },
        "3443cf4385c44b2394811039f3285f5c": {
          "model_module": "@jupyter-widgets/controls",
          "model_name": "HTMLModel",
          "model_module_version": "1.5.0",
          "state": {
            "_dom_classes": [],
            "_model_module": "@jupyter-widgets/controls",
            "_model_module_version": "1.5.0",
            "_model_name": "HTMLModel",
            "_view_count": null,
            "_view_module": "@jupyter-widgets/controls",
            "_view_module_version": "1.5.0",
            "_view_name": "HTMLView",
            "description": "",
            "description_tooltip": null,
            "layout": "IPY_MODEL_4cfe124f436648c4a0fea9dc63e6704f",
            "placeholder": "​",
            "style": "IPY_MODEL_d0f3000235da45e8a95a277f3ee8df32",
            "value": " 187k/187k [00:00&lt;00:00, 1.12MB/s]"
          }
        },
        "203e4fdf4f924099b94febcf05cfc8a4": {
          "model_module": "@jupyter-widgets/base",
          "model_name": "LayoutModel",
          "model_module_version": "1.2.0",
          "state": {
            "_model_module": "@jupyter-widgets/base",
            "_model_module_version": "1.2.0",
            "_model_name": "LayoutModel",
            "_view_count": null,
            "_view_module": "@jupyter-widgets/base",
            "_view_module_version": "1.2.0",
            "_view_name": "LayoutView",
            "align_content": null,
            "align_items": null,
            "align_self": null,
            "border": null,
            "bottom": null,
            "display": null,
            "flex": null,
            "flex_flow": null,
            "grid_area": null,
            "grid_auto_columns": null,
            "grid_auto_flow": null,
            "grid_auto_rows": null,
            "grid_column": null,
            "grid_gap": null,
            "grid_row": null,
            "grid_template_areas": null,
            "grid_template_columns": null,
            "grid_template_rows": null,
            "height": null,
            "justify_content": null,
            "justify_items": null,
            "left": null,
            "margin": null,
            "max_height": null,
            "max_width": null,
            "min_height": null,
            "min_width": null,
            "object_fit": null,
            "object_position": null,
            "order": null,
            "overflow": null,
            "overflow_x": null,
            "overflow_y": null,
            "padding": null,
            "right": null,
            "top": null,
            "visibility": null,
            "width": null
          }
        },
        "00bac2bea4ef45d5b3a21bbba6699f7d": {
          "model_module": "@jupyter-widgets/base",
          "model_name": "LayoutModel",
          "model_module_version": "1.2.0",
          "state": {
            "_model_module": "@jupyter-widgets/base",
            "_model_module_version": "1.2.0",
            "_model_name": "LayoutModel",
            "_view_count": null,
            "_view_module": "@jupyter-widgets/base",
            "_view_module_version": "1.2.0",
            "_view_name": "LayoutView",
            "align_content": null,
            "align_items": null,
            "align_self": null,
            "border": null,
            "bottom": null,
            "display": null,
            "flex": null,
            "flex_flow": null,
            "grid_area": null,
            "grid_auto_columns": null,
            "grid_auto_flow": null,
            "grid_auto_rows": null,
            "grid_column": null,
            "grid_gap": null,
            "grid_row": null,
            "grid_template_areas": null,
            "grid_template_columns": null,
            "grid_template_rows": null,
            "height": null,
            "justify_content": null,
            "justify_items": null,
            "left": null,
            "margin": null,
            "max_height": null,
            "max_width": null,
            "min_height": null,
            "min_width": null,
            "object_fit": null,
            "object_position": null,
            "order": null,
            "overflow": null,
            "overflow_x": null,
            "overflow_y": null,
            "padding": null,
            "right": null,
            "top": null,
            "visibility": null,
            "width": null
          }
        },
        "39216b60a76842d99c5b86b4ccae809b": {
          "model_module": "@jupyter-widgets/controls",
          "model_name": "DescriptionStyleModel",
          "model_module_version": "1.5.0",
          "state": {
            "_model_module": "@jupyter-widgets/controls",
            "_model_module_version": "1.5.0",
            "_model_name": "DescriptionStyleModel",
            "_view_count": null,
            "_view_module": "@jupyter-widgets/base",
            "_view_module_version": "1.2.0",
            "_view_name": "StyleView",
            "description_width": ""
          }
        },
        "799e9eaa9d7f463a864d07d3668cfb1b": {
          "model_module": "@jupyter-widgets/base",
          "model_name": "LayoutModel",
          "model_module_version": "1.2.0",
          "state": {
            "_model_module": "@jupyter-widgets/base",
            "_model_module_version": "1.2.0",
            "_model_name": "LayoutModel",
            "_view_count": null,
            "_view_module": "@jupyter-widgets/base",
            "_view_module_version": "1.2.0",
            "_view_name": "LayoutView",
            "align_content": null,
            "align_items": null,
            "align_self": null,
            "border": null,
            "bottom": null,
            "display": null,
            "flex": null,
            "flex_flow": null,
            "grid_area": null,
            "grid_auto_columns": null,
            "grid_auto_flow": null,
            "grid_auto_rows": null,
            "grid_column": null,
            "grid_gap": null,
            "grid_row": null,
            "grid_template_areas": null,
            "grid_template_columns": null,
            "grid_template_rows": null,
            "height": null,
            "justify_content": null,
            "justify_items": null,
            "left": null,
            "margin": null,
            "max_height": null,
            "max_width": null,
            "min_height": null,
            "min_width": null,
            "object_fit": null,
            "object_position": null,
            "order": null,
            "overflow": null,
            "overflow_x": null,
            "overflow_y": null,
            "padding": null,
            "right": null,
            "top": null,
            "visibility": null,
            "width": null
          }
        },
        "3b601758269246f582407735b0007ec5": {
          "model_module": "@jupyter-widgets/controls",
          "model_name": "ProgressStyleModel",
          "model_module_version": "1.5.0",
          "state": {
            "_model_module": "@jupyter-widgets/controls",
            "_model_module_version": "1.5.0",
            "_model_name": "ProgressStyleModel",
            "_view_count": null,
            "_view_module": "@jupyter-widgets/base",
            "_view_module_version": "1.2.0",
            "_view_name": "StyleView",
            "bar_color": null,
            "description_width": ""
          }
        },
        "4cfe124f436648c4a0fea9dc63e6704f": {
          "model_module": "@jupyter-widgets/base",
          "model_name": "LayoutModel",
          "model_module_version": "1.2.0",
          "state": {
            "_model_module": "@jupyter-widgets/base",
            "_model_module_version": "1.2.0",
            "_model_name": "LayoutModel",
            "_view_count": null,
            "_view_module": "@jupyter-widgets/base",
            "_view_module_version": "1.2.0",
            "_view_name": "LayoutView",
            "align_content": null,
            "align_items": null,
            "align_self": null,
            "border": null,
            "bottom": null,
            "display": null,
            "flex": null,
            "flex_flow": null,
            "grid_area": null,
            "grid_auto_columns": null,
            "grid_auto_flow": null,
            "grid_auto_rows": null,
            "grid_column": null,
            "grid_gap": null,
            "grid_row": null,
            "grid_template_areas": null,
            "grid_template_columns": null,
            "grid_template_rows": null,
            "height": null,
            "justify_content": null,
            "justify_items": null,
            "left": null,
            "margin": null,
            "max_height": null,
            "max_width": null,
            "min_height": null,
            "min_width": null,
            "object_fit": null,
            "object_position": null,
            "order": null,
            "overflow": null,
            "overflow_x": null,
            "overflow_y": null,
            "padding": null,
            "right": null,
            "top": null,
            "visibility": null,
            "width": null
          }
        },
        "d0f3000235da45e8a95a277f3ee8df32": {
          "model_module": "@jupyter-widgets/controls",
          "model_name": "DescriptionStyleModel",
          "model_module_version": "1.5.0",
          "state": {
            "_model_module": "@jupyter-widgets/controls",
            "_model_module_version": "1.5.0",
            "_model_name": "DescriptionStyleModel",
            "_view_count": null,
            "_view_module": "@jupyter-widgets/base",
            "_view_module_version": "1.2.0",
            "_view_name": "StyleView",
            "description_width": ""
          }
        },
        "26d169005d224abeb830b1bde2e2bff9": {
          "model_module": "@jupyter-widgets/controls",
          "model_name": "HBoxModel",
          "model_module_version": "1.5.0",
          "state": {
            "_dom_classes": [],
            "_model_module": "@jupyter-widgets/controls",
            "_model_module_version": "1.5.0",
            "_model_name": "HBoxModel",
            "_view_count": null,
            "_view_module": "@jupyter-widgets/controls",
            "_view_module_version": "1.5.0",
            "_view_name": "HBoxView",
            "box_style": "",
            "children": [
              "IPY_MODEL_07fc15937b74429587a3b876e3d32840",
              "IPY_MODEL_79638db00c9f47b3bc92e53af3d3f512",
              "IPY_MODEL_abcc23defb0345dcb40f8edf261af243"
            ],
            "layout": "IPY_MODEL_ffc31947d1164a92a297a52e2cc943de"
          }
        },
        "07fc15937b74429587a3b876e3d32840": {
          "model_module": "@jupyter-widgets/controls",
          "model_name": "HTMLModel",
          "model_module_version": "1.5.0",
          "state": {
            "_dom_classes": [],
            "_model_module": "@jupyter-widgets/controls",
            "_model_module_version": "1.5.0",
            "_model_name": "HTMLModel",
            "_view_count": null,
            "_view_module": "@jupyter-widgets/controls",
            "_view_module_version": "1.5.0",
            "_view_name": "HTMLView",
            "description": "",
            "description_tooltip": null,
            "layout": "IPY_MODEL_74d26a6188bc4e12bad1788bdad10554",
            "placeholder": "​",
            "style": "IPY_MODEL_03447db9f6324ec2b068bec3be76f343",
            "value": "tokenizer.json: 100%"
          }
        },
        "79638db00c9f47b3bc92e53af3d3f512": {
          "model_module": "@jupyter-widgets/controls",
          "model_name": "FloatProgressModel",
          "model_module_version": "1.5.0",
          "state": {
            "_dom_classes": [],
            "_model_module": "@jupyter-widgets/controls",
            "_model_module_version": "1.5.0",
            "_model_name": "FloatProgressModel",
            "_view_count": null,
            "_view_module": "@jupyter-widgets/controls",
            "_view_module_version": "1.5.0",
            "_view_name": "ProgressView",
            "bar_style": "success",
            "description": "",
            "description_tooltip": null,
            "layout": "IPY_MODEL_a6e5af215b8445d99379e74209689c19",
            "max": 818260,
            "min": 0,
            "orientation": "horizontal",
            "style": "IPY_MODEL_9a49ecae39584c33a51159011c65a195",
            "value": 818260
          }
        },
        "abcc23defb0345dcb40f8edf261af243": {
          "model_module": "@jupyter-widgets/controls",
          "model_name": "HTMLModel",
          "model_module_version": "1.5.0",
          "state": {
            "_dom_classes": [],
            "_model_module": "@jupyter-widgets/controls",
            "_model_module_version": "1.5.0",
            "_model_name": "HTMLModel",
            "_view_count": null,
            "_view_module": "@jupyter-widgets/controls",
            "_view_module_version": "1.5.0",
            "_view_name": "HTMLView",
            "description": "",
            "description_tooltip": null,
            "layout": "IPY_MODEL_6a1deae64c9348caa6979e50ebda3b00",
            "placeholder": "​",
            "style": "IPY_MODEL_44ed4f1a545f4fdabbd94d7c8c1ee6f4",
            "value": " 818k/818k [00:00&lt;00:00, 2.51MB/s]"
          }
        },
        "ffc31947d1164a92a297a52e2cc943de": {
          "model_module": "@jupyter-widgets/base",
          "model_name": "LayoutModel",
          "model_module_version": "1.2.0",
          "state": {
            "_model_module": "@jupyter-widgets/base",
            "_model_module_version": "1.2.0",
            "_model_name": "LayoutModel",
            "_view_count": null,
            "_view_module": "@jupyter-widgets/base",
            "_view_module_version": "1.2.0",
            "_view_name": "LayoutView",
            "align_content": null,
            "align_items": null,
            "align_self": null,
            "border": null,
            "bottom": null,
            "display": null,
            "flex": null,
            "flex_flow": null,
            "grid_area": null,
            "grid_auto_columns": null,
            "grid_auto_flow": null,
            "grid_auto_rows": null,
            "grid_column": null,
            "grid_gap": null,
            "grid_row": null,
            "grid_template_areas": null,
            "grid_template_columns": null,
            "grid_template_rows": null,
            "height": null,
            "justify_content": null,
            "justify_items": null,
            "left": null,
            "margin": null,
            "max_height": null,
            "max_width": null,
            "min_height": null,
            "min_width": null,
            "object_fit": null,
            "object_position": null,
            "order": null,
            "overflow": null,
            "overflow_x": null,
            "overflow_y": null,
            "padding": null,
            "right": null,
            "top": null,
            "visibility": null,
            "width": null
          }
        },
        "74d26a6188bc4e12bad1788bdad10554": {
          "model_module": "@jupyter-widgets/base",
          "model_name": "LayoutModel",
          "model_module_version": "1.2.0",
          "state": {
            "_model_module": "@jupyter-widgets/base",
            "_model_module_version": "1.2.0",
            "_model_name": "LayoutModel",
            "_view_count": null,
            "_view_module": "@jupyter-widgets/base",
            "_view_module_version": "1.2.0",
            "_view_name": "LayoutView",
            "align_content": null,
            "align_items": null,
            "align_self": null,
            "border": null,
            "bottom": null,
            "display": null,
            "flex": null,
            "flex_flow": null,
            "grid_area": null,
            "grid_auto_columns": null,
            "grid_auto_flow": null,
            "grid_auto_rows": null,
            "grid_column": null,
            "grid_gap": null,
            "grid_row": null,
            "grid_template_areas": null,
            "grid_template_columns": null,
            "grid_template_rows": null,
            "height": null,
            "justify_content": null,
            "justify_items": null,
            "left": null,
            "margin": null,
            "max_height": null,
            "max_width": null,
            "min_height": null,
            "min_width": null,
            "object_fit": null,
            "object_position": null,
            "order": null,
            "overflow": null,
            "overflow_x": null,
            "overflow_y": null,
            "padding": null,
            "right": null,
            "top": null,
            "visibility": null,
            "width": null
          }
        },
        "03447db9f6324ec2b068bec3be76f343": {
          "model_module": "@jupyter-widgets/controls",
          "model_name": "DescriptionStyleModel",
          "model_module_version": "1.5.0",
          "state": {
            "_model_module": "@jupyter-widgets/controls",
            "_model_module_version": "1.5.0",
            "_model_name": "DescriptionStyleModel",
            "_view_count": null,
            "_view_module": "@jupyter-widgets/base",
            "_view_module_version": "1.2.0",
            "_view_name": "StyleView",
            "description_width": ""
          }
        },
        "a6e5af215b8445d99379e74209689c19": {
          "model_module": "@jupyter-widgets/base",
          "model_name": "LayoutModel",
          "model_module_version": "1.2.0",
          "state": {
            "_model_module": "@jupyter-widgets/base",
            "_model_module_version": "1.2.0",
            "_model_name": "LayoutModel",
            "_view_count": null,
            "_view_module": "@jupyter-widgets/base",
            "_view_module_version": "1.2.0",
            "_view_name": "LayoutView",
            "align_content": null,
            "align_items": null,
            "align_self": null,
            "border": null,
            "bottom": null,
            "display": null,
            "flex": null,
            "flex_flow": null,
            "grid_area": null,
            "grid_auto_columns": null,
            "grid_auto_flow": null,
            "grid_auto_rows": null,
            "grid_column": null,
            "grid_gap": null,
            "grid_row": null,
            "grid_template_areas": null,
            "grid_template_columns": null,
            "grid_template_rows": null,
            "height": null,
            "justify_content": null,
            "justify_items": null,
            "left": null,
            "margin": null,
            "max_height": null,
            "max_width": null,
            "min_height": null,
            "min_width": null,
            "object_fit": null,
            "object_position": null,
            "order": null,
            "overflow": null,
            "overflow_x": null,
            "overflow_y": null,
            "padding": null,
            "right": null,
            "top": null,
            "visibility": null,
            "width": null
          }
        },
        "9a49ecae39584c33a51159011c65a195": {
          "model_module": "@jupyter-widgets/controls",
          "model_name": "ProgressStyleModel",
          "model_module_version": "1.5.0",
          "state": {
            "_model_module": "@jupyter-widgets/controls",
            "_model_module_version": "1.5.0",
            "_model_name": "ProgressStyleModel",
            "_view_count": null,
            "_view_module": "@jupyter-widgets/base",
            "_view_module_version": "1.2.0",
            "_view_name": "StyleView",
            "bar_color": null,
            "description_width": ""
          }
        },
        "6a1deae64c9348caa6979e50ebda3b00": {
          "model_module": "@jupyter-widgets/base",
          "model_name": "LayoutModel",
          "model_module_version": "1.2.0",
          "state": {
            "_model_module": "@jupyter-widgets/base",
            "_model_module_version": "1.2.0",
            "_model_name": "LayoutModel",
            "_view_count": null,
            "_view_module": "@jupyter-widgets/base",
            "_view_module_version": "1.2.0",
            "_view_name": "LayoutView",
            "align_content": null,
            "align_items": null,
            "align_self": null,
            "border": null,
            "bottom": null,
            "display": null,
            "flex": null,
            "flex_flow": null,
            "grid_area": null,
            "grid_auto_columns": null,
            "grid_auto_flow": null,
            "grid_auto_rows": null,
            "grid_column": null,
            "grid_gap": null,
            "grid_row": null,
            "grid_template_areas": null,
            "grid_template_columns": null,
            "grid_template_rows": null,
            "height": null,
            "justify_content": null,
            "justify_items": null,
            "left": null,
            "margin": null,
            "max_height": null,
            "max_width": null,
            "min_height": null,
            "min_width": null,
            "object_fit": null,
            "object_position": null,
            "order": null,
            "overflow": null,
            "overflow_x": null,
            "overflow_y": null,
            "padding": null,
            "right": null,
            "top": null,
            "visibility": null,
            "width": null
          }
        },
        "44ed4f1a545f4fdabbd94d7c8c1ee6f4": {
          "model_module": "@jupyter-widgets/controls",
          "model_name": "DescriptionStyleModel",
          "model_module_version": "1.5.0",
          "state": {
            "_model_module": "@jupyter-widgets/controls",
            "_model_module_version": "1.5.0",
            "_model_name": "DescriptionStyleModel",
            "_view_count": null,
            "_view_module": "@jupyter-widgets/base",
            "_view_module_version": "1.2.0",
            "_view_name": "StyleView",
            "description_width": ""
          }
        },
        "4633a02d082f421b95b6e6d9d9df1658": {
          "model_module": "@jupyter-widgets/controls",
          "model_name": "HBoxModel",
          "model_module_version": "1.5.0",
          "state": {
            "_dom_classes": [],
            "_model_module": "@jupyter-widgets/controls",
            "_model_module_version": "1.5.0",
            "_model_name": "HBoxModel",
            "_view_count": null,
            "_view_module": "@jupyter-widgets/controls",
            "_view_module_version": "1.5.0",
            "_view_name": "HBoxView",
            "box_style": "",
            "children": [
              "IPY_MODEL_f5a4c3c1981647dab82eb7397fced495",
              "IPY_MODEL_bdbdf8c314db4120bb05741c70bed7f5",
              "IPY_MODEL_8dcfa4ff0b0c4ad6afae5188aa5b4ab2"
            ],
            "layout": "IPY_MODEL_8fef30be612b4c0e8f42f3a800e0786b"
          }
        },
        "f5a4c3c1981647dab82eb7397fced495": {
          "model_module": "@jupyter-widgets/controls",
          "model_name": "HTMLModel",
          "model_module_version": "1.5.0",
          "state": {
            "_dom_classes": [],
            "_model_module": "@jupyter-widgets/controls",
            "_model_module_version": "1.5.0",
            "_model_name": "HTMLModel",
            "_view_count": null,
            "_view_module": "@jupyter-widgets/controls",
            "_view_module_version": "1.5.0",
            "_view_name": "HTMLView",
            "description": "",
            "description_tooltip": null,
            "layout": "IPY_MODEL_73d09e088d614b5ab9f2594ff0e072b2",
            "placeholder": "​",
            "style": "IPY_MODEL_43c09a1067d647ceb902a90196bc70b8",
            "value": "special_tokens_map.json: 100%"
          }
        },
        "bdbdf8c314db4120bb05741c70bed7f5": {
          "model_module": "@jupyter-widgets/controls",
          "model_name": "FloatProgressModel",
          "model_module_version": "1.5.0",
          "state": {
            "_dom_classes": [],
            "_model_module": "@jupyter-widgets/controls",
            "_model_module_version": "1.5.0",
            "_model_name": "FloatProgressModel",
            "_view_count": null,
            "_view_module": "@jupyter-widgets/controls",
            "_view_module_version": "1.5.0",
            "_view_name": "ProgressView",
            "bar_style": "success",
            "description": "",
            "description_tooltip": null,
            "layout": "IPY_MODEL_c116bd91c81a43619d3793b952666f6d",
            "max": 125,
            "min": 0,
            "orientation": "horizontal",
            "style": "IPY_MODEL_352652fee4794b99a28023e8611e36b7",
            "value": 125
          }
        },
        "8dcfa4ff0b0c4ad6afae5188aa5b4ab2": {
          "model_module": "@jupyter-widgets/controls",
          "model_name": "HTMLModel",
          "model_module_version": "1.5.0",
          "state": {
            "_dom_classes": [],
            "_model_module": "@jupyter-widgets/controls",
            "_model_module_version": "1.5.0",
            "_model_name": "HTMLModel",
            "_view_count": null,
            "_view_module": "@jupyter-widgets/controls",
            "_view_module_version": "1.5.0",
            "_view_name": "HTMLView",
            "description": "",
            "description_tooltip": null,
            "layout": "IPY_MODEL_c9934d30724444dca2000f0332d9ef43",
            "placeholder": "​",
            "style": "IPY_MODEL_2d90f58566c54a49b15c9de836e6330b",
            "value": " 125/125 [00:00&lt;00:00, 3.17kB/s]"
          }
        },
        "8fef30be612b4c0e8f42f3a800e0786b": {
          "model_module": "@jupyter-widgets/base",
          "model_name": "LayoutModel",
          "model_module_version": "1.2.0",
          "state": {
            "_model_module": "@jupyter-widgets/base",
            "_model_module_version": "1.2.0",
            "_model_name": "LayoutModel",
            "_view_count": null,
            "_view_module": "@jupyter-widgets/base",
            "_view_module_version": "1.2.0",
            "_view_name": "LayoutView",
            "align_content": null,
            "align_items": null,
            "align_self": null,
            "border": null,
            "bottom": null,
            "display": null,
            "flex": null,
            "flex_flow": null,
            "grid_area": null,
            "grid_auto_columns": null,
            "grid_auto_flow": null,
            "grid_auto_rows": null,
            "grid_column": null,
            "grid_gap": null,
            "grid_row": null,
            "grid_template_areas": null,
            "grid_template_columns": null,
            "grid_template_rows": null,
            "height": null,
            "justify_content": null,
            "justify_items": null,
            "left": null,
            "margin": null,
            "max_height": null,
            "max_width": null,
            "min_height": null,
            "min_width": null,
            "object_fit": null,
            "object_position": null,
            "order": null,
            "overflow": null,
            "overflow_x": null,
            "overflow_y": null,
            "padding": null,
            "right": null,
            "top": null,
            "visibility": null,
            "width": null
          }
        },
        "73d09e088d614b5ab9f2594ff0e072b2": {
          "model_module": "@jupyter-widgets/base",
          "model_name": "LayoutModel",
          "model_module_version": "1.2.0",
          "state": {
            "_model_module": "@jupyter-widgets/base",
            "_model_module_version": "1.2.0",
            "_model_name": "LayoutModel",
            "_view_count": null,
            "_view_module": "@jupyter-widgets/base",
            "_view_module_version": "1.2.0",
            "_view_name": "LayoutView",
            "align_content": null,
            "align_items": null,
            "align_self": null,
            "border": null,
            "bottom": null,
            "display": null,
            "flex": null,
            "flex_flow": null,
            "grid_area": null,
            "grid_auto_columns": null,
            "grid_auto_flow": null,
            "grid_auto_rows": null,
            "grid_column": null,
            "grid_gap": null,
            "grid_row": null,
            "grid_template_areas": null,
            "grid_template_columns": null,
            "grid_template_rows": null,
            "height": null,
            "justify_content": null,
            "justify_items": null,
            "left": null,
            "margin": null,
            "max_height": null,
            "max_width": null,
            "min_height": null,
            "min_width": null,
            "object_fit": null,
            "object_position": null,
            "order": null,
            "overflow": null,
            "overflow_x": null,
            "overflow_y": null,
            "padding": null,
            "right": null,
            "top": null,
            "visibility": null,
            "width": null
          }
        },
        "43c09a1067d647ceb902a90196bc70b8": {
          "model_module": "@jupyter-widgets/controls",
          "model_name": "DescriptionStyleModel",
          "model_module_version": "1.5.0",
          "state": {
            "_model_module": "@jupyter-widgets/controls",
            "_model_module_version": "1.5.0",
            "_model_name": "DescriptionStyleModel",
            "_view_count": null,
            "_view_module": "@jupyter-widgets/base",
            "_view_module_version": "1.2.0",
            "_view_name": "StyleView",
            "description_width": ""
          }
        },
        "c116bd91c81a43619d3793b952666f6d": {
          "model_module": "@jupyter-widgets/base",
          "model_name": "LayoutModel",
          "model_module_version": "1.2.0",
          "state": {
            "_model_module": "@jupyter-widgets/base",
            "_model_module_version": "1.2.0",
            "_model_name": "LayoutModel",
            "_view_count": null,
            "_view_module": "@jupyter-widgets/base",
            "_view_module_version": "1.2.0",
            "_view_name": "LayoutView",
            "align_content": null,
            "align_items": null,
            "align_self": null,
            "border": null,
            "bottom": null,
            "display": null,
            "flex": null,
            "flex_flow": null,
            "grid_area": null,
            "grid_auto_columns": null,
            "grid_auto_flow": null,
            "grid_auto_rows": null,
            "grid_column": null,
            "grid_gap": null,
            "grid_row": null,
            "grid_template_areas": null,
            "grid_template_columns": null,
            "grid_template_rows": null,
            "height": null,
            "justify_content": null,
            "justify_items": null,
            "left": null,
            "margin": null,
            "max_height": null,
            "max_width": null,
            "min_height": null,
            "min_width": null,
            "object_fit": null,
            "object_position": null,
            "order": null,
            "overflow": null,
            "overflow_x": null,
            "overflow_y": null,
            "padding": null,
            "right": null,
            "top": null,
            "visibility": null,
            "width": null
          }
        },
        "352652fee4794b99a28023e8611e36b7": {
          "model_module": "@jupyter-widgets/controls",
          "model_name": "ProgressStyleModel",
          "model_module_version": "1.5.0",
          "state": {
            "_model_module": "@jupyter-widgets/controls",
            "_model_module_version": "1.5.0",
            "_model_name": "ProgressStyleModel",
            "_view_count": null,
            "_view_module": "@jupyter-widgets/base",
            "_view_module_version": "1.2.0",
            "_view_name": "StyleView",
            "bar_color": null,
            "description_width": ""
          }
        },
        "c9934d30724444dca2000f0332d9ef43": {
          "model_module": "@jupyter-widgets/base",
          "model_name": "LayoutModel",
          "model_module_version": "1.2.0",
          "state": {
            "_model_module": "@jupyter-widgets/base",
            "_model_module_version": "1.2.0",
            "_model_name": "LayoutModel",
            "_view_count": null,
            "_view_module": "@jupyter-widgets/base",
            "_view_module_version": "1.2.0",
            "_view_name": "LayoutView",
            "align_content": null,
            "align_items": null,
            "align_self": null,
            "border": null,
            "bottom": null,
            "display": null,
            "flex": null,
            "flex_flow": null,
            "grid_area": null,
            "grid_auto_columns": null,
            "grid_auto_flow": null,
            "grid_auto_rows": null,
            "grid_column": null,
            "grid_gap": null,
            "grid_row": null,
            "grid_template_areas": null,
            "grid_template_columns": null,
            "grid_template_rows": null,
            "height": null,
            "justify_content": null,
            "justify_items": null,
            "left": null,
            "margin": null,
            "max_height": null,
            "max_width": null,
            "min_height": null,
            "min_width": null,
            "object_fit": null,
            "object_position": null,
            "order": null,
            "overflow": null,
            "overflow_x": null,
            "overflow_y": null,
            "padding": null,
            "right": null,
            "top": null,
            "visibility": null,
            "width": null
          }
        },
        "2d90f58566c54a49b15c9de836e6330b": {
          "model_module": "@jupyter-widgets/controls",
          "model_name": "DescriptionStyleModel",
          "model_module_version": "1.5.0",
          "state": {
            "_model_module": "@jupyter-widgets/controls",
            "_model_module_version": "1.5.0",
            "_model_name": "DescriptionStyleModel",
            "_view_count": null,
            "_view_module": "@jupyter-widgets/base",
            "_view_module_version": "1.2.0",
            "_view_name": "StyleView",
            "description_width": ""
          }
        }
      }
    }
  },
  "nbformat": 4,
  "nbformat_minor": 0
}